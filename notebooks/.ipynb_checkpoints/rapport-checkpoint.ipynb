{
 "cells": [
  {
   "cell_type": "code",
   "execution_count": 2,
   "metadata": {},
   "outputs": [],
   "source": [
    "import pyAgrum as gum\n",
    "import pyAgrum.lib.notebook as gnb"
   ]
  },
  {
   "cell_type": "code",
   "execution_count": 3,
   "metadata": {},
   "outputs": [],
   "source": [
    "%reload_ext autoreload\n",
    "%autoreload 2\n",
    "from projet_madi import *"
   ]
  },
  {
   "cell_type": "code",
   "execution_count": 4,
   "metadata": {},
   "outputs": [
    {
     "data": {
      "image/svg+xml": [
       "<svg height=\"188pt\" viewBox=\"0.00 0.00 134.00 188.00\" width=\"134pt\" xmlns=\"http://www.w3.org/2000/svg\" xmlns:xlink=\"http://www.w3.org/1999/xlink\">\n",
       "<g class=\"graph\" id=\"graph0\" transform=\"scale(1 1) rotate(0) translate(4 184)\">\n",
       "<title>G</title>\n",
       "<!-- A -->\n",
       "<g class=\"node\" id=\"node1\">\n",
       "<title>A</title>\n",
       "<g id=\"a_node1\"><a xlink:title=\"(0) A\">\n",
       "<ellipse cx=\"27\" cy=\"-162\" fill=\"#404040\" rx=\"27\" ry=\"18\" stroke=\"#000000\"/>\n",
       "<text fill=\"#ffffff\" font-family=\"Times,serif\" font-size=\"14.00\" text-anchor=\"middle\" x=\"27\" y=\"-158.3\">A</text>\n",
       "</a>\n",
       "</g>\n",
       "</g>\n",
       "<!-- B -->\n",
       "<g class=\"node\" id=\"node2\">\n",
       "<title>B</title>\n",
       "<g id=\"a_node2\"><a xlink:title=\"(1) B\">\n",
       "<ellipse cx=\"27\" cy=\"-90\" fill=\"#404040\" rx=\"27\" ry=\"18\" stroke=\"#000000\"/>\n",
       "<text fill=\"#ffffff\" font-family=\"Times,serif\" font-size=\"14.00\" text-anchor=\"middle\" x=\"27\" y=\"-86.3\">B</text>\n",
       "</a>\n",
       "</g>\n",
       "</g>\n",
       "<!-- A&#45;&gt;B -->\n",
       "<g class=\"edge\" id=\"edge1\">\n",
       "<title>A-&gt;B</title>\n",
       "<g id=\"a_edge1\"><a xlink:title=\"(0, 1) : \">\n",
       "<path d=\"M27,-143.8314C27,-136.131 27,-126.9743 27,-118.4166\" fill=\"none\" stroke=\"#4a4a4a\"/>\n",
       "<polygon fill=\"#4a4a4a\" points=\"30.5001,-118.4132 27,-108.4133 23.5001,-118.4133 30.5001,-118.4132\" stroke=\"#4a4a4a\"/>\n",
       "</a>\n",
       "</g>\n",
       "</g>\n",
       "<!-- E -->\n",
       "<g class=\"node\" id=\"node5\">\n",
       "<title>E</title>\n",
       "<g id=\"a_node5\"><a xlink:title=\"(4) E\">\n",
       "<ellipse cx=\"63\" cy=\"-18\" fill=\"#404040\" rx=\"27\" ry=\"18\" stroke=\"#000000\"/>\n",
       "<text fill=\"#ffffff\" font-family=\"Times,serif\" font-size=\"14.00\" text-anchor=\"middle\" x=\"63\" y=\"-14.3\">E</text>\n",
       "</a>\n",
       "</g>\n",
       "</g>\n",
       "<!-- B&#45;&gt;E -->\n",
       "<g class=\"edge\" id=\"edge2\">\n",
       "<title>B-&gt;E</title>\n",
       "<g id=\"a_edge2\"><a xlink:title=\"(1, 4) : \">\n",
       "<path d=\"M35.7146,-72.5708C39.9597,-64.0807 45.1536,-53.6929 49.8663,-44.2674\" fill=\"none\" stroke=\"#4a4a4a\"/>\n",
       "<polygon fill=\"#4a4a4a\" points=\"53.024,-45.7782 54.3657,-35.2687 46.763,-42.6477 53.024,-45.7782\" stroke=\"#4a4a4a\"/>\n",
       "</a>\n",
       "</g>\n",
       "</g>\n",
       "<!-- C -->\n",
       "<g class=\"node\" id=\"node3\">\n",
       "<title>C</title>\n",
       "<g id=\"a_node3\"><a xlink:title=\"(2) C\">\n",
       "<ellipse cx=\"99\" cy=\"-162\" fill=\"#404040\" rx=\"27\" ry=\"18\" stroke=\"#000000\"/>\n",
       "<text fill=\"#ffffff\" font-family=\"Times,serif\" font-size=\"14.00\" text-anchor=\"middle\" x=\"99\" y=\"-158.3\">C</text>\n",
       "</a>\n",
       "</g>\n",
       "</g>\n",
       "<!-- C&#45;&gt;B -->\n",
       "<g class=\"edge\" id=\"edge3\">\n",
       "<title>C-&gt;B</title>\n",
       "<g id=\"a_edge3\"><a xlink:title=\"(2, 1) : \">\n",
       "<path d=\"M83.7307,-146.7307C73.803,-136.803 60.6847,-123.6847 49.5637,-112.5637\" fill=\"none\" stroke=\"#4a4a4a\"/>\n",
       "<polygon fill=\"#4a4a4a\" points=\"51.7933,-109.8436 42.2473,-105.2473 46.8436,-114.7933 51.7933,-109.8436\" stroke=\"#4a4a4a\"/>\n",
       "</a>\n",
       "</g>\n",
       "</g>\n",
       "<!-- D -->\n",
       "<g class=\"node\" id=\"node4\">\n",
       "<title>D</title>\n",
       "<g id=\"a_node4\"><a xlink:title=\"(3) D\">\n",
       "<ellipse cx=\"99\" cy=\"-90\" fill=\"#404040\" rx=\"27\" ry=\"18\" stroke=\"#000000\"/>\n",
       "<text fill=\"#ffffff\" font-family=\"Times,serif\" font-size=\"14.00\" text-anchor=\"middle\" x=\"99\" y=\"-86.3\">D</text>\n",
       "</a>\n",
       "</g>\n",
       "</g>\n",
       "<!-- C&#45;&gt;D -->\n",
       "<g class=\"edge\" id=\"edge4\">\n",
       "<title>C-&gt;D</title>\n",
       "<g id=\"a_edge4\"><a xlink:title=\"(2, 3) : \">\n",
       "<path d=\"M99,-143.8314C99,-136.131 99,-126.9743 99,-118.4166\" fill=\"none\" stroke=\"#4a4a4a\"/>\n",
       "<polygon fill=\"#4a4a4a\" points=\"102.5001,-118.4132 99,-108.4133 95.5001,-118.4133 102.5001,-118.4132\" stroke=\"#4a4a4a\"/>\n",
       "</a>\n",
       "</g>\n",
       "</g>\n",
       "<!-- D&#45;&gt;E -->\n",
       "<g class=\"edge\" id=\"edge5\">\n",
       "<title>D-&gt;E</title>\n",
       "<g id=\"a_edge5\"><a xlink:title=\"(3, 4) : \">\n",
       "<path d=\"M90.2854,-72.5708C86.0403,-64.0807 80.8464,-53.6929 76.1337,-44.2674\" fill=\"none\" stroke=\"#4a4a4a\"/>\n",
       "<polygon fill=\"#4a4a4a\" points=\"79.237,-42.6477 71.6343,-35.2687 72.976,-45.7782 79.237,-42.6477\" stroke=\"#4a4a4a\"/>\n",
       "</a>\n",
       "</g>\n",
       "</g>\n",
       "</g>\n",
       "</svg>"
      ],
      "text/plain": [
       "<IPython.core.display.SVG object>"
      ]
     },
     "metadata": {},
     "output_type": "display_data"
    }
   ],
   "source": [
    "bn=gum.fastBN(\"A->B<-C->D->E<-B\")\n",
    "gnb.showBN(bn)"
   ]
  },
  {
   "cell_type": "code",
   "execution_count": 5,
   "metadata": {},
   "outputs": [
    {
     "data": {
      "image/svg+xml": [
       "<svg height=\"309pt\" viewBox=\"0.00 0.00 333.13 308.93\" width=\"333pt\" xmlns=\"http://www.w3.org/2000/svg\" xmlns:xlink=\"http://www.w3.org/1999/xlink\">\n",
       "<g class=\"graph\" id=\"graph0\" transform=\"scale(1 1) rotate(0) translate(4 304.9308)\">\n",
       "<title>FG</title>\n",
       "<polygon fill=\"#ffffff\" points=\"-4,4 -4,-304.9308 329.1291,-304.9308 329.1291,4 -4,4\" stroke=\"transparent\"/>\n",
       "<!-- A -->\n",
       "<g class=\"node\" id=\"node1\">\n",
       "<title>A</title>\n",
       "<polygon fill=\"#ff7f50\" points=\"77.0144,-171.8373 67.0144,-171.8373 67.0144,-156.8373 77.0144,-156.8373 77.0144,-171.8373\" stroke=\"#ff7f50\"/>\n",
       "<text fill=\"#000000\" font-family=\"Times,serif\" font-size=\"14.00\" text-anchor=\"middle\" x=\"72.0144\" y=\"-160.6373\">A</text>\n",
       "</g>\n",
       "<!-- B -->\n",
       "<g class=\"node\" id=\"node2\">\n",
       "<title>B</title>\n",
       "<polygon fill=\"#ff7f50\" points=\"204.6009,-225.2645 194.6009,-225.2645 194.6009,-210.2645 204.6009,-210.2645 204.6009,-225.2645\" stroke=\"#ff7f50\"/>\n",
       "<text fill=\"#000000\" font-family=\"Times,serif\" font-size=\"14.00\" text-anchor=\"middle\" x=\"199.6009\" y=\"-214.0645\">B</text>\n",
       "</g>\n",
       "<!-- C -->\n",
       "<g class=\"node\" id=\"node3\">\n",
       "<title>C</title>\n",
       "<polygon fill=\"#ff7f50\" points=\"196.656,-84.5989 186.656,-84.5989 186.656,-69.5989 196.656,-69.5989 196.656,-84.5989\" stroke=\"#ff7f50\"/>\n",
       "<text fill=\"#000000\" font-family=\"Times,serif\" font-size=\"14.00\" text-anchor=\"middle\" x=\"191.656\" y=\"-73.3989\">C</text>\n",
       "</g>\n",
       "<!-- D -->\n",
       "<g class=\"node\" id=\"node4\">\n",
       "<title>D</title>\n",
       "<polygon fill=\"#ff7f50\" points=\"324.7285,-161.0977 314.7285,-161.0977 314.7285,-146.0977 324.7285,-146.0977 324.7285,-161.0977\" stroke=\"#ff7f50\"/>\n",
       "<text fill=\"#000000\" font-family=\"Times,serif\" font-size=\"14.00\" text-anchor=\"middle\" x=\"319.7285\" y=\"-149.8977\">D</text>\n",
       "</g>\n",
       "<!-- E -->\n",
       "<g class=\"node\" id=\"node5\">\n",
       "<title>E</title>\n",
       "<polygon fill=\"#ff7f50\" points=\"325.1291,-300.9308 316.1291,-300.9308 316.1291,-285.9308 325.1291,-285.9308 325.1291,-300.9308\" stroke=\"#ff7f50\"/>\n",
       "<text fill=\"#000000\" font-family=\"Times,serif\" font-size=\"14.00\" text-anchor=\"middle\" x=\"320.6291\" y=\"-289.7308\">E</text>\n",
       "</g>\n",
       "<!-- pA -->\n",
       "<g class=\"node\" id=\"node6\">\n",
       "<title>pA</title>\n",
       "<ellipse cx=\"0\" cy=\"-184.1023\" fill=\"#ff7f50\" rx=\"0\" ry=\"0\" stroke=\"#ff7f50\"/>\n",
       "</g>\n",
       "<!-- pA&#45;&#45;A -->\n",
       "<g class=\"edge\" id=\"edge1\">\n",
       "<title>pA--A</title>\n",
       "<path d=\"M.0522,-184.088C1.8751,-183.5876 50.9369,-170.1222 66.9862,-165.7173\" fill=\"none\" stroke=\"#000000\"/>\n",
       "</g>\n",
       "<!-- pBgCA -->\n",
       "<g class=\"node\" id=\"node7\">\n",
       "<title>pBgCA</title>\n",
       "<ellipse cx=\"149.9889\" cy=\"-150.5234\" fill=\"#ff7f50\" rx=\"0\" ry=\"0\" stroke=\"#ff7f50\"/>\n",
       "</g>\n",
       "<!-- pBgCA&#45;&#45;A -->\n",
       "<g class=\"edge\" id=\"edge3\">\n",
       "<title>pBgCA--A</title>\n",
       "<path d=\"M149.9324,-150.5334C147.9586,-150.8831 94.8363,-160.2942 77.4586,-163.3728\" fill=\"none\" stroke=\"#000000\"/>\n",
       "</g>\n",
       "<!-- pBgCA&#45;&#45;B -->\n",
       "<g class=\"edge\" id=\"edge4\">\n",
       "<title>pBgCA--B</title>\n",
       "<path d=\"M150.0249,-150.5721C151.222,-152.1947 181.9925,-193.8991 194.4435,-210.7746\" fill=\"none\" stroke=\"#000000\"/>\n",
       "</g>\n",
       "<!-- pBgCA&#45;&#45;C -->\n",
       "<g class=\"edge\" id=\"edge2\">\n",
       "<title>pBgCA--C</title>\n",
       "<path d=\"M150.0191,-150.4702C151.0246,-148.6984 176.8674,-103.1589 187.3246,-84.7316\" fill=\"none\" stroke=\"#000000\"/>\n",
       "</g>\n",
       "<!-- pC -->\n",
       "<g class=\"node\" id=\"node8\">\n",
       "<title>pC</title>\n",
       "<ellipse cx=\"174.4933\" cy=\"0\" fill=\"#ff7f50\" rx=\"0\" ry=\"0\" stroke=\"#ff7f50\"/>\n",
       "</g>\n",
       "<!-- pC&#45;&#45;C -->\n",
       "<g class=\"edge\" id=\"edge5\">\n",
       "<title>pC--C</title>\n",
       "<path d=\"M174.5057,-.0559C174.9219,-1.9254 185.6692,-50.2047 189.9348,-69.3668\" fill=\"none\" stroke=\"#000000\"/>\n",
       "</g>\n",
       "<!-- pDgC -->\n",
       "<g class=\"node\" id=\"node9\">\n",
       "<title>pDgC</title>\n",
       "<ellipse cx=\"274.4374\" cy=\"-86.6345\" fill=\"#ff7f50\" rx=\"0\" ry=\"0\" stroke=\"#ff7f50\"/>\n",
       "</g>\n",
       "<!-- pDgC&#45;&#45;C -->\n",
       "<g class=\"edge\" id=\"edge6\">\n",
       "<title>pDgC--C</title>\n",
       "<path d=\"M274.3774,-86.6276C272.2624,-86.3839 214.826,-79.7679 196.9287,-77.7063\" fill=\"none\" stroke=\"#000000\"/>\n",
       "</g>\n",
       "<!-- pDgC&#45;&#45;D -->\n",
       "<g class=\"edge\" id=\"edge7\">\n",
       "<title>pDgC--D</title>\n",
       "<path d=\"M274.4703,-86.683C275.5524,-88.283 303.1055,-129.0204 314.6812,-146.1353\" fill=\"none\" stroke=\"#000000\"/>\n",
       "</g>\n",
       "<!-- pEgBD -->\n",
       "<g class=\"node\" id=\"node10\">\n",
       "<title>pEgBD</title>\n",
       "<ellipse cx=\"280.8497\" cy=\"-226.9116\" fill=\"#ff7f50\" rx=\"0\" ry=\"0\" stroke=\"#ff7f50\"/>\n",
       "</g>\n",
       "<!-- pEgBD&#45;&#45;B -->\n",
       "<g class=\"edge\" id=\"edge8\">\n",
       "<title>pEgBD--B</title>\n",
       "<path d=\"M280.7908,-226.905C278.7149,-226.6713 222.3418,-220.3247 204.7759,-218.3471\" fill=\"none\" stroke=\"#000000\"/>\n",
       "</g>\n",
       "<!-- pEgBD&#45;&#45;D -->\n",
       "<g class=\"edge\" id=\"edge9\">\n",
       "<title>pEgBD--D</title>\n",
       "<path d=\"M280.8779,-226.8585C281.816,-225.0894 305.9295,-179.6185 315.6869,-161.2189\" fill=\"none\" stroke=\"#000000\"/>\n",
       "</g>\n",
       "<!-- pEgBD&#45;&#45;E -->\n",
       "<g class=\"edge\" id=\"edge10\">\n",
       "<title>pEgBD--E</title>\n",
       "<path d=\"M280.8785,-226.9598C281.8196,-228.5335 305.5521,-268.219 315.89,-285.5061\" fill=\"none\" stroke=\"#000000\"/>\n",
       "</g>\n",
       "</g>\n",
       "</svg>"
      ],
      "text/plain": [
       "<IPython.core.display.SVG object>"
      ]
     },
     "execution_count": 5,
     "metadata": {},
     "output_type": "execute_result"
    }
   ],
   "source": [
    "fg=FactorGraph()\n",
    "fg.build(bn)\n",
    "fg.show()"
   ]
  },
  {
   "cell_type": "code",
   "execution_count": 6,
   "metadata": {},
   "outputs": [
    {
     "data": {
      "text/html": [
       "<table style=\"border:1px solid black;\">\n",
       "<tr style='border:1px solid black;color:black;background-color:#808080'><th colspan='2'><center>D</center></th></tr>\n",
       "<tr><th style='border:1px solid black;border-bottom-style: double;color:black;background-color:#BBBBBB'><center>0</center></th><th style='border:1px solid black;border-bottom-style: double;color:black;background-color:#BBBBBB'><center>1</center></th></tr>\n",
       "<tr><td style='color:black;background-color:#c7b664;text-align:right;'>0.4366</td><td style='color:black;background-color:#b6c764;text-align:right;'>0.5634</td></tr>\n",
       "</table>"
      ],
      "text/plain": [
       "(gum::Potential<double>@0x55c2199fb0a0) <D:0> :: 0.436636 /<D:1> :: 0.563364"
      ]
     },
     "execution_count": 6,
     "metadata": {},
     "output_type": "execute_result"
    }
   ],
   "source": [
    "spi=TreeSumProductInference(fg) # Crée une instance d'inférence\n",
    "spi.makeInference()         # effectue les calculs de tous les messages\n",
    "spi.posterior(\"D\")          # retourne la distribution de 'A' sous la forme d'un `gum.Potential`"
   ]
  },
  {
   "cell_type": "code",
   "execution_count": 7,
   "metadata": {},
   "outputs": [
    {
     "data": {
      "text/html": [
       "<table style=\"border:1px solid black;\">\n",
       "<tr style='border:1px solid black;color:black;background-color:#808080'><th colspan='2'><center>D</center></th></tr>\n",
       "<tr><th style='border:1px solid black;border-bottom-style: double;color:black;background-color:#BBBBBB'><center>0</center></th><th style='border:1px solid black;border-bottom-style: double;color:black;background-color:#BBBBBB'><center>1</center></th></tr>\n",
       "<tr><td style='color:black;background-color:#c7b664;text-align:right;'>0.4366</td><td style='color:black;background-color:#b6c764;text-align:right;'>0.5634</td></tr>\n",
       "</table>"
      ],
      "text/plain": [
       "(gum::Potential<double>@0x55c219e97fe0) <D:0> :: 0.436636 /<D:1> :: 0.563364"
      ]
     },
     "execution_count": 7,
     "metadata": {},
     "output_type": "execute_result"
    }
   ],
   "source": [
    "ie = gum.LazyPropagation(bn)\n",
    "ie.makeInference()\n",
    "ie.posterior(\"D\")"
   ]
  },
  {
   "cell_type": "code",
   "execution_count": 9,
   "metadata": {},
   "outputs": [
    {
     "data": {
      "text/plain": [
       "{'A': 0, 'C': 1, 'B': 0, 'D': 1, 'E': 0}"
      ]
     },
     "execution_count": 9,
     "metadata": {},
     "output_type": "execute_result"
    }
   ],
   "source": [
    "mpi=TreeMaxProductInference(fg)\n",
    "mpi.makeInference()         # effectue les calculs de tous les messages\n",
    "mpi.argmax()                # retourne un dictionnaire des valeurs des variables pour le MAP"
   ]
  },
  {
   "cell_type": "code",
   "execution_count": 10,
   "metadata": {},
   "outputs": [
    {
     "data": {
      "text/plain": [
       "{'A': 0, 'C': 1, 'B': 0, 'D': 1, 'E': 0}"
      ]
     },
     "execution_count": 10,
     "metadata": {},
     "output_type": "execute_result"
    }
   ],
   "source": [
    "mpi=TreeMaxSumInference(fg) #ou TreeMaxSumInference\n",
    "mpi.makeInference()         # effectue les calculs de tous les messages\n",
    "mpi.argmax()                # retourne un dictionnaire des valeurs des variables pour le MAP"
   ]
  },
  {
   "cell_type": "code",
   "execution_count": 49,
   "metadata": {},
   "outputs": [
    {
     "name": "stdout",
     "output_type": "stream",
     "text": [
      "variable 0 : A[0,1]\n",
      "variable 1 : B[0,1]\n",
      "variable 2 : C[0,1]\n",
      "variable 3 : D[0,1]\n",
      "variable 4 : E[0,1]\n",
      "\n",
      "cpt 0 : <A:0> :: 0.585004 /<A:1> :: 0.414996\n",
      "cpt 1 : <B:0|A:0|C:0> :: 0.0459456 /<B:1|A:0|C:0> :: 0.954054 /<B:0|A:1|C:0> :: 0.80245 /<B:1|A:1|C:0> :: 0.19755 /<B:0|A:0|C:1> :: 0.746539 /<B:1|A:0|C:1> :: 0.253461 /<B:0|A:1|C:1> :: 0.756277 /<B:1|A:1|C:1> :: 0.243723\n",
      "cpt 2 : <C:0> :: 0.0973592 /<C:1> :: 0.902641\n",
      "cpt 3 : <D:0|C:0> :: 0.580765 /<D:1|C:0> :: 0.419235 /<D:0|C:1> :: 0.144651 /<D:1|C:1> :: 0.855349\n",
      "cpt 4 : <E:0|D:0|B:0> :: 0.592774 /<E:1|D:0|B:0> :: 0.407226 /<E:0|D:1|B:0> :: 0.0318466 /<E:1|D:1|B:0> :: 0.968153 /<E:0|D:0|B:1> :: 0.294828 /<E:1|D:0|B:1> :: 0.705172 /<E:0|D:1|B:1> :: 0.422301 /<E:1|D:1|B:1> :: 0.577699\n"
     ]
    }
   ],
   "source": [
    "for i in bn.nodes():\n",
    "    print(\"variable {} : {}\".format(i,bn.variable(i)))\n",
    "print()\n",
    "for i in bn.nodes():\n",
    "    print(\"cpt {} : {}\".format(i,bn.cpt(i)))"
   ]
  },
  {
   "cell_type": "code",
   "execution_count": 50,
   "metadata": {},
   "outputs": [
    {
     "data": {
      "text/plain": [
       "array([[[0.04594559, 0.95405441],\n",
       "        [0.80244963, 0.19755037]],\n",
       "\n",
       "       [[0.74653909, 0.25346091],\n",
       "        [0.75627742, 0.24372258]]])"
      ]
     },
     "execution_count": 50,
     "metadata": {},
     "output_type": "execute_result"
    }
   ],
   "source": [
    "bn.cpt(1).nbrDim()\n",
    "bn.cpt(1).toarray()"
   ]
  },
  {
   "cell_type": "code",
   "execution_count": 75,
   "metadata": {},
   "outputs": [
    {
     "data": {
      "text/plain": [
       "['C', 'A', 'B']"
      ]
     },
     "execution_count": 75,
     "metadata": {},
     "output_type": "execute_result"
    }
   ],
   "source": [
    "bn.cpt(1).var_names"
   ]
  },
  {
   "cell_type": "code",
   "execution_count": 51,
   "metadata": {},
   "outputs": [
    {
     "name": "stdout",
     "output_type": "stream",
     "text": [
      "<A:0|B:0|C:0> :: 0.0268783 /<A:1|B:0|C:0> :: 0.333014 /<A:0|B:1|C:0> :: 0.558125 /<A:1|B:1|C:0> :: 0.0819826 /<A:0|B:0|C:1> :: 0.436728 /<A:1|B:0|C:1> :: 0.313852 /<A:0|B:1|C:1> :: 0.148276 /<A:1|B:1|C:1> :: 0.101144\n"
     ]
    }
   ],
   "source": [
    "print((bn.cpt(0) * bn.cpt(1)))"
   ]
  },
  {
   "cell_type": "code",
   "execution_count": 116,
   "metadata": {},
   "outputs": [
    {
     "name": "stdout",
     "output_type": "stream",
     "text": [
      "<C:0|A:0|B:0> :: 0.00261685 /<C:1|A:0|B:0> :: 0.394209 /<C:0|A:1|B:0> :: 0.0324219 /<C:1|A:1|B:0> :: 0.283296 /<C:0|A:0|B:1> :: 0.0543386 /<C:1|A:0|B:1> :: 0.13384 /<C:0|A:1|B:1> :: 0.00798176 /<C:1|A:1|B:1> :: 0.0912967\n"
     ]
    }
   ],
   "source": [
    "print((bn.cpt(0) * bn.cpt(1)) * bn.cpt(2))"
   ]
  },
  {
   "cell_type": "code",
   "execution_count": 66,
   "metadata": {},
   "outputs": [
    {
     "data": {
      "text/plain": [
       "['A']"
      ]
     },
     "execution_count": 66,
     "metadata": {},
     "output_type": "execute_result"
    }
   ],
   "source": [
    "fg.factors[0].var_names"
   ]
  },
  {
   "cell_type": "code",
   "execution_count": null,
   "metadata": {},
   "outputs": [],
   "source": []
  }
 ],
 "metadata": {
  "kernelspec": {
   "display_name": "Python 3",
   "language": "python",
   "name": "python3"
  },
  "language_info": {
   "codemirror_mode": {
    "name": "ipython",
    "version": 3
   },
   "file_extension": ".py",
   "mimetype": "text/x-python",
   "name": "python",
   "nbconvert_exporter": "python",
   "pygments_lexer": "ipython3",
   "version": "3.7.4"
  }
 },
 "nbformat": 4,
 "nbformat_minor": 4
}
