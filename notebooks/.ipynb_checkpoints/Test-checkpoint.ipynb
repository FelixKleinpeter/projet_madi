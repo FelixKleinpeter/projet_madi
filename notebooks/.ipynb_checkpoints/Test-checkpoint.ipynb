{
 "cells": [
  {
   "cell_type": "code",
   "execution_count": 1,
   "metadata": {},
   "outputs": [],
   "source": [
    "import pyAgrum as gum\n",
    "import pyAgrum.lib.notebook as gnb\n",
    "import math\n",
    "import pydotplus as dot\n",
    "from IPython.display import SVG\n",
    "import numpy as np"
   ]
  },
  {
   "cell_type": "code",
   "execution_count": 2,
   "metadata": {},
   "outputs": [],
   "source": [
    "%reload_ext autoreload\n",
    "%autoreload 2\n",
    "from projet_madi import *"
   ]
  },
  {
   "cell_type": "code",
   "execution_count": 56,
   "metadata": {},
   "outputs": [
    {
     "data": {
      "image/svg+xml": [
       "<svg height=\"188pt\" viewBox=\"0.00 0.00 206.00 188.00\" width=\"206pt\" xmlns=\"http://www.w3.org/2000/svg\" xmlns:xlink=\"http://www.w3.org/1999/xlink\">\n",
       "<g class=\"graph\" id=\"graph0\" transform=\"scale(1 1) rotate(0) translate(4 184)\">\n",
       "<title>G</title>\n",
       "<!-- A -->\n",
       "<g class=\"node\" id=\"node1\">\n",
       "<title>A</title>\n",
       "<g id=\"a_node1\"><a xlink:title=\"(0) A\">\n",
       "<ellipse cx=\"27\" cy=\"-162\" fill=\"#404040\" rx=\"27\" ry=\"18\" stroke=\"#000000\"/>\n",
       "<text fill=\"#ffffff\" font-family=\"Times,serif\" font-size=\"14.00\" text-anchor=\"middle\" x=\"27\" y=\"-158.3\">A</text>\n",
       "</a>\n",
       "</g>\n",
       "</g>\n",
       "<!-- B -->\n",
       "<g class=\"node\" id=\"node2\">\n",
       "<title>B</title>\n",
       "<g id=\"a_node2\"><a xlink:title=\"(1) B\">\n",
       "<ellipse cx=\"99\" cy=\"-90\" fill=\"#404040\" rx=\"27\" ry=\"18\" stroke=\"#000000\"/>\n",
       "<text fill=\"#ffffff\" font-family=\"Times,serif\" font-size=\"14.00\" text-anchor=\"middle\" x=\"99\" y=\"-86.3\">B</text>\n",
       "</a>\n",
       "</g>\n",
       "</g>\n",
       "<!-- A&#45;&gt;B -->\n",
       "<g class=\"edge\" id=\"edge1\">\n",
       "<title>A-&gt;B</title>\n",
       "<g id=\"a_edge1\"><a xlink:title=\"(0, 1) : \">\n",
       "<path d=\"M42.2693,-146.7307C52.197,-136.803 65.3153,-123.6847 76.4363,-112.5637\" fill=\"none\" stroke=\"#4a4a4a\"/>\n",
       "<polygon fill=\"#4a4a4a\" points=\"79.1564,-114.7933 83.7527,-105.2473 74.2067,-109.8436 79.1564,-114.7933\" stroke=\"#4a4a4a\"/>\n",
       "</a>\n",
       "</g>\n",
       "</g>\n",
       "<!-- E -->\n",
       "<g class=\"node\" id=\"node5\">\n",
       "<title>E</title>\n",
       "<g id=\"a_node5\"><a xlink:title=\"(4) E\">\n",
       "<ellipse cx=\"135\" cy=\"-18\" fill=\"#404040\" rx=\"27\" ry=\"18\" stroke=\"#000000\"/>\n",
       "<text fill=\"#ffffff\" font-family=\"Times,serif\" font-size=\"14.00\" text-anchor=\"middle\" x=\"135\" y=\"-14.3\">E</text>\n",
       "</a>\n",
       "</g>\n",
       "</g>\n",
       "<!-- B&#45;&gt;E -->\n",
       "<g class=\"edge\" id=\"edge3\">\n",
       "<title>B-&gt;E</title>\n",
       "<g id=\"a_edge3\"><a xlink:title=\"(1, 4) : \">\n",
       "<path d=\"M107.7146,-72.5708C111.9597,-64.0807 117.1536,-53.6929 121.8663,-44.2674\" fill=\"none\" stroke=\"#4a4a4a\"/>\n",
       "<polygon fill=\"#4a4a4a\" points=\"125.024,-45.7782 126.3657,-35.2687 118.763,-42.6477 125.024,-45.7782\" stroke=\"#4a4a4a\"/>\n",
       "</a>\n",
       "</g>\n",
       "</g>\n",
       "<!-- C -->\n",
       "<g class=\"node\" id=\"node3\">\n",
       "<title>C</title>\n",
       "<g id=\"a_node3\"><a xlink:title=\"(2) C\">\n",
       "<ellipse cx=\"171\" cy=\"-162\" fill=\"#404040\" rx=\"27\" ry=\"18\" stroke=\"#000000\"/>\n",
       "<text fill=\"#ffffff\" font-family=\"Times,serif\" font-size=\"14.00\" text-anchor=\"middle\" x=\"171\" y=\"-158.3\">C</text>\n",
       "</a>\n",
       "</g>\n",
       "</g>\n",
       "<!-- C&#45;&gt;B -->\n",
       "<g class=\"edge\" id=\"edge2\">\n",
       "<title>C-&gt;B</title>\n",
       "<g id=\"a_edge2\"><a xlink:title=\"(2, 1) : \">\n",
       "<path d=\"M155.7307,-146.7307C145.803,-136.803 132.6847,-123.6847 121.5637,-112.5637\" fill=\"none\" stroke=\"#4a4a4a\"/>\n",
       "<polygon fill=\"#4a4a4a\" points=\"123.7933,-109.8436 114.2473,-105.2473 118.8436,-114.7933 123.7933,-109.8436\" stroke=\"#4a4a4a\"/>\n",
       "</a>\n",
       "</g>\n",
       "</g>\n",
       "<!-- D -->\n",
       "<g class=\"node\" id=\"node4\">\n",
       "<title>D</title>\n",
       "<g id=\"a_node4\"><a xlink:title=\"(3) D\">\n",
       "<ellipse cx=\"171\" cy=\"-90\" fill=\"#404040\" rx=\"27\" ry=\"18\" stroke=\"#000000\"/>\n",
       "<text fill=\"#ffffff\" font-family=\"Times,serif\" font-size=\"14.00\" text-anchor=\"middle\" x=\"171\" y=\"-86.3\">D</text>\n",
       "</a>\n",
       "</g>\n",
       "</g>\n",
       "<!-- C&#45;&gt;D -->\n",
       "<g class=\"edge\" id=\"edge4\">\n",
       "<title>C-&gt;D</title>\n",
       "<g id=\"a_edge4\"><a xlink:title=\"(2, 3) : \">\n",
       "<path d=\"M171,-143.8314C171,-136.131 171,-126.9743 171,-118.4166\" fill=\"none\" stroke=\"#4a4a4a\"/>\n",
       "<polygon fill=\"#4a4a4a\" points=\"174.5001,-118.4132 171,-108.4133 167.5001,-118.4133 174.5001,-118.4132\" stroke=\"#4a4a4a\"/>\n",
       "</a>\n",
       "</g>\n",
       "</g>\n",
       "<!-- D&#45;&gt;E -->\n",
       "<g class=\"edge\" id=\"edge6\">\n",
       "<title>D-&gt;E</title>\n",
       "<g id=\"a_edge6\"><a xlink:title=\"(3, 4) : \">\n",
       "<path d=\"M162.2854,-72.5708C158.0403,-64.0807 152.8464,-53.6929 148.1337,-44.2674\" fill=\"none\" stroke=\"#4a4a4a\"/>\n",
       "<polygon fill=\"#4a4a4a\" points=\"151.237,-42.6477 143.6343,-35.2687 144.976,-45.7782 151.237,-42.6477\" stroke=\"#4a4a4a\"/>\n",
       "</a>\n",
       "</g>\n",
       "</g>\n",
       "<!-- F -->\n",
       "<g class=\"node\" id=\"node6\">\n",
       "<title>F</title>\n",
       "<g id=\"a_node6\"><a xlink:title=\"(5) F\">\n",
       "<ellipse cx=\"99\" cy=\"-162\" fill=\"#404040\" rx=\"27\" ry=\"18\" stroke=\"#000000\"/>\n",
       "<text fill=\"#ffffff\" font-family=\"Times,serif\" font-size=\"14.00\" text-anchor=\"middle\" x=\"99\" y=\"-158.3\">F</text>\n",
       "</a>\n",
       "</g>\n",
       "</g>\n",
       "<!-- F&#45;&gt;B -->\n",
       "<g class=\"edge\" id=\"edge5\">\n",
       "<title>F-&gt;B</title>\n",
       "<g id=\"a_edge5\"><a xlink:title=\"(5, 1) : \">\n",
       "<path d=\"M99,-143.8314C99,-136.131 99,-126.9743 99,-118.4166\" fill=\"none\" stroke=\"#4a4a4a\"/>\n",
       "<polygon fill=\"#4a4a4a\" points=\"102.5001,-118.4132 99,-108.4133 95.5001,-118.4133 102.5001,-118.4132\" stroke=\"#4a4a4a\"/>\n",
       "</a>\n",
       "</g>\n",
       "</g>\n",
       "</g>\n",
       "</svg>"
      ],
      "text/plain": [
       "<IPython.core.display.SVG object>"
      ]
     },
     "metadata": {},
     "output_type": "display_data"
    }
   ],
   "source": [
    "bn=gum.fastBN(\"A->B<-C->D->E<-B<-F\")\n",
    "gnb.showBN(bn)"
   ]
  },
  {
   "cell_type": "code",
   "execution_count": 563,
   "metadata": {},
   "outputs": [
    {
     "data": {
      "image/svg+xml": [
       "<svg height=\"316pt\" viewBox=\"0.00 0.00 342.24 316.25\" width=\"342pt\" xmlns=\"http://www.w3.org/2000/svg\" xmlns:xlink=\"http://www.w3.org/1999/xlink\">\n",
       "<g class=\"graph\" id=\"graph0\" transform=\"scale(1 1) rotate(0) translate(4 312.2516)\">\n",
       "<title>FG</title>\n",
       "<polygon fill=\"#ffffff\" points=\"-4,4 -4,-312.2516 338.2444,-312.2516 338.2444,4 -4,4\" stroke=\"transparent\"/>\n",
       "<!-- A -->\n",
       "<g class=\"node\" id=\"node1\">\n",
       "<title>A</title>\n",
       "<ellipse cx=\"68.844\" cy=\"-108.905\" fill=\"#deb887\" rx=\"10.7143\" ry=\"10.7143\" stroke=\"#deb887\"/>\n",
       "<text fill=\"#000000\" font-family=\"Times,serif\" font-size=\"14.00\" text-anchor=\"middle\" x=\"68.844\" y=\"-105.205\">A</text>\n",
       "</g>\n",
       "<!-- B -->\n",
       "<g class=\"node\" id=\"node2\">\n",
       "<title>B</title>\n",
       "<ellipse cx=\"196.9048\" cy=\"-214.5505\" fill=\"#deb887\" rx=\"10.7143\" ry=\"10.7143\" stroke=\"#deb887\"/>\n",
       "<text fill=\"#000000\" font-family=\"Times,serif\" font-size=\"14.00\" text-anchor=\"middle\" x=\"196.9048\" y=\"-210.8505\">B</text>\n",
       "</g>\n",
       "<!-- C -->\n",
       "<g class=\"node\" id=\"node3\">\n",
       "<title>C</title>\n",
       "<ellipse cx=\"192.4489\" cy=\"-88.7101\" fill=\"#deb887\" rx=\"10.7143\" ry=\"10.7143\" stroke=\"#deb887\"/>\n",
       "<text fill=\"#000000\" font-family=\"Times,serif\" font-size=\"14.00\" text-anchor=\"middle\" x=\"192.4489\" y=\"-85.0101\">C</text>\n",
       "</g>\n",
       "<!-- D -->\n",
       "<g class=\"node\" id=\"node4\">\n",
       "<title>D</title>\n",
       "<ellipse cx=\"323.6378\" cy=\"-162.5018\" fill=\"#deb887\" rx=\"10.7143\" ry=\"10.7143\" stroke=\"#deb887\"/>\n",
       "<text fill=\"#000000\" font-family=\"Times,serif\" font-size=\"14.00\" text-anchor=\"middle\" x=\"323.6378\" y=\"-158.8018\">D</text>\n",
       "</g>\n",
       "<!-- E -->\n",
       "<g class=\"node\" id=\"node5\">\n",
       "<title>E</title>\n",
       "<ellipse cx=\"318.7461\" cy=\"-297.645\" fill=\"#deb887\" rx=\"10.7143\" ry=\"10.7143\" stroke=\"#deb887\"/>\n",
       "<text fill=\"#000000\" font-family=\"Times,serif\" font-size=\"14.00\" text-anchor=\"middle\" x=\"318.7461\" y=\"-293.945\">E</text>\n",
       "</g>\n",
       "<!-- F -->\n",
       "<g class=\"node\" id=\"node6\">\n",
       "<title>F</title>\n",
       "<ellipse cx=\"81.5953\" cy=\"-218.5361\" fill=\"#deb887\" rx=\"10.7143\" ry=\"10.7143\" stroke=\"#deb887\"/>\n",
       "<text fill=\"#000000\" font-family=\"Times,serif\" font-size=\"14.00\" text-anchor=\"middle\" x=\"81.5953\" y=\"-214.8361\">F</text>\n",
       "</g>\n",
       "<!-- 0 -->\n",
       "<g class=\"node\" id=\"node7\">\n",
       "<title>0</title>\n",
       "<polygon fill=\"#ff7f50\" points=\"7,-74.8748 0,-74.8748 0,-59.8748 7,-59.8748 7,-74.8748\" stroke=\"#ff7f50\"/>\n",
       "<text fill=\"#000000\" font-family=\"Times,serif\" font-size=\"14.00\" text-anchor=\"middle\" x=\"3.5\" y=\"-63.6748\">0</text>\n",
       "</g>\n",
       "<!-- 0&#45;&#45;A -->\n",
       "<g class=\"edge\" id=\"edge1\">\n",
       "<title>0--A</title>\n",
       "<path d=\"M7.0132,-69.6076C16.8745,-75.8751 45.0462,-93.78 59.7152,-103.1031\" fill=\"none\" stroke=\"#000000\"/>\n",
       "</g>\n",
       "<!-- 1 -->\n",
       "<g class=\"node\" id=\"node8\">\n",
       "<title>1</title>\n",
       "<polygon fill=\"#ff7f50\" points=\"140.2632,-162.8997 133.2632,-162.8997 133.2632,-147.8997 140.2632,-147.8997 140.2632,-162.8997\" stroke=\"#ff7f50\"/>\n",
       "<text fill=\"#000000\" font-family=\"Times,serif\" font-size=\"14.00\" text-anchor=\"middle\" x=\"136.7632\" y=\"-151.6997\">1</text>\n",
       "</g>\n",
       "<!-- 1&#45;&#45;A -->\n",
       "<g class=\"edge\" id=\"edge4\">\n",
       "<title>1--A</title>\n",
       "<path d=\"M133.1116,-152.9C122.7514,-145.8078 92.9478,-125.4055 77.8456,-115.0671\" fill=\"none\" stroke=\"#000000\"/>\n",
       "</g>\n",
       "<!-- 1&#45;&#45;B -->\n",
       "<g class=\"edge\" id=\"edge5\">\n",
       "<title>1--B</title>\n",
       "<path d=\"M140.3452,-158.9227C149.8535,-168.2743 175.8994,-193.8912 189.0655,-206.8403\" fill=\"none\" stroke=\"#000000\"/>\n",
       "</g>\n",
       "<!-- 1&#45;&#45;C -->\n",
       "<g class=\"edge\" id=\"edge3\">\n",
       "<title>1--C</title>\n",
       "<path d=\"M140.4169,-151.024C149.5147,-140.1284 173.3113,-111.6294 185.3113,-97.2581\" fill=\"none\" stroke=\"#000000\"/>\n",
       "</g>\n",
       "<!-- 1&#45;&#45;F -->\n",
       "<g class=\"edge\" id=\"edge2\">\n",
       "<title>1--F</title>\n",
       "<path d=\"M133.1435,-159.5423C124.1302,-169.8574 100.5549,-196.8379 88.6664,-210.4436\" fill=\"none\" stroke=\"#000000\"/>\n",
       "</g>\n",
       "<!-- 2 -->\n",
       "<g class=\"node\" id=\"node9\">\n",
       "<title>2</title>\n",
       "<polygon fill=\"#ff7f50\" points=\"197.2917,-15 190.2917,-15 190.2917,0 197.2917,0 197.2917,-15\" stroke=\"#ff7f50\"/>\n",
       "<text fill=\"#000000\" font-family=\"Times,serif\" font-size=\"14.00\" text-anchor=\"middle\" x=\"193.7917\" y=\"-3.8\">2</text>\n",
       "</g>\n",
       "<!-- 2&#45;&#45;C -->\n",
       "<g class=\"edge\" id=\"edge6\">\n",
       "<title>2--C</title>\n",
       "<path d=\"M193.6629,-15.2868C193.4213,-29.8962 192.8998,-61.4352 192.6256,-78.0202\" fill=\"none\" stroke=\"#000000\"/>\n",
       "</g>\n",
       "<!-- 3 -->\n",
       "<g class=\"node\" id=\"node10\">\n",
       "<title>3</title>\n",
       "<polygon fill=\"#ff7f50\" points=\"278.9923,-105.9756 271.9923,-105.9756 271.9923,-90.9756 278.9923,-90.9756 278.9923,-105.9756\" stroke=\"#ff7f50\"/>\n",
       "<text fill=\"#000000\" font-family=\"Times,serif\" font-size=\"14.00\" text-anchor=\"middle\" x=\"275.4923\" y=\"-94.7756\">3</text>\n",
       "</g>\n",
       "<!-- 3&#45;&#45;C -->\n",
       "<g class=\"edge\" id=\"edge7\">\n",
       "<title>3--C</title>\n",
       "<path d=\"M271.9241,-98.056C260.127,-96.6687 222.0629,-92.1926 203.2202,-89.9768\" fill=\"none\" stroke=\"#000000\"/>\n",
       "</g>\n",
       "<!-- 3&#45;&#45;D -->\n",
       "<g class=\"edge\" id=\"edge8\">\n",
       "<title>3--D</title>\n",
       "<path d=\"M279.2702,-103.4996C287.4279,-114.3481 306.7793,-140.0825 317.0191,-153.7\" fill=\"none\" stroke=\"#000000\"/>\n",
       "</g>\n",
       "<!-- 4 -->\n",
       "<g class=\"node\" id=\"node11\">\n",
       "<title>4</title>\n",
       "<polygon fill=\"#ff7f50\" points=\"280.7574,-238.9699 273.7574,-238.9699 273.7574,-223.9699 280.7574,-223.9699 280.7574,-238.9699\" stroke=\"#ff7f50\"/>\n",
       "<text fill=\"#000000\" font-family=\"Times,serif\" font-size=\"14.00\" text-anchor=\"middle\" x=\"277.2574\" y=\"-227.7699\">4</text>\n",
       "</g>\n",
       "<!-- 4&#45;&#45;B -->\n",
       "<g class=\"edge\" id=\"edge9\">\n",
       "<title>4--B</title>\n",
       "<path d=\"M273.3818,-230.6539C261.5319,-228.1587 225.4946,-220.5705 207.4431,-216.7695\" fill=\"none\" stroke=\"#000000\"/>\n",
       "</g>\n",
       "<!-- 4&#45;&#45;D -->\n",
       "<g class=\"edge\" id=\"edge10\">\n",
       "<title>4--D</title>\n",
       "<path d=\"M280.8968,-226.0581C288.8408,-214.2452 307.8038,-186.047 317.5803,-171.5094\" fill=\"none\" stroke=\"#000000\"/>\n",
       "</g>\n",
       "<!-- 4&#45;&#45;E -->\n",
       "<g class=\"edge\" id=\"edge11\">\n",
       "<title>4--E</title>\n",
       "<path d=\"M280.7947,-237.112C287.9276,-248.4891 304.1003,-274.2847 312.8541,-288.2472\" fill=\"none\" stroke=\"#000000\"/>\n",
       "</g>\n",
       "<!-- 5 -->\n",
       "<g class=\"node\" id=\"node12\">\n",
       "<title>5</title>\n",
       "<polygon fill=\"#ff7f50\" points=\"30.5926,-281.3309 23.5926,-281.3309 23.5926,-266.3309 30.5926,-266.3309 30.5926,-281.3309\" stroke=\"#ff7f50\"/>\n",
       "<text fill=\"#000000\" font-family=\"Times,serif\" font-size=\"14.00\" text-anchor=\"middle\" x=\"27.0926\" y=\"-270.1309\">5</text>\n",
       "</g>\n",
       "<!-- 5&#45;&#45;F -->\n",
       "<g class=\"edge\" id=\"edge12\">\n",
       "<title>5--F</title>\n",
       "<path d=\"M30.6686,-270.2028C39.3838,-261.3611 61.8797,-238.5382 73.8442,-226.3998\" fill=\"none\" stroke=\"#000000\"/>\n",
       "</g>\n",
       "</g>\n",
       "</svg>"
      ],
      "text/plain": [
       "<IPython.core.display.SVG object>"
      ]
     },
     "execution_count": 563,
     "metadata": {},
     "output_type": "execute_result"
    }
   ],
   "source": [
    "fg=FactorGraph()\n",
    "fg.build(bn)\n",
    "fg.show()"
   ]
  },
  {
   "cell_type": "code",
   "execution_count": 554,
   "metadata": {},
   "outputs": [
    {
     "name": "stdout",
     "output_type": "stream",
     "text": [
      "[Sender 5, Receiver F, Content <F:0> :: 0.236141 /<F:1> :: 0.763859, Sender 1, Receiver F, Content <F:0> :: 0.120272 /<F:1> :: 0.381991]\n"
     ]
    },
    {
     "data": {
      "text/html": [
       "<table style=\"border:1px solid black;\">\n",
       "<tr style='border:1px solid black;color:black;background-color:#808080'><th colspan='2'><center>F</center></th></tr>\n",
       "<tr><th style='border:1px solid black;border-bottom-style: double;color:black;background-color:#BBBBBB'><center>0</center></th><th style='border:1px solid black;border-bottom-style: double;color:black;background-color:#BBBBBB'><center>1</center></th></tr>\n",
       "<tr><td style='color:black;background-color:#e09d64;text-align:right;'>0.2361</td><td style='color:black;background-color:#9de064;text-align:right;'>0.7639</td></tr>\n",
       "</table>"
      ],
      "text/plain": [
       "(gum::Potential<double>@0x55e15bd27a00) <F:0> :: 0.236141 /<F:1> :: 0.763859"
      ]
     },
     "execution_count": 554,
     "metadata": {},
     "output_type": "execute_result"
    }
   ],
   "source": [
    "spi=TreeSumProductInference(fg) # Crée une instance d'inférence\n",
    "spi.makeInference() # effectue les calculs de tous les messages\n",
    "spi.posterior('F')"
   ]
  },
  {
   "cell_type": "code",
   "execution_count": 433,
   "metadata": {},
   "outputs": [
    {
     "data": {
      "text/html": [
       "<table style=\"border:1px solid black;\">\n",
       "<tr style='border:1px solid black;color:black;background-color:#808080'><th colspan='2'><center>E</center></th></tr>\n",
       "<tr><th style='border:1px solid black;border-bottom-style: double;color:black;background-color:#BBBBBB'><center>0</center></th><th style='border:1px solid black;border-bottom-style: double;color:black;background-color:#BBBBBB'><center>1</center></th></tr>\n",
       "<tr><td style='color:black;background-color:#ceaf64;text-align:right;'>0.3820</td><td style='color:black;background-color:#afce64;text-align:right;'>0.6180</td></tr>\n",
       "</table>"
      ],
      "text/plain": [
       "(gum::Potential<double>@0x55e15bdb3bf0) <E:0> :: 0.38201 /<E:1> :: 0.61799"
      ]
     },
     "execution_count": 433,
     "metadata": {},
     "output_type": "execute_result"
    }
   ],
   "source": [
    "ie = gum.LazyPropagation(bn)\n",
    "ie.makeInference()\n",
    "ie.posterior(\"E\")"
   ]
  },
  {
   "cell_type": "code",
   "execution_count": 488,
   "metadata": {},
   "outputs": [
    {
     "data": {
      "text/plain": [
       "{'A': 0, 'B': 1, 'C': 0, 'D': 0, 'E': 1, 'F': 1}"
      ]
     },
     "execution_count": 488,
     "metadata": {},
     "output_type": "execute_result"
    }
   ],
   "source": [
    "mpi=TreeMaxProductInference(fg) # Crée une instance d'inférence\n",
    "mpi.makeInference() # effectue les calculs de tous les messages\n",
    "mpi.argmax()"
   ]
  },
  {
   "cell_type": "code",
   "execution_count": 530,
   "metadata": {},
   "outputs": [
    {
     "data": {
      "text/plain": [
       "{'A': 0, 'B': 1, 'C': 0, 'D': 0, 'E': 1, 'F': 1}"
      ]
     },
     "execution_count": 530,
     "metadata": {},
     "output_type": "execute_result"
    }
   ],
   "source": [
    "msi=TreeMaxSumInference(fg) # Crée une instance d'inférence\n",
    "msi.makeInference() # effectue les calculs de tous les messages\n",
    "msi.argmax()"
   ]
  },
  {
   "cell_type": "code",
   "execution_count": null,
   "metadata": {},
   "outputs": [],
   "source": [
    "\"\"\"\n",
    "Essayer l'ordre topo in et out sur un graphe avec un cycle\n",
    "Ajouter une condition d'arrêt pour le while sur le nombre d'itérations dans l'etape 2\n",
    "Mettre à jour le contenu des bôites aux lettres\n",
    "\"\"\""
   ]
  },
  {
   "attachments": {
    "image.png": {
     "image/png": "[encoded data removed]"
    }
   },
   "cell_type": "markdown",
   "metadata": {},
   "source": [
    "Proposer un code buildLDPC(bits,parity) qui, à partir d'une liste de bits (bits=['x1','x2','x3']) et d'un dictionnaire indiquant les contraintes de parité (parity={'pc1':['x1','x2'],'pc2':['x1','x2','x3']}), construit le réseau bayésien correspondant.\n",
    "![image.png](attachment:image.png)"
   ]
  },
  {
   "cell_type": "code",
   "execution_count": 93,
   "metadata": {},
   "outputs": [],
   "source": [
    "def buildLDPC(bits,parity):\n",
    "    bn=gum.BayesNet('LDPC')\n",
    "    for bit in bits:\n",
    "        bn.add(gum.LabelizedVariable(bit,bit+'name',2))\n",
    "    for pc, bits_ in parity.items():\n",
    "        bn.add(gum.LabelizedVariable(pc,pc+'name',2))\n",
    "        for bit in bits_:\n",
    "            bn.addArc(bit,pc)\n",
    "    return bn"
   ]
  },
  {
   "cell_type": "code",
   "execution_count": 317,
   "metadata": {},
   "outputs": [
    {
     "data": {
      "image/svg+xml": [
       "<svg height=\"116pt\" viewBox=\"0.00 0.00 206.00 116.00\" width=\"206pt\" xmlns=\"http://www.w3.org/2000/svg\" xmlns:xlink=\"http://www.w3.org/1999/xlink\">\n",
       "<g class=\"graph\" id=\"graph0\" transform=\"scale(1 1) rotate(0) translate(4 112)\">\n",
       "<title>G</title>\n",
       "<!-- x1 -->\n",
       "<g class=\"node\" id=\"node1\">\n",
       "<title>x1</title>\n",
       "<g id=\"a_node1\"><a xlink:title=\"(0) x1\">\n",
       "<ellipse cx=\"99\" cy=\"-90\" fill=\"#404040\" rx=\"27\" ry=\"18\" stroke=\"#000000\"/>\n",
       "<text fill=\"#ffffff\" font-family=\"Times,serif\" font-size=\"14.00\" text-anchor=\"middle\" x=\"99\" y=\"-86.3\">x1</text>\n",
       "</a>\n",
       "</g>\n",
       "</g>\n",
       "<!-- pc1 -->\n",
       "<g class=\"node\" id=\"node4\">\n",
       "<title>pc1</title>\n",
       "<g id=\"a_node4\"><a xlink:title=\"(3) pc1\">\n",
       "<ellipse cx=\"27\" cy=\"-18\" fill=\"#404040\" rx=\"27\" ry=\"18\" stroke=\"#000000\"/>\n",
       "<text fill=\"#ffffff\" font-family=\"Times,serif\" font-size=\"14.00\" text-anchor=\"middle\" x=\"27\" y=\"-14.3\">pc1</text>\n",
       "</a>\n",
       "</g>\n",
       "</g>\n",
       "<!-- x1&#45;&gt;pc1 -->\n",
       "<g class=\"edge\" id=\"edge4\">\n",
       "<title>x1-&gt;pc1</title>\n",
       "<g id=\"a_edge4\"><a xlink:title=\"(0, 3) : \">\n",
       "<path d=\"M83.7307,-74.7307C73.803,-64.803 60.6847,-51.6847 49.5637,-40.5637\" fill=\"none\" stroke=\"#4a4a4a\"/>\n",
       "<polygon fill=\"#4a4a4a\" points=\"51.7933,-37.8436 42.2473,-33.2473 46.8436,-42.7933 51.7933,-37.8436\" stroke=\"#4a4a4a\"/>\n",
       "</a>\n",
       "</g>\n",
       "</g>\n",
       "<!-- pc2 -->\n",
       "<g class=\"node\" id=\"node5\">\n",
       "<title>pc2</title>\n",
       "<g id=\"a_node5\"><a xlink:title=\"(4) pc2\">\n",
       "<ellipse cx=\"99\" cy=\"-18\" fill=\"#404040\" rx=\"27\" ry=\"18\" stroke=\"#000000\"/>\n",
       "<text fill=\"#ffffff\" font-family=\"Times,serif\" font-size=\"14.00\" text-anchor=\"middle\" x=\"99\" y=\"-14.3\">pc2</text>\n",
       "</a>\n",
       "</g>\n",
       "</g>\n",
       "<!-- x1&#45;&gt;pc2 -->\n",
       "<g class=\"edge\" id=\"edge3\">\n",
       "<title>x1-&gt;pc2</title>\n",
       "<g id=\"a_edge3\"><a xlink:title=\"(0, 4) : \">\n",
       "<path d=\"M99,-71.8314C99,-64.131 99,-54.9743 99,-46.4166\" fill=\"none\" stroke=\"#4a4a4a\"/>\n",
       "<polygon fill=\"#4a4a4a\" points=\"102.5001,-46.4132 99,-36.4133 95.5001,-46.4133 102.5001,-46.4132\" stroke=\"#4a4a4a\"/>\n",
       "</a>\n",
       "</g>\n",
       "</g>\n",
       "<!-- x2 -->\n",
       "<g class=\"node\" id=\"node2\">\n",
       "<title>x2</title>\n",
       "<g id=\"a_node2\"><a xlink:title=\"(1) x2\">\n",
       "<ellipse cx=\"27\" cy=\"-90\" fill=\"#404040\" rx=\"27\" ry=\"18\" stroke=\"#000000\"/>\n",
       "<text fill=\"#ffffff\" font-family=\"Times,serif\" font-size=\"14.00\" text-anchor=\"middle\" x=\"27\" y=\"-86.3\">x2</text>\n",
       "</a>\n",
       "</g>\n",
       "</g>\n",
       "<!-- x2&#45;&gt;pc1 -->\n",
       "<g class=\"edge\" id=\"edge1\">\n",
       "<title>x2-&gt;pc1</title>\n",
       "<g id=\"a_edge1\"><a xlink:title=\"(1, 3) : \">\n",
       "<path d=\"M27,-71.8314C27,-64.131 27,-54.9743 27,-46.4166\" fill=\"none\" stroke=\"#4a4a4a\"/>\n",
       "<polygon fill=\"#4a4a4a\" points=\"30.5001,-46.4132 27,-36.4133 23.5001,-46.4133 30.5001,-46.4132\" stroke=\"#4a4a4a\"/>\n",
       "</a>\n",
       "</g>\n",
       "</g>\n",
       "<!-- x2&#45;&gt;pc2 -->\n",
       "<g class=\"edge\" id=\"edge2\">\n",
       "<title>x2-&gt;pc2</title>\n",
       "<g id=\"a_edge2\"><a xlink:title=\"(1, 4) : \">\n",
       "<path d=\"M42.2693,-74.7307C52.197,-64.803 65.3153,-51.6847 76.4363,-40.5637\" fill=\"none\" stroke=\"#4a4a4a\"/>\n",
       "<polygon fill=\"#4a4a4a\" points=\"79.1564,-42.7933 83.7527,-33.2473 74.2067,-37.8436 79.1564,-42.7933\" stroke=\"#4a4a4a\"/>\n",
       "</a>\n",
       "</g>\n",
       "</g>\n",
       "<!-- x3 -->\n",
       "<g class=\"node\" id=\"node3\">\n",
       "<title>x3</title>\n",
       "<g id=\"a_node3\"><a xlink:title=\"(2) x3\">\n",
       "<ellipse cx=\"171\" cy=\"-90\" fill=\"#404040\" rx=\"27\" ry=\"18\" stroke=\"#000000\"/>\n",
       "<text fill=\"#ffffff\" font-family=\"Times,serif\" font-size=\"14.00\" text-anchor=\"middle\" x=\"171\" y=\"-86.3\">x3</text>\n",
       "</a>\n",
       "</g>\n",
       "</g>\n",
       "<!-- x3&#45;&gt;pc2 -->\n",
       "<g class=\"edge\" id=\"edge5\">\n",
       "<title>x3-&gt;pc2</title>\n",
       "<g id=\"a_edge5\"><a xlink:title=\"(2, 4) : \">\n",
       "<path d=\"M155.7307,-74.7307C145.803,-64.803 132.6847,-51.6847 121.5637,-40.5637\" fill=\"none\" stroke=\"#4a4a4a\"/>\n",
       "<polygon fill=\"#4a4a4a\" points=\"123.7933,-37.8436 114.2473,-33.2473 118.8436,-42.7933 123.7933,-37.8436\" stroke=\"#4a4a4a\"/>\n",
       "</a>\n",
       "</g>\n",
       "</g>\n",
       "</g>\n",
       "</svg>"
      ],
      "text/plain": [
       "<IPython.core.display.SVG object>"
      ]
     },
     "metadata": {},
     "output_type": "display_data"
    }
   ],
   "source": [
    "bn = buildLDPC(['x1','x2','x3'],{'pc1':['x1','x2'],'pc2':['x1','x2','x3']})\n",
    "gnb.showBN(bn)"
   ]
  },
  {
   "cell_type": "code",
   "execution_count": 318,
   "metadata": {},
   "outputs": [
    {
     "data": {
      "image/svg+xml": [
       "<svg height=\"331pt\" viewBox=\"0.00 0.00 235.51 331.21\" width=\"236pt\" xmlns=\"http://www.w3.org/2000/svg\" xmlns:xlink=\"http://www.w3.org/1999/xlink\">\n",
       "<g class=\"graph\" id=\"graph0\" transform=\"scale(1 1) rotate(0) translate(4 327.2071)\">\n",
       "<title>FG</title>\n",
       "<polygon fill=\"#ffffff\" points=\"-4,4 -4,-327.2071 231.5135,-327.2071 231.5135,4 -4,4\" stroke=\"transparent\"/>\n",
       "<!-- x1 -->\n",
       "<g class=\"node\" id=\"node1\">\n",
       "<title>x1</title>\n",
       "<polygon fill=\"#ff7f50\" points=\"104.9621,-205.9787 90.9621,-205.9787 90.9621,-190.9787 104.9621,-190.9787 104.9621,-205.9787\" stroke=\"#ff7f50\"/>\n",
       "<text fill=\"#000000\" font-family=\"Times,serif\" font-size=\"14.00\" text-anchor=\"middle\" x=\"97.9621\" y=\"-194.7787\">x1</text>\n",
       "</g>\n",
       "<!-- x2 -->\n",
       "<g class=\"node\" id=\"node2\">\n",
       "<title>x2</title>\n",
       "<polygon fill=\"#ff7f50\" points=\"70.6306,-149.4217 56.6306,-149.4217 56.6306,-134.4217 70.6306,-134.4217 70.6306,-149.4217\" stroke=\"#ff7f50\"/>\n",
       "<text fill=\"#000000\" font-family=\"Times,serif\" font-size=\"14.00\" text-anchor=\"middle\" x=\"63.6306\" y=\"-138.2217\">x2</text>\n",
       "</g>\n",
       "<!-- x3 -->\n",
       "<g class=\"node\" id=\"node3\">\n",
       "<title>x3</title>\n",
       "<polygon fill=\"#ff7f50\" points=\"183.6241,-69.5235 169.6241,-69.5235 169.6241,-54.5235 183.6241,-54.5235 183.6241,-69.5235\" stroke=\"#ff7f50\"/>\n",
       "<text fill=\"#000000\" font-family=\"Times,serif\" font-size=\"14.00\" text-anchor=\"middle\" x=\"176.6241\" y=\"-58.3235\">x3</text>\n",
       "</g>\n",
       "<!-- pc1 -->\n",
       "<g class=\"node\" id=\"node4\">\n",
       "<title>pc1</title>\n",
       "<polygon fill=\"#ff7f50\" points=\"52.9969,-323.2071 32.9969,-323.2071 32.9969,-308.2071 52.9969,-308.2071 52.9969,-323.2071\" stroke=\"#ff7f50\"/>\n",
       "<text fill=\"#000000\" font-family=\"Times,serif\" font-size=\"14.00\" text-anchor=\"middle\" x=\"42.9969\" y=\"-312.0071\">pc1</text>\n",
       "</g>\n",
       "<!-- pc2 -->\n",
       "<g class=\"node\" id=\"node5\">\n",
       "<title>pc2</title>\n",
       "<polygon fill=\"#ff7f50\" points=\"227.5135,-179.4272 207.5135,-179.4272 207.5135,-164.4272 227.5135,-164.4272 227.5135,-179.4272\" stroke=\"#ff7f50\"/>\n",
       "<text fill=\"#000000\" font-family=\"Times,serif\" font-size=\"14.00\" text-anchor=\"middle\" x=\"217.5135\" y=\"-168.2272\">pc2</text>\n",
       "</g>\n",
       "<!-- px1 -->\n",
       "<g class=\"node\" id=\"node6\">\n",
       "<title>px1</title>\n",
       "<ellipse cx=\"0\" cy=\"-192.306\" fill=\"#ff7f50\" rx=\"0\" ry=\"0\" stroke=\"#ff7f50\"/>\n",
       "</g>\n",
       "<!-- px1&#45;&#45;x1 -->\n",
       "<g class=\"edge\" id=\"edge1\">\n",
       "<title>px1--x1</title>\n",
       "<path d=\"M.071,-192.3105C2.5391,-192.466 68.6678,-196.6328 90.8132,-198.0283\" fill=\"none\" stroke=\"#000000\"/>\n",
       "</g>\n",
       "<!-- px2 -->\n",
       "<g class=\"node\" id=\"node7\">\n",
       "<title>px2</title>\n",
       "<ellipse cx=\"4.0892\" cy=\"-83.9321\" fill=\"#ff7f50\" rx=\"0\" ry=\"0\" stroke=\"#ff7f50\"/>\n",
       "</g>\n",
       "<!-- px2&#45;&#45;x2 -->\n",
       "<g class=\"edge\" id=\"edge2\">\n",
       "<title>px2--x2</title>\n",
       "<path d=\"M4.26,-84.0985C6.9612,-86.7292 40.9998,-119.8807 56.2849,-134.7674\" fill=\"none\" stroke=\"#000000\"/>\n",
       "</g>\n",
       "<!-- px3 -->\n",
       "<g class=\"node\" id=\"node8\">\n",
       "<title>px3</title>\n",
       "<ellipse cx=\"218.6665\" cy=\"0\" fill=\"#ff7f50\" rx=\"0\" ry=\"0\" stroke=\"#ff7f50\"/>\n",
       "</g>\n",
       "<!-- px3&#45;&#45;x3 -->\n",
       "<g class=\"edge\" id=\"edge3\">\n",
       "<title>px3--x3</title>\n",
       "<path d=\"M218.636,-.045C217.6464,-1.5049 192.8091,-38.1464 181.7978,-54.391\" fill=\"none\" stroke=\"#000000\"/>\n",
       "</g>\n",
       "<!-- ppc1gx2x1 -->\n",
       "<g class=\"node\" id=\"node9\">\n",
       "<title>ppc1gx2x1</title>\n",
       "<ellipse cx=\"53.8429\" cy=\"-238.4928\" fill=\"#ff7f50\" rx=\"0\" ry=\"0\" stroke=\"#ff7f50\"/>\n",
       "</g>\n",
       "<!-- ppc1gx2x1&#45;&#45;x1 -->\n",
       "<g class=\"edge\" id=\"edge5\">\n",
       "<title>ppc1gx2x1--x1</title>\n",
       "<path d=\"M53.9695,-238.378C55.8699,-236.6544 78.7046,-215.9444 90.7014,-205.0638\" fill=\"none\" stroke=\"#000000\"/>\n",
       "</g>\n",
       "<!-- ppc1gx2x1&#45;&#45;x2 -->\n",
       "<g class=\"edge\" id=\"edge4\">\n",
       "<title>ppc1gx2x1--x2</title>\n",
       "<path d=\"M53.85,-238.4228C54.0943,-236.0125 60.5802,-172.0187 62.8529,-149.5953\" fill=\"none\" stroke=\"#000000\"/>\n",
       "</g>\n",
       "<!-- ppc1gx2x1&#45;&#45;pc1 -->\n",
       "<g class=\"edge\" id=\"edge6\">\n",
       "<title>ppc1gx2x1--pc1</title>\n",
       "<path d=\"M53.8351,-238.5487C53.5721,-240.4211 46.7803,-288.7726 44.0846,-307.9633\" fill=\"none\" stroke=\"#000000\"/>\n",
       "</g>\n",
       "<!-- ppc2gx3x2x1 -->\n",
       "<g class=\"node\" id=\"node10\">\n",
       "<title>ppc2gx3x2x1</title>\n",
       "<ellipse cx=\"143.6653\" cy=\"-134.7057\" fill=\"#ff7f50\" rx=\"0\" ry=\"0\" stroke=\"#ff7f50\"/>\n",
       "</g>\n",
       "<!-- ppc2gx3x2x1&#45;&#45;x1 -->\n",
       "<g class=\"edge\" id=\"edge9\">\n",
       "<title>ppc2gx3x2x1--x1</title>\n",
       "<path d=\"M143.6322,-134.7519C142.551,-136.2606 115.2843,-174.3077 103.4069,-190.8811\" fill=\"none\" stroke=\"#000000\"/>\n",
       "</g>\n",
       "<!-- ppc2gx3x2x1&#45;&#45;x2 -->\n",
       "<g class=\"edge\" id=\"edge8\">\n",
       "<title>ppc2gx3x2x1--x2</title>\n",
       "<path d=\"M143.6073,-134.7109C141.6382,-134.8885 90.0718,-139.5377 70.8036,-141.275\" fill=\"none\" stroke=\"#000000\"/>\n",
       "</g>\n",
       "<!-- ppc2gx3x2x1&#45;&#45;x3 -->\n",
       "<g class=\"edge\" id=\"edge7\">\n",
       "<title>ppc2gx3x2x1--x3</title>\n",
       "<path d=\"M143.6892,-134.653C144.4845,-132.8992 164.9263,-87.82 173.198,-69.579\" fill=\"none\" stroke=\"#000000\"/>\n",
       "</g>\n",
       "<!-- ppc2gx3x2x1&#45;&#45;pc2 -->\n",
       "<g class=\"edge\" id=\"edge10\">\n",
       "<title>ppc2gx3x2x1--pc2</title>\n",
       "<path d=\"M143.7188,-134.7327C145.4222,-135.5912 187.3474,-156.7227 207.2307,-166.7444\" fill=\"none\" stroke=\"#000000\"/>\n",
       "</g>\n",
       "</g>\n",
       "</svg>"
      ],
      "text/plain": [
       "<IPython.core.display.SVG object>"
      ]
     },
     "execution_count": 318,
     "metadata": {},
     "output_type": "execute_result"
    }
   ],
   "source": [
    "fg=FactorGraph()\n",
    "fg.build(bn)\n",
    "fg.show()"
   ]
  },
  {
   "cell_type": "code",
   "execution_count": 320,
   "metadata": {},
   "outputs": [
    {
     "name": "stdout",
     "output_type": "stream",
     "text": [
      "cpt 0 : <x1:0> :: 0 /<x1:1> :: 0\n",
      "cpt 1 : <x2:0> :: 0 /<x2:1> :: 0\n",
      "cpt 2 : <x3:0> :: 0 /<x3:1> :: 0\n",
      "cpt 3 : <pc1:0|x1:0|x2:0> :: 0 /<pc1:1|x1:0|x2:0> :: 0 /<pc1:0|x1:1|x2:0> :: 0 /<pc1:1|x1:1|x2:0> :: 0 /<pc1:0|x1:0|x2:1> :: 0 /<pc1:1|x1:0|x2:1> :: 0 /<pc1:0|x1:1|x2:1> :: 0 /<pc1:1|x1:1|x2:1> :: 0\n",
      "cpt 4 : <pc2:0|x1:0|x2:0|x3:0> :: 0 /<pc2:1|x1:0|x2:0|x3:0> :: 0 /<pc2:0|x1:1|x2:0|x3:0> :: 0 /<pc2:1|x1:1|x2:0|x3:0> :: 0 /<pc2:0|x1:0|x2:1|x3:0> :: 0 /<pc2:1|x1:0|x2:1|x3:0> :: 0 /<pc2:0|x1:1|x2:1|x3:0> :: 0 /<pc2:1|x1:1|x2:1|x3:0> :: 0 /<pc2:0|x1:0|x2:0|x3:1> :: 0 /<pc2:1|x1:0|x2:0|x3:1> :: 0 /<pc2:0|x1:1|x2:0|x3:1> :: 0 /<pc2:1|x1:1|x2:0|x3:1> :: 0 /<pc2:0|x1:0|x2:1|x3:1> :: 0 /<pc2:1|x1:0|x2:1|x3:1> :: 0 /<pc2:0|x1:1|x2:1|x3:1> :: 0 /<pc2:1|x1:1|x2:1|x3:1> :: 0\n"
     ]
    }
   ],
   "source": [
    "for i in bn.nodes():\n",
    "    bn.cpt(i)\n",
    "    print(\"cpt {} : {}\".format(i,bn.cpt(i)))"
   ]
  },
  {
   "cell_type": "code",
   "execution_count": null,
   "metadata": {},
   "outputs": [],
   "source": [
    "message = {\"x1\":1,\"x3\":1,'pc2':0}"
   ]
  },
  {
   "cell_type": "code",
   "execution_count": null,
   "metadata": {},
   "outputs": [],
   "source": []
  }
 ],
 "metadata": {
  "kernelspec": {
   "display_name": "Python 3",
   "language": "python",
   "name": "python3"
  },
  "language_info": {
   "codemirror_mode": {
    "name": "ipython",
    "version": 3
   },
   "file_extension": ".py",
   "mimetype": "text/x-python",
   "name": "python",
   "nbconvert_exporter": "python",
   "pygments_lexer": "ipython3",
   "version": "3.7.4"
  }
 },
 "nbformat": 4,
 "nbformat_minor": 4
}
