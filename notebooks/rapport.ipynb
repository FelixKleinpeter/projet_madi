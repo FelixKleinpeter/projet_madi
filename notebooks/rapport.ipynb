{
 "cells": [
  {
   "cell_type": "code",
   "execution_count": 5,
   "metadata": {},
   "outputs": [],
   "source": [
    "import pyAgrum as gum\n",
    "import pyAgrum.lib.notebook as gnb\n",
    "import math\n",
    "import pydotplus as dot\n",
    "from IPython.display import SVG\n",
    "import numpy as np"
   ]
  },
  {
   "cell_type": "code",
   "execution_count": 6,
   "metadata": {},
   "outputs": [],
   "source": [
    "%reload_ext autoreload\n",
    "%autoreload 2\n",
    "from projet_madi import *"
   ]
  },
  {
   "cell_type": "code",
   "execution_count": 7,
   "metadata": {},
   "outputs": [
    {
     "data": {
      "image/svg+xml": [
       "<svg height=\"188pt\" viewBox=\"0.00 0.00 206.00 188.00\" width=\"206pt\" xmlns=\"http://www.w3.org/2000/svg\" xmlns:xlink=\"http://www.w3.org/1999/xlink\">\n",
       "<g class=\"graph\" id=\"graph0\" transform=\"scale(1 1) rotate(0) translate(4 184)\">\n",
       "<title>G</title>\n",
       "<!-- A -->\n",
       "<g class=\"node\" id=\"node1\">\n",
       "<title>A</title>\n",
       "<g id=\"a_node1\"><a xlink:title=\"(0) A\">\n",
       "<ellipse cx=\"27\" cy=\"-162\" fill=\"#404040\" rx=\"27\" ry=\"18\" stroke=\"#000000\"/>\n",
       "<text fill=\"#ffffff\" font-family=\"Times,serif\" font-size=\"14.00\" text-anchor=\"middle\" x=\"27\" y=\"-158.3\">A</text>\n",
       "</a>\n",
       "</g>\n",
       "</g>\n",
       "<!-- B -->\n",
       "<g class=\"node\" id=\"node2\">\n",
       "<title>B</title>\n",
       "<g id=\"a_node2\"><a xlink:title=\"(1) B\">\n",
       "<ellipse cx=\"99\" cy=\"-90\" fill=\"#404040\" rx=\"27\" ry=\"18\" stroke=\"#000000\"/>\n",
       "<text fill=\"#ffffff\" font-family=\"Times,serif\" font-size=\"14.00\" text-anchor=\"middle\" x=\"99\" y=\"-86.3\">B</text>\n",
       "</a>\n",
       "</g>\n",
       "</g>\n",
       "<!-- A&#45;&gt;B -->\n",
       "<g class=\"edge\" id=\"edge1\">\n",
       "<title>A-&gt;B</title>\n",
       "<g id=\"a_edge1\"><a xlink:title=\"(0, 1) : \">\n",
       "<path d=\"M42.2693,-146.7307C52.197,-136.803 65.3153,-123.6847 76.4363,-112.5637\" fill=\"none\" stroke=\"#4a4a4a\"/>\n",
       "<polygon fill=\"#4a4a4a\" points=\"79.1564,-114.7933 83.7527,-105.2473 74.2067,-109.8436 79.1564,-114.7933\" stroke=\"#4a4a4a\"/>\n",
       "</a>\n",
       "</g>\n",
       "</g>\n",
       "<!-- E -->\n",
       "<g class=\"node\" id=\"node5\">\n",
       "<title>E</title>\n",
       "<g id=\"a_node5\"><a xlink:title=\"(4) E\">\n",
       "<ellipse cx=\"135\" cy=\"-18\" fill=\"#404040\" rx=\"27\" ry=\"18\" stroke=\"#000000\"/>\n",
       "<text fill=\"#ffffff\" font-family=\"Times,serif\" font-size=\"14.00\" text-anchor=\"middle\" x=\"135\" y=\"-14.3\">E</text>\n",
       "</a>\n",
       "</g>\n",
       "</g>\n",
       "<!-- B&#45;&gt;E -->\n",
       "<g class=\"edge\" id=\"edge3\">\n",
       "<title>B-&gt;E</title>\n",
       "<g id=\"a_edge3\"><a xlink:title=\"(1, 4) : \">\n",
       "<path d=\"M107.7146,-72.5708C111.9597,-64.0807 117.1536,-53.6929 121.8663,-44.2674\" fill=\"none\" stroke=\"#4a4a4a\"/>\n",
       "<polygon fill=\"#4a4a4a\" points=\"125.024,-45.7782 126.3657,-35.2687 118.763,-42.6477 125.024,-45.7782\" stroke=\"#4a4a4a\"/>\n",
       "</a>\n",
       "</g>\n",
       "</g>\n",
       "<!-- C -->\n",
       "<g class=\"node\" id=\"node3\">\n",
       "<title>C</title>\n",
       "<g id=\"a_node3\"><a xlink:title=\"(2) C\">\n",
       "<ellipse cx=\"171\" cy=\"-162\" fill=\"#404040\" rx=\"27\" ry=\"18\" stroke=\"#000000\"/>\n",
       "<text fill=\"#ffffff\" font-family=\"Times,serif\" font-size=\"14.00\" text-anchor=\"middle\" x=\"171\" y=\"-158.3\">C</text>\n",
       "</a>\n",
       "</g>\n",
       "</g>\n",
       "<!-- C&#45;&gt;B -->\n",
       "<g class=\"edge\" id=\"edge2\">\n",
       "<title>C-&gt;B</title>\n",
       "<g id=\"a_edge2\"><a xlink:title=\"(2, 1) : \">\n",
       "<path d=\"M155.7307,-146.7307C145.803,-136.803 132.6847,-123.6847 121.5637,-112.5637\" fill=\"none\" stroke=\"#4a4a4a\"/>\n",
       "<polygon fill=\"#4a4a4a\" points=\"123.7933,-109.8436 114.2473,-105.2473 118.8436,-114.7933 123.7933,-109.8436\" stroke=\"#4a4a4a\"/>\n",
       "</a>\n",
       "</g>\n",
       "</g>\n",
       "<!-- D -->\n",
       "<g class=\"node\" id=\"node4\">\n",
       "<title>D</title>\n",
       "<g id=\"a_node4\"><a xlink:title=\"(3) D\">\n",
       "<ellipse cx=\"171\" cy=\"-90\" fill=\"#404040\" rx=\"27\" ry=\"18\" stroke=\"#000000\"/>\n",
       "<text fill=\"#ffffff\" font-family=\"Times,serif\" font-size=\"14.00\" text-anchor=\"middle\" x=\"171\" y=\"-86.3\">D</text>\n",
       "</a>\n",
       "</g>\n",
       "</g>\n",
       "<!-- C&#45;&gt;D -->\n",
       "<g class=\"edge\" id=\"edge4\">\n",
       "<title>C-&gt;D</title>\n",
       "<g id=\"a_edge4\"><a xlink:title=\"(2, 3) : \">\n",
       "<path d=\"M171,-143.8314C171,-136.131 171,-126.9743 171,-118.4166\" fill=\"none\" stroke=\"#4a4a4a\"/>\n",
       "<polygon fill=\"#4a4a4a\" points=\"174.5001,-118.4132 171,-108.4133 167.5001,-118.4133 174.5001,-118.4132\" stroke=\"#4a4a4a\"/>\n",
       "</a>\n",
       "</g>\n",
       "</g>\n",
       "<!-- D&#45;&gt;E -->\n",
       "<g class=\"edge\" id=\"edge6\">\n",
       "<title>D-&gt;E</title>\n",
       "<g id=\"a_edge6\"><a xlink:title=\"(3, 4) : \">\n",
       "<path d=\"M162.2854,-72.5708C158.0403,-64.0807 152.8464,-53.6929 148.1337,-44.2674\" fill=\"none\" stroke=\"#4a4a4a\"/>\n",
       "<polygon fill=\"#4a4a4a\" points=\"151.237,-42.6477 143.6343,-35.2687 144.976,-45.7782 151.237,-42.6477\" stroke=\"#4a4a4a\"/>\n",
       "</a>\n",
       "</g>\n",
       "</g>\n",
       "<!-- F -->\n",
       "<g class=\"node\" id=\"node6\">\n",
       "<title>F</title>\n",
       "<g id=\"a_node6\"><a xlink:title=\"(5) F\">\n",
       "<ellipse cx=\"99\" cy=\"-162\" fill=\"#404040\" rx=\"27\" ry=\"18\" stroke=\"#000000\"/>\n",
       "<text fill=\"#ffffff\" font-family=\"Times,serif\" font-size=\"14.00\" text-anchor=\"middle\" x=\"99\" y=\"-158.3\">F</text>\n",
       "</a>\n",
       "</g>\n",
       "</g>\n",
       "<!-- F&#45;&gt;B -->\n",
       "<g class=\"edge\" id=\"edge5\">\n",
       "<title>F-&gt;B</title>\n",
       "<g id=\"a_edge5\"><a xlink:title=\"(5, 1) : \">\n",
       "<path d=\"M99,-143.8314C99,-136.131 99,-126.9743 99,-118.4166\" fill=\"none\" stroke=\"#4a4a4a\"/>\n",
       "<polygon fill=\"#4a4a4a\" points=\"102.5001,-118.4132 99,-108.4133 95.5001,-118.4133 102.5001,-118.4132\" stroke=\"#4a4a4a\"/>\n",
       "</a>\n",
       "</g>\n",
       "</g>\n",
       "</g>\n",
       "</svg>"
      ],
      "text/plain": [
       "<IPython.core.display.SVG object>"
      ]
     },
     "metadata": {},
     "output_type": "display_data"
    }
   ],
   "source": [
    "bn=gum.fastBN(\"A->B<-C->D->E<-B<-F\")\n",
    "gnb.showBN(bn)"
   ]
  },
  {
   "cell_type": "code",
   "execution_count": 8,
   "metadata": {},
   "outputs": [
    {
     "data": {
      "image/svg+xml": [
       "<svg height=\"316pt\" viewBox=\"0.00 0.00 342.24 316.25\" width=\"342pt\" xmlns=\"http://www.w3.org/2000/svg\" xmlns:xlink=\"http://www.w3.org/1999/xlink\">\n",
       "<g class=\"graph\" id=\"graph0\" transform=\"scale(1 1) rotate(0) translate(4 312.2516)\">\n",
       "<title>FG</title>\n",
       "<polygon fill=\"#ffffff\" points=\"-4,4 -4,-312.2516 338.2444,-312.2516 338.2444,4 -4,4\" stroke=\"transparent\"/>\n",
       "<!-- A -->\n",
       "<g class=\"node\" id=\"node1\">\n",
       "<title>A</title>\n",
       "<ellipse cx=\"68.844\" cy=\"-108.905\" fill=\"#deb887\" rx=\"10.7143\" ry=\"10.7143\" stroke=\"#deb887\"/>\n",
       "<text fill=\"#000000\" font-family=\"Times,serif\" font-size=\"14.00\" text-anchor=\"middle\" x=\"68.844\" y=\"-105.205\">A</text>\n",
       "</g>\n",
       "<!-- B -->\n",
       "<g class=\"node\" id=\"node2\">\n",
       "<title>B</title>\n",
       "<ellipse cx=\"196.9048\" cy=\"-214.5505\" fill=\"#deb887\" rx=\"10.7143\" ry=\"10.7143\" stroke=\"#deb887\"/>\n",
       "<text fill=\"#000000\" font-family=\"Times,serif\" font-size=\"14.00\" text-anchor=\"middle\" x=\"196.9048\" y=\"-210.8505\">B</text>\n",
       "</g>\n",
       "<!-- C -->\n",
       "<g class=\"node\" id=\"node3\">\n",
       "<title>C</title>\n",
       "<ellipse cx=\"192.4489\" cy=\"-88.7101\" fill=\"#deb887\" rx=\"10.7143\" ry=\"10.7143\" stroke=\"#deb887\"/>\n",
       "<text fill=\"#000000\" font-family=\"Times,serif\" font-size=\"14.00\" text-anchor=\"middle\" x=\"192.4489\" y=\"-85.0101\">C</text>\n",
       "</g>\n",
       "<!-- D -->\n",
       "<g class=\"node\" id=\"node4\">\n",
       "<title>D</title>\n",
       "<ellipse cx=\"323.6378\" cy=\"-162.5018\" fill=\"#deb887\" rx=\"10.7143\" ry=\"10.7143\" stroke=\"#deb887\"/>\n",
       "<text fill=\"#000000\" font-family=\"Times,serif\" font-size=\"14.00\" text-anchor=\"middle\" x=\"323.6378\" y=\"-158.8018\">D</text>\n",
       "</g>\n",
       "<!-- E -->\n",
       "<g class=\"node\" id=\"node5\">\n",
       "<title>E</title>\n",
       "<ellipse cx=\"318.7461\" cy=\"-297.645\" fill=\"#deb887\" rx=\"10.7143\" ry=\"10.7143\" stroke=\"#deb887\"/>\n",
       "<text fill=\"#000000\" font-family=\"Times,serif\" font-size=\"14.00\" text-anchor=\"middle\" x=\"318.7461\" y=\"-293.945\">E</text>\n",
       "</g>\n",
       "<!-- F -->\n",
       "<g class=\"node\" id=\"node6\">\n",
       "<title>F</title>\n",
       "<ellipse cx=\"81.5953\" cy=\"-218.5361\" fill=\"#deb887\" rx=\"10.7143\" ry=\"10.7143\" stroke=\"#deb887\"/>\n",
       "<text fill=\"#000000\" font-family=\"Times,serif\" font-size=\"14.00\" text-anchor=\"middle\" x=\"81.5953\" y=\"-214.8361\">F</text>\n",
       "</g>\n",
       "<!-- 0 -->\n",
       "<g class=\"node\" id=\"node7\">\n",
       "<title>0</title>\n",
       "<polygon fill=\"#ff7f50\" points=\"7,-74.8748 0,-74.8748 0,-59.8748 7,-59.8748 7,-74.8748\" stroke=\"#ff7f50\"/>\n",
       "<text fill=\"#000000\" font-family=\"Times,serif\" font-size=\"14.00\" text-anchor=\"middle\" x=\"3.5\" y=\"-63.6748\">0</text>\n",
       "</g>\n",
       "<!-- 0&#45;&#45;A -->\n",
       "<g class=\"edge\" id=\"edge1\">\n",
       "<title>0--A</title>\n",
       "<path d=\"M7.0132,-69.6076C16.8745,-75.8751 45.0462,-93.78 59.7152,-103.1031\" fill=\"none\" stroke=\"#000000\"/>\n",
       "</g>\n",
       "<!-- 1 -->\n",
       "<g class=\"node\" id=\"node8\">\n",
       "<title>1</title>\n",
       "<polygon fill=\"#ff7f50\" points=\"140.2632,-162.8997 133.2632,-162.8997 133.2632,-147.8997 140.2632,-147.8997 140.2632,-162.8997\" stroke=\"#ff7f50\"/>\n",
       "<text fill=\"#000000\" font-family=\"Times,serif\" font-size=\"14.00\" text-anchor=\"middle\" x=\"136.7632\" y=\"-151.6997\">1</text>\n",
       "</g>\n",
       "<!-- 1&#45;&#45;A -->\n",
       "<g class=\"edge\" id=\"edge4\">\n",
       "<title>1--A</title>\n",
       "<path d=\"M133.1116,-152.9C122.7514,-145.8078 92.9478,-125.4055 77.8456,-115.0671\" fill=\"none\" stroke=\"#000000\"/>\n",
       "</g>\n",
       "<!-- 1&#45;&#45;B -->\n",
       "<g class=\"edge\" id=\"edge5\">\n",
       "<title>1--B</title>\n",
       "<path d=\"M140.3452,-158.9227C149.8535,-168.2743 175.8994,-193.8912 189.0655,-206.8403\" fill=\"none\" stroke=\"#000000\"/>\n",
       "</g>\n",
       "<!-- 1&#45;&#45;C -->\n",
       "<g class=\"edge\" id=\"edge3\">\n",
       "<title>1--C</title>\n",
       "<path d=\"M140.4169,-151.024C149.5147,-140.1284 173.3113,-111.6294 185.3113,-97.2581\" fill=\"none\" stroke=\"#000000\"/>\n",
       "</g>\n",
       "<!-- 1&#45;&#45;F -->\n",
       "<g class=\"edge\" id=\"edge2\">\n",
       "<title>1--F</title>\n",
       "<path d=\"M133.1435,-159.5423C124.1302,-169.8574 100.5549,-196.8379 88.6664,-210.4436\" fill=\"none\" stroke=\"#000000\"/>\n",
       "</g>\n",
       "<!-- 2 -->\n",
       "<g class=\"node\" id=\"node9\">\n",
       "<title>2</title>\n",
       "<polygon fill=\"#ff7f50\" points=\"197.2917,-15 190.2917,-15 190.2917,0 197.2917,0 197.2917,-15\" stroke=\"#ff7f50\"/>\n",
       "<text fill=\"#000000\" font-family=\"Times,serif\" font-size=\"14.00\" text-anchor=\"middle\" x=\"193.7917\" y=\"-3.8\">2</text>\n",
       "</g>\n",
       "<!-- 2&#45;&#45;C -->\n",
       "<g class=\"edge\" id=\"edge6\">\n",
       "<title>2--C</title>\n",
       "<path d=\"M193.6629,-15.2868C193.4213,-29.8962 192.8998,-61.4352 192.6256,-78.0202\" fill=\"none\" stroke=\"#000000\"/>\n",
       "</g>\n",
       "<!-- 3 -->\n",
       "<g class=\"node\" id=\"node10\">\n",
       "<title>3</title>\n",
       "<polygon fill=\"#ff7f50\" points=\"278.9923,-105.9756 271.9923,-105.9756 271.9923,-90.9756 278.9923,-90.9756 278.9923,-105.9756\" stroke=\"#ff7f50\"/>\n",
       "<text fill=\"#000000\" font-family=\"Times,serif\" font-size=\"14.00\" text-anchor=\"middle\" x=\"275.4923\" y=\"-94.7756\">3</text>\n",
       "</g>\n",
       "<!-- 3&#45;&#45;C -->\n",
       "<g class=\"edge\" id=\"edge7\">\n",
       "<title>3--C</title>\n",
       "<path d=\"M271.9241,-98.056C260.127,-96.6687 222.0629,-92.1926 203.2202,-89.9768\" fill=\"none\" stroke=\"#000000\"/>\n",
       "</g>\n",
       "<!-- 3&#45;&#45;D -->\n",
       "<g class=\"edge\" id=\"edge8\">\n",
       "<title>3--D</title>\n",
       "<path d=\"M279.2702,-103.4996C287.4279,-114.3481 306.7793,-140.0825 317.0191,-153.7\" fill=\"none\" stroke=\"#000000\"/>\n",
       "</g>\n",
       "<!-- 4 -->\n",
       "<g class=\"node\" id=\"node11\">\n",
       "<title>4</title>\n",
       "<polygon fill=\"#ff7f50\" points=\"280.7574,-238.9699 273.7574,-238.9699 273.7574,-223.9699 280.7574,-223.9699 280.7574,-238.9699\" stroke=\"#ff7f50\"/>\n",
       "<text fill=\"#000000\" font-family=\"Times,serif\" font-size=\"14.00\" text-anchor=\"middle\" x=\"277.2574\" y=\"-227.7699\">4</text>\n",
       "</g>\n",
       "<!-- 4&#45;&#45;B -->\n",
       "<g class=\"edge\" id=\"edge9\">\n",
       "<title>4--B</title>\n",
       "<path d=\"M273.3818,-230.6539C261.5319,-228.1587 225.4946,-220.5705 207.4431,-216.7695\" fill=\"none\" stroke=\"#000000\"/>\n",
       "</g>\n",
       "<!-- 4&#45;&#45;D -->\n",
       "<g class=\"edge\" id=\"edge10\">\n",
       "<title>4--D</title>\n",
       "<path d=\"M280.8968,-226.0581C288.8408,-214.2452 307.8038,-186.047 317.5803,-171.5094\" fill=\"none\" stroke=\"#000000\"/>\n",
       "</g>\n",
       "<!-- 4&#45;&#45;E -->\n",
       "<g class=\"edge\" id=\"edge11\">\n",
       "<title>4--E</title>\n",
       "<path d=\"M280.7947,-237.112C287.9276,-248.4891 304.1003,-274.2847 312.8541,-288.2472\" fill=\"none\" stroke=\"#000000\"/>\n",
       "</g>\n",
       "<!-- 5 -->\n",
       "<g class=\"node\" id=\"node12\">\n",
       "<title>5</title>\n",
       "<polygon fill=\"#ff7f50\" points=\"30.5926,-281.3309 23.5926,-281.3309 23.5926,-266.3309 30.5926,-266.3309 30.5926,-281.3309\" stroke=\"#ff7f50\"/>\n",
       "<text fill=\"#000000\" font-family=\"Times,serif\" font-size=\"14.00\" text-anchor=\"middle\" x=\"27.0926\" y=\"-270.1309\">5</text>\n",
       "</g>\n",
       "<!-- 5&#45;&#45;F -->\n",
       "<g class=\"edge\" id=\"edge12\">\n",
       "<title>5--F</title>\n",
       "<path d=\"M30.6686,-270.2028C39.3838,-261.3611 61.8797,-238.5382 73.8442,-226.3998\" fill=\"none\" stroke=\"#000000\"/>\n",
       "</g>\n",
       "</g>\n",
       "</svg>"
      ],
      "text/plain": [
       "<IPython.core.display.SVG object>"
      ]
     },
     "execution_count": 8,
     "metadata": {},
     "output_type": "execute_result"
    }
   ],
   "source": [
    "fg=FactorGraph()\n",
    "fg.build(bn)\n",
    "fg.show()"
   ]
  },
  {
   "cell_type": "markdown",
   "metadata": {},
   "source": [
    "# Sum Product Aglorithm"
   ]
  },
  {
   "cell_type": "code",
   "execution_count": 12,
   "metadata": {},
   "outputs": [
    {
     "data": {
      "text/html": [
       "<table style=\"border:1px solid black;\">\n",
       "<tr style='border:1px solid black;color:black;background-color:#808080'><th colspan='2'><center>B</center></th></tr>\n",
       "<tr><th style='border:1px solid black;border-bottom-style: double;color:black;background-color:#BBBBBB'><center>0</center></th><th style='border:1px solid black;border-bottom-style: double;color:black;background-color:#BBBBBB'><center>1</center></th></tr>\n",
       "<tr><td style='color:black;background-color:#c8b564;text-align:right;'>0.4277</td><td style='color:black;background-color:#b5c864;text-align:right;'>0.5723</td></tr>\n",
       "</table>"
      ],
      "text/plain": [
       "(gum::Potential<double>@0x561d08d10b60) <B:0> :: 0.427653 /<B:1> :: 0.572347"
      ]
     },
     "execution_count": 12,
     "metadata": {},
     "output_type": "execute_result"
    }
   ],
   "source": [
    "spi=TreeSumProductInference(fg)\n",
    "spi.makeInference()\n",
    "spi.posterior('B')"
   ]
  },
  {
   "cell_type": "code",
   "execution_count": 13,
   "metadata": {},
   "outputs": [
    {
     "data": {
      "text/html": [
       "<table style=\"border:1px solid black;\">\n",
       "<tr style='border:1px solid black;color:black;background-color:#808080'><th colspan='2'><center>B</center></th></tr>\n",
       "<tr><th style='border:1px solid black;border-bottom-style: double;color:black;background-color:#BBBBBB'><center>0</center></th><th style='border:1px solid black;border-bottom-style: double;color:black;background-color:#BBBBBB'><center>1</center></th></tr>\n",
       "<tr><td style='color:black;background-color:#c8b564;text-align:right;'>0.4277</td><td style='color:black;background-color:#b5c864;text-align:right;'>0.5723</td></tr>\n",
       "</table>"
      ],
      "text/plain": [
       "(gum::Potential<double>@0x561d08e90a60) <B:0> :: 0.427653 /<B:1> :: 0.572347"
      ]
     },
     "execution_count": 13,
     "metadata": {},
     "output_type": "execute_result"
    }
   ],
   "source": [
    "ie = gum.LazyPropagation(bn)\n",
    "ie.makeInference()\n",
    "ie.posterior(\"B\")"
   ]
  },
  {
   "cell_type": "markdown",
   "metadata": {},
   "source": [
    "# Max Product Aglorithm et Max Sum Aglorithm"
   ]
  },
  {
   "cell_type": "code",
   "execution_count": 14,
   "metadata": {},
   "outputs": [
    {
     "data": {
      "text/plain": [
       "{'A': 1, 'B': 1, 'C': 1, 'D': 1, 'E': 0, 'F': 1}"
      ]
     },
     "execution_count": 14,
     "metadata": {},
     "output_type": "execute_result"
    }
   ],
   "source": [
    "mpi=TreeMaxProductInference(fg)\n",
    "mpi.makeInference()\n",
    "mpi.argmax()"
   ]
  },
  {
   "cell_type": "code",
   "execution_count": 17,
   "metadata": {},
   "outputs": [
    {
     "name": "stderr",
     "output_type": "stream",
     "text": [
      "/home/felix/cours/m2/madi/notebooks/treeMaxSum.py:16: RuntimeWarning: divide by zero encountered in log\n",
      "  p[i] = f(e)\n"
     ]
    },
    {
     "data": {
      "text/plain": [
       "{'A': 1, 'B': 1, 'C': 1, 'D': 1, 'E': 0, 'F': 1}"
      ]
     },
     "execution_count": 17,
     "metadata": {},
     "output_type": "execute_result"
    }
   ],
   "source": [
    "msi=TreeMaxSumInference(fg)\n",
    "msi.makeInference()\n",
    "msi.argmax()"
   ]
  },
  {
   "cell_type": "markdown",
   "metadata": {},
   "source": [
    "# Loopy  belief \n",
    "\n",
    "On remarque que les fonctions précédentes fonctionnent dans un réseau dans lequel il existe un cycle. Cependant, dans un réseau issu d'un réseau Bayesien dans lequel il existe un circuit, les algorithmes de fonctionnent pas. Aucune solution n'a été trouvée. \n",
    "\n",
    "Par exemple, dans le graphe ci-dessous, les algorithmes ne parviennent pas à effectuer l'inférence."
   ]
  },
  {
   "cell_type": "code",
   "execution_count": 18,
   "metadata": {},
   "outputs": [
    {
     "data": {
      "image/svg+xml": [
       "<svg height=\"186pt\" viewBox=\"0.00 0.00 167.79 186.45\" width=\"168pt\" xmlns=\"http://www.w3.org/2000/svg\" xmlns:xlink=\"http://www.w3.org/1999/xlink\">\n",
       "<g class=\"graph\" id=\"graph0\" transform=\"scale(1 1) rotate(0) translate(4 182.454)\">\n",
       "<title>FG</title>\n",
       "<polygon fill=\"#ffffff\" points=\"-4,4 -4,-182.454 163.7861,-182.454 163.7861,4 -4,4\" stroke=\"transparent\"/>\n",
       "<!-- A -->\n",
       "<g class=\"node\" id=\"node1\">\n",
       "<title>A</title>\n",
       "<ellipse cx=\"10.6066\" cy=\"-125.4128\" fill=\"#deb887\" rx=\"10.7143\" ry=\"10.7143\" stroke=\"#deb887\"/>\n",
       "<text fill=\"#000000\" font-family=\"Times,serif\" font-size=\"14.00\" text-anchor=\"middle\" x=\"10.6066\" y=\"-121.7128\">A</text>\n",
       "</g>\n",
       "<!-- B -->\n",
       "<g class=\"node\" id=\"node2\">\n",
       "<title>B</title>\n",
       "<ellipse cx=\"149.1795\" cy=\"-136.3603\" fill=\"#deb887\" rx=\"10.7143\" ry=\"10.7143\" stroke=\"#deb887\"/>\n",
       "<text fill=\"#000000\" font-family=\"Times,serif\" font-size=\"14.00\" text-anchor=\"middle\" x=\"149.1795\" y=\"-132.6603\">B</text>\n",
       "</g>\n",
       "<!-- C -->\n",
       "<g class=\"node\" id=\"node3\">\n",
       "<title>C</title>\n",
       "<ellipse cx=\"89.6353\" cy=\"-10.6066\" fill=\"#deb887\" rx=\"10.7143\" ry=\"10.7143\" stroke=\"#deb887\"/>\n",
       "<text fill=\"#000000\" font-family=\"Times,serif\" font-size=\"14.00\" text-anchor=\"middle\" x=\"89.6353\" y=\"-6.9066\">C</text>\n",
       "</g>\n",
       "<!-- 0 -->\n",
       "<g class=\"node\" id=\"node4\">\n",
       "<title>0</title>\n",
       "<polygon fill=\"#ff7f50\" points=\"80.22,-178.454 73.22,-178.454 73.22,-163.454 80.22,-163.454 80.22,-178.454\" stroke=\"#ff7f50\"/>\n",
       "<text fill=\"#000000\" font-family=\"Times,serif\" font-size=\"14.00\" text-anchor=\"middle\" x=\"76.72\" y=\"-167.254\">0</text>\n",
       "</g>\n",
       "<!-- 0&#45;&#45;A -->\n",
       "<g class=\"edge\" id=\"edge2\">\n",
       "<title>0--A</title>\n",
       "<path d=\"M73.1655,-168.5055C63.0807,-161.5587 34.0695,-141.5749 19.3689,-131.4486\" fill=\"none\" stroke=\"#000000\"/>\n",
       "</g>\n",
       "<!-- 0&#45;&#45;B -->\n",
       "<g class=\"edge\" id=\"edge1\">\n",
       "<title>0--B</title>\n",
       "<path d=\"M80.6158,-169.0941C91.6685,-163.8172 123.4644,-148.6372 139.5762,-140.9451\" fill=\"none\" stroke=\"#000000\"/>\n",
       "</g>\n",
       "<!-- 1 -->\n",
       "<g class=\"node\" id=\"node5\">\n",
       "<title>1</title>\n",
       "<polygon fill=\"#ff7f50\" points=\"159.1351,-63.8221 152.1351,-63.8221 152.1351,-48.8221 159.1351,-48.8221 159.1351,-63.8221\" stroke=\"#ff7f50\"/>\n",
       "<text fill=\"#000000\" font-family=\"Times,serif\" font-size=\"14.00\" text-anchor=\"middle\" x=\"155.6351\" y=\"-52.6221\">1</text>\n",
       "</g>\n",
       "<!-- 1&#45;&#45;B -->\n",
       "<g class=\"edge\" id=\"edge4\">\n",
       "<title>1--B</title>\n",
       "<path d=\"M155.0161,-63.9965C153.8611,-78.3169 151.3749,-109.1416 150.0509,-125.5569\" fill=\"none\" stroke=\"#000000\"/>\n",
       "</g>\n",
       "<!-- 1&#45;&#45;C -->\n",
       "<g class=\"edge\" id=\"edge3\">\n",
       "<title>1--C</title>\n",
       "<path d=\"M152.0867,-53.8642C142.0192,-46.8909 113.0579,-26.8305 98.3825,-16.6655\" fill=\"none\" stroke=\"#000000\"/>\n",
       "</g>\n",
       "<!-- 2 -->\n",
       "<g class=\"node\" id=\"node6\">\n",
       "<title>2</title>\n",
       "<polygon fill=\"#ff7f50\" points=\"20.7648,-52.8939 13.7648,-52.8939 13.7648,-37.8939 20.7648,-37.8939 20.7648,-52.8939\" stroke=\"#ff7f50\"/>\n",
       "<text fill=\"#000000\" font-family=\"Times,serif\" font-size=\"14.00\" text-anchor=\"middle\" x=\"17.2648\" y=\"-41.6939\">2</text>\n",
       "</g>\n",
       "<!-- 2&#45;&#45;A -->\n",
       "<g class=\"edge\" id=\"edge5\">\n",
       "<title>2--A</title>\n",
       "<path d=\"M16.6264,-53.0664C15.4351,-67.3834 12.8709,-98.2007 11.5053,-114.612\" fill=\"none\" stroke=\"#000000\"/>\n",
       "</g>\n",
       "<!-- 2&#45;&#45;C -->\n",
       "<g class=\"edge\" id=\"edge6\">\n",
       "<title>2--C</title>\n",
       "<path d=\"M21.1557,-43.5236C32.1949,-38.2172 63.9518,-22.9522 80.0437,-15.2171\" fill=\"none\" stroke=\"#000000\"/>\n",
       "</g>\n",
       "</g>\n",
       "</svg>"
      ],
      "text/plain": [
       "<IPython.core.display.SVG object>"
      ]
     },
     "execution_count": 18,
     "metadata": {},
     "output_type": "execute_result"
    }
   ],
   "source": [
    "fc = FactorGraph()\n",
    "a = gum.RangeVariable(\"A\",\"variable A\",0,1)\n",
    "b = gum.RangeVariable(\"B\",\"variable B\",0,1)\n",
    "c = gum.RangeVariable(\"C\",\"variable C\",0,1)\n",
    "fc.addVariable(a)\n",
    "fc.addVariable(b)\n",
    "fc.addVariable(c)\n",
    "\n",
    "p1 = gum.Potential().add(a).add(b).fillWith([1,2,3,4]).normalizeAsCPT()\n",
    "p2 = gum.Potential().add(b).add(c).fillWith([1,2,3,4]).normalizeAsCPT()\n",
    "p3 = gum.Potential().add(c).add(a).fillWith([1,2,3,4]).normalizeAsCPT()\n",
    "fc.addFactor(p1)\n",
    "fc.addFactor(p2)\n",
    "fc.addFactor(p3)\n",
    "fc.show()"
   ]
  },
  {
   "cell_type": "code",
   "execution_count": 28,
   "metadata": {},
   "outputs": [
    {
     "name": "stdout",
     "output_type": "stream",
     "text": [
      "Inference didn't work, maybe because the graph comes from a cyclic Bayesian network.\n"
     ]
    }
   ],
   "source": [
    "spi=TreeSumProductInference(fc)\n",
    "spi.makeInference()\n",
    "spi.posterior('A')"
   ]
  },
  {
   "cell_type": "markdown",
   "metadata": {},
   "source": [
    "# Add Evidence\n",
    "\n",
    "Lorsque le noeud observé O est en dessous d'un noeud A dans le réseau Bayesien, la valeur de A n'est pas changée après l'inférence. En revanche, lorsque O est au dessus, A est modifié."
   ]
  },
  {
   "cell_type": "code",
   "execution_count": 29,
   "metadata": {},
   "outputs": [
    {
     "data": {
      "text/html": [
       "<table style=\"border:1px solid black;\">\n",
       "<tr style='border:1px solid black;color:black;background-color:#808080'><th colspan='2'><center>E</center></th></tr>\n",
       "<tr><th style='border:1px solid black;border-bottom-style: double;color:black;background-color:#BBBBBB'><center>0</center></th><th style='border:1px solid black;border-bottom-style: double;color:black;background-color:#BBBBBB'><center>1</center></th></tr>\n",
       "<tr><td style='color:black;background-color:#ff7f64;text-align:right;'>0.0000</td><td style='color:black;background-color:#7fff64;text-align:right;'>1.0000</td></tr>\n",
       "</table>"
      ],
      "text/plain": [
       "(gum::Potential<double>@0x561d0926af30) <E:0> :: 0 /<E:1> :: 1"
      ]
     },
     "execution_count": 29,
     "metadata": {},
     "output_type": "execute_result"
    }
   ],
   "source": [
    "spi=TreeSumProductInference(fg)\n",
    "spi.addEvidence({\"E\": 1})\n",
    "spi.fg.show()\n",
    "spi.makeInference()\n",
    "spi.posterior('E')"
   ]
  },
  {
   "cell_type": "markdown",
   "metadata": {},
   "source": [
    "### Noeud en amont"
   ]
  },
  {
   "cell_type": "code",
   "execution_count": 30,
   "metadata": {},
   "outputs": [
    {
     "data": {
      "text/html": [
       "<table style=\"border:1px solid black;\">\n",
       "<tr style='border:1px solid black;color:black;background-color:#808080'><th colspan='2'><center>A</center></th></tr>\n",
       "<tr><th style='border:1px solid black;border-bottom-style: double;color:black;background-color:#BBBBBB'><center>0</center></th><th style='border:1px solid black;border-bottom-style: double;color:black;background-color:#BBBBBB'><center>1</center></th></tr>\n",
       "<tr><td style='color:black;background-color:#c1bc64;text-align:right;'>0.4766</td><td style='color:black;background-color:#bcc164;text-align:right;'>0.5234</td></tr>\n",
       "</table>"
      ],
      "text/plain": [
       "(gum::Potential<double>@0x561d08c69220) <A:0> :: 0.476647 /<A:1> :: 0.523353"
      ]
     },
     "execution_count": 30,
     "metadata": {},
     "output_type": "execute_result"
    }
   ],
   "source": [
    "spi=TreeSumProductInference(fg)\n",
    "spi.addEvidence({\"E\": 1})\n",
    "spi.fg.show()\n",
    "spi.makeInference()\n",
    "spi.posterior('A')"
   ]
  },
  {
   "cell_type": "code",
   "execution_count": 31,
   "metadata": {},
   "outputs": [
    {
     "data": {
      "text/html": [
       "<table style=\"border:1px solid black;\">\n",
       "<tr style='border:1px solid black;color:black;background-color:#808080'><th colspan='2'><center>A</center></th></tr>\n",
       "<tr><th style='border:1px solid black;border-bottom-style: double;color:black;background-color:#BBBBBB'><center>0</center></th><th style='border:1px solid black;border-bottom-style: double;color:black;background-color:#BBBBBB'><center>1</center></th></tr>\n",
       "<tr><td style='color:black;background-color:#c1bc64;text-align:right;'>0.4766</td><td style='color:black;background-color:#bcc164;text-align:right;'>0.5234</td></tr>\n",
       "</table>"
      ],
      "text/plain": [
       "(gum::Potential<double>@0x561d089cfe10) <A:0> :: 0.476647 /<A:1> :: 0.523353"
      ]
     },
     "execution_count": 31,
     "metadata": {},
     "output_type": "execute_result"
    }
   ],
   "source": [
    "spi=TreeSumProductInference(fg)\n",
    "spi.fg.show()\n",
    "spi.makeInference()\n",
    "spi.posterior('A')"
   ]
  },
  {
   "cell_type": "markdown",
   "metadata": {},
   "source": [
    "### Noeud en aval"
   ]
  },
  {
   "cell_type": "code",
   "execution_count": 33,
   "metadata": {},
   "outputs": [
    {
     "data": {
      "text/html": [
       "<table style=\"border:1px solid black;\">\n",
       "<tr style='border:1px solid black;color:black;background-color:#808080'><th colspan='2'><center>E</center></th></tr>\n",
       "<tr><th style='border:1px solid black;border-bottom-style: double;color:black;background-color:#BBBBBB'><center>0</center></th><th style='border:1px solid black;border-bottom-style: double;color:black;background-color:#BBBBBB'><center>1</center></th></tr>\n",
       "<tr><td style='color:black;background-color:#b7c664;text-align:right;'>0.5583</td><td style='color:black;background-color:#c6b764;text-align:right;'>0.4417</td></tr>\n",
       "</table>"
      ],
      "text/plain": [
       "(gum::Potential<double>@0x561d097b50e0) <E:0> :: 0.558289 /<E:1> :: 0.441711"
      ]
     },
     "execution_count": 33,
     "metadata": {},
     "output_type": "execute_result"
    }
   ],
   "source": [
    "spi=TreeSumProductInference(fg)\n",
    "spi.addEvidence({\"B\": 0})\n",
    "spi.fg.show()\n",
    "spi.makeInference()\n",
    "spi.posterior('E')"
   ]
  },
  {
   "cell_type": "code",
   "execution_count": 34,
   "metadata": {},
   "outputs": [
    {
     "data": {
      "text/html": [
       "<table style=\"border:1px solid black;\">\n",
       "<tr style='border:1px solid black;color:black;background-color:#808080'><th colspan='2'><center>E</center></th></tr>\n",
       "<tr><th style='border:1px solid black;border-bottom-style: double;color:black;background-color:#BBBBBB'><center>0</center></th><th style='border:1px solid black;border-bottom-style: double;color:black;background-color:#BBBBBB'><center>1</center></th></tr>\n",
       "<tr><td style='color:black;background-color:#add064;text-align:right;'>0.6341</td><td style='color:black;background-color:#d0ad64;text-align:right;'>0.3659</td></tr>\n",
       "</table>"
      ],
      "text/plain": [
       "(gum::Potential<double>@0x561d096db290) <E:0> :: 0.634145 /<E:1> :: 0.365855"
      ]
     },
     "execution_count": 34,
     "metadata": {},
     "output_type": "execute_result"
    }
   ],
   "source": [
    "spi=TreeSumProductInference(fg)\n",
    "spi.fg.show()\n",
    "spi.makeInference()\n",
    "spi.posterior('E')"
   ]
  },
  {
   "cell_type": "markdown",
   "metadata": {},
   "source": [
    "# APPLICATION\n",
    "\n",
    "Création du réseau. Les tables des bits sont initialisées à [0.5, 0.5] et celles des pc sont initialisés comme montré ci-dessous."
   ]
  },
  {
   "cell_type": "code",
   "execution_count": 36,
   "metadata": {},
   "outputs": [
    {
     "data": {
      "image/svg+xml": [
       "<svg height=\"116pt\" viewBox=\"0.00 0.00 206.00 116.00\" width=\"206pt\" xmlns=\"http://www.w3.org/2000/svg\" xmlns:xlink=\"http://www.w3.org/1999/xlink\">\n",
       "<g class=\"graph\" id=\"graph0\" transform=\"scale(1 1) rotate(0) translate(4 112)\">\n",
       "<title>G</title>\n",
       "<!-- x1 -->\n",
       "<g class=\"node\" id=\"node1\">\n",
       "<title>x1</title>\n",
       "<g id=\"a_node1\"><a xlink:title=\"(0) x1\">\n",
       "<ellipse cx=\"99\" cy=\"-90\" fill=\"#404040\" rx=\"27\" ry=\"18\" stroke=\"#000000\"/>\n",
       "<text fill=\"#ffffff\" font-family=\"Times,serif\" font-size=\"14.00\" text-anchor=\"middle\" x=\"99\" y=\"-86.3\">x1</text>\n",
       "</a>\n",
       "</g>\n",
       "</g>\n",
       "<!-- pc1 -->\n",
       "<g class=\"node\" id=\"node4\">\n",
       "<title>pc1</title>\n",
       "<g id=\"a_node4\"><a xlink:title=\"(3) pc1\">\n",
       "<ellipse cx=\"27\" cy=\"-18\" fill=\"#404040\" rx=\"27\" ry=\"18\" stroke=\"#000000\"/>\n",
       "<text fill=\"#ffffff\" font-family=\"Times,serif\" font-size=\"14.00\" text-anchor=\"middle\" x=\"27\" y=\"-14.3\">pc1</text>\n",
       "</a>\n",
       "</g>\n",
       "</g>\n",
       "<!-- x1&#45;&gt;pc1 -->\n",
       "<g class=\"edge\" id=\"edge4\">\n",
       "<title>x1-&gt;pc1</title>\n",
       "<g id=\"a_edge4\"><a xlink:title=\"(0, 3) : \">\n",
       "<path d=\"M83.7307,-74.7307C73.803,-64.803 60.6847,-51.6847 49.5637,-40.5637\" fill=\"none\" stroke=\"#4a4a4a\"/>\n",
       "<polygon fill=\"#4a4a4a\" points=\"51.7933,-37.8436 42.2473,-33.2473 46.8436,-42.7933 51.7933,-37.8436\" stroke=\"#4a4a4a\"/>\n",
       "</a>\n",
       "</g>\n",
       "</g>\n",
       "<!-- pc2 -->\n",
       "<g class=\"node\" id=\"node5\">\n",
       "<title>pc2</title>\n",
       "<g id=\"a_node5\"><a xlink:title=\"(4) pc2\">\n",
       "<ellipse cx=\"99\" cy=\"-18\" fill=\"#404040\" rx=\"27\" ry=\"18\" stroke=\"#000000\"/>\n",
       "<text fill=\"#ffffff\" font-family=\"Times,serif\" font-size=\"14.00\" text-anchor=\"middle\" x=\"99\" y=\"-14.3\">pc2</text>\n",
       "</a>\n",
       "</g>\n",
       "</g>\n",
       "<!-- x1&#45;&gt;pc2 -->\n",
       "<g class=\"edge\" id=\"edge3\">\n",
       "<title>x1-&gt;pc2</title>\n",
       "<g id=\"a_edge3\"><a xlink:title=\"(0, 4) : \">\n",
       "<path d=\"M99,-71.8314C99,-64.131 99,-54.9743 99,-46.4166\" fill=\"none\" stroke=\"#4a4a4a\"/>\n",
       "<polygon fill=\"#4a4a4a\" points=\"102.5001,-46.4132 99,-36.4133 95.5001,-46.4133 102.5001,-46.4132\" stroke=\"#4a4a4a\"/>\n",
       "</a>\n",
       "</g>\n",
       "</g>\n",
       "<!-- x2 -->\n",
       "<g class=\"node\" id=\"node2\">\n",
       "<title>x2</title>\n",
       "<g id=\"a_node2\"><a xlink:title=\"(1) x2\">\n",
       "<ellipse cx=\"27\" cy=\"-90\" fill=\"#404040\" rx=\"27\" ry=\"18\" stroke=\"#000000\"/>\n",
       "<text fill=\"#ffffff\" font-family=\"Times,serif\" font-size=\"14.00\" text-anchor=\"middle\" x=\"27\" y=\"-86.3\">x2</text>\n",
       "</a>\n",
       "</g>\n",
       "</g>\n",
       "<!-- x2&#45;&gt;pc1 -->\n",
       "<g class=\"edge\" id=\"edge1\">\n",
       "<title>x2-&gt;pc1</title>\n",
       "<g id=\"a_edge1\"><a xlink:title=\"(1, 3) : \">\n",
       "<path d=\"M27,-71.8314C27,-64.131 27,-54.9743 27,-46.4166\" fill=\"none\" stroke=\"#4a4a4a\"/>\n",
       "<polygon fill=\"#4a4a4a\" points=\"30.5001,-46.4132 27,-36.4133 23.5001,-46.4133 30.5001,-46.4132\" stroke=\"#4a4a4a\"/>\n",
       "</a>\n",
       "</g>\n",
       "</g>\n",
       "<!-- x2&#45;&gt;pc2 -->\n",
       "<g class=\"edge\" id=\"edge2\">\n",
       "<title>x2-&gt;pc2</title>\n",
       "<g id=\"a_edge2\"><a xlink:title=\"(1, 4) : \">\n",
       "<path d=\"M42.2693,-74.7307C52.197,-64.803 65.3153,-51.6847 76.4363,-40.5637\" fill=\"none\" stroke=\"#4a4a4a\"/>\n",
       "<polygon fill=\"#4a4a4a\" points=\"79.1564,-42.7933 83.7527,-33.2473 74.2067,-37.8436 79.1564,-42.7933\" stroke=\"#4a4a4a\"/>\n",
       "</a>\n",
       "</g>\n",
       "</g>\n",
       "<!-- x3 -->\n",
       "<g class=\"node\" id=\"node3\">\n",
       "<title>x3</title>\n",
       "<g id=\"a_node3\"><a xlink:title=\"(2) x3\">\n",
       "<ellipse cx=\"171\" cy=\"-90\" fill=\"#404040\" rx=\"27\" ry=\"18\" stroke=\"#000000\"/>\n",
       "<text fill=\"#ffffff\" font-family=\"Times,serif\" font-size=\"14.00\" text-anchor=\"middle\" x=\"171\" y=\"-86.3\">x3</text>\n",
       "</a>\n",
       "</g>\n",
       "</g>\n",
       "<!-- x3&#45;&gt;pc2 -->\n",
       "<g class=\"edge\" id=\"edge5\">\n",
       "<title>x3-&gt;pc2</title>\n",
       "<g id=\"a_edge5\"><a xlink:title=\"(2, 4) : \">\n",
       "<path d=\"M155.7307,-74.7307C145.803,-64.803 132.6847,-51.6847 121.5637,-40.5637\" fill=\"none\" stroke=\"#4a4a4a\"/>\n",
       "<polygon fill=\"#4a4a4a\" points=\"123.7933,-37.8436 114.2473,-33.2473 118.8436,-42.7933 123.7933,-37.8436\" stroke=\"#4a4a4a\"/>\n",
       "</a>\n",
       "</g>\n",
       "</g>\n",
       "</g>\n",
       "</svg>"
      ],
      "text/plain": [
       "<IPython.core.display.SVG object>"
      ]
     },
     "metadata": {},
     "output_type": "display_data"
    }
   ],
   "source": [
    "bnb = buildLDPC(['x1','x2','x3'],{'pc1':['x1','x2'],'pc2':['x1','x2','x3']})\n",
    "gnb.showBN(bnb)"
   ]
  },
  {
   "cell_type": "code",
   "execution_count": 37,
   "metadata": {},
   "outputs": [
    {
     "data": {
      "text/html": [
       "<table style=\"border:1px solid black;\">\n",
       "<tr><th colspan='3'></th><th colspan='2' style='border:1px solid black;color:black;background-color:#808080;'><center>pc2</center></th></tr>\n",
       "<tr><th style='border:1px solid black;color:black;background-color:#808080'><center>x3</center></th><th style='border:1px solid black;color:black;background-color:#808080'><center>x2</center></th><th style='border:1px solid black;color:black;background-color:#808080'><center>x1</center></th><th style='border:1px solid black;border-bottom-style: double;color:black;background-color:#BBBBBB'><center>0</center></th><th style='border:1px solid black;border-bottom-style: double;color:black;background-color:#BBBBBB'><center>1</center></th></tr>\n",
       "<tr><th style='border:1px solid black;color:black;background-color:#BBBBBB;' rowspan = '4'><center>0</center></th><th style='border:1px solid black;color:black;background-color:#BBBBBB;' rowspan = '2'><center>0</center></th><th style='border:1px solid black;color:black;background-color:#BBBBBB'><center>0</center></th><td style='color:black;background-color:#7fff64;text-align:right;'>1.0000</td><td style='color:black;background-color:#ff7f64;text-align:right;'>0.0000</td></tr>\n",
       "<tr><th style='border:1px solid black;color:black;background-color:#BBBBBB'><center>1</center></th><td style='color:black;background-color:#ff7f64;text-align:right;'>0.0000</td><td style='color:black;background-color:#7fff64;text-align:right;'>1.0000</td></tr>\n",
       "<tr><th style='border:1px solid black;color:black;background-color:#BBBBBB;' rowspan = '2'><center>1</center></th><th style='border:1px solid black;color:black;background-color:#BBBBBB'><center>0</center></th><td style='color:black;background-color:#ff7f64;text-align:right;'>0.0000</td><td style='color:black;background-color:#7fff64;text-align:right;'>1.0000</td></tr>\n",
       "<tr><th style='border:1px solid black;color:black;background-color:#BBBBBB'><center>1</center></th><td style='color:black;background-color:#7fff64;text-align:right;'>1.0000</td><td style='color:black;background-color:#ff7f64;text-align:right;'>0.0000</td></tr>\n",
       "<tr><th style='border:1px solid black;color:black;background-color:#BBBBBB;' rowspan = '4'><center>1</center></th><th style='border:1px solid black;color:black;background-color:#BBBBBB;' rowspan = '2'><center>0</center></th><th style='border:1px solid black;color:black;background-color:#BBBBBB'><center>0</center></th><td style='color:black;background-color:#ff7f64;text-align:right;'>0.0000</td><td style='color:black;background-color:#7fff64;text-align:right;'>1.0000</td></tr>\n",
       "<tr><th style='border:1px solid black;color:black;background-color:#BBBBBB'><center>1</center></th><td style='color:black;background-color:#7fff64;text-align:right;'>1.0000</td><td style='color:black;background-color:#ff7f64;text-align:right;'>0.0000</td></tr>\n",
       "<tr><th style='border:1px solid black;color:black;background-color:#BBBBBB;' rowspan = '2'><center>1</center></th><th style='border:1px solid black;color:black;background-color:#BBBBBB'><center>0</center></th><td style='color:black;background-color:#7fff64;text-align:right;'>1.0000</td><td style='color:black;background-color:#ff7f64;text-align:right;'>0.0000</td></tr>\n",
       "<tr><th style='border:1px solid black;color:black;background-color:#BBBBBB'><center>1</center></th><td style='color:black;background-color:#ff7f64;text-align:right;'>0.0000</td><td style='color:black;background-color:#7fff64;text-align:right;'>1.0000</td></tr>\n",
       "</table>"
      ],
      "text/plain": [
       "(gum::Potential<double>@0x561d095bff90) <pc2:0|x1:0|x2:0|x3:0> :: 1 /<pc2:1|x1:0|x2:0|x3:0> :: 0 /<pc2:0|x1:1|x2:0|x3:0> :: 0 /<pc2:1|x1:1|x2:0|x3:0> :: 1 /<pc2:0|x1:0|x2:1|x3:0> :: 0 /<pc2:1|x1:0|x2:1|x3:0> :: 1 /<pc2:0|x1:1|x2:1|x3:0> :: 1 /<pc2:1|x1:1|x2:1|x3:0> :: 0 /<pc2:0|x1:0|x2:0|x3:1> :: 0 /<pc2:1|x1:0|x2:0|x3:1> :: 1 /<pc2:0|x1:1|x2:0|x3:1> :: 1 /<pc2:1|x1:1|x2:0|x3:1> :: 0 /<pc2:0|x1:0|x2:1|x3:1> :: 1 /<pc2:1|x1:0|x2:1|x3:1> :: 0 /<pc2:0|x1:1|x2:1|x3:1> :: 0 /<pc2:1|x1:1|x2:1|x3:1> :: 1"
      ]
     },
     "execution_count": 37,
     "metadata": {},
     "output_type": "execute_result"
    }
   ],
   "source": [
    "bnb.cpt(4)"
   ]
  },
  {
   "cell_type": "code",
   "execution_count": 38,
   "metadata": {},
   "outputs": [
    {
     "data": {
      "image/svg+xml": [
       "<svg height=\"345pt\" viewBox=\"0.00 0.00 243.16 345.35\" width=\"243pt\" xmlns=\"http://www.w3.org/2000/svg\" xmlns:xlink=\"http://www.w3.org/1999/xlink\">\n",
       "<g class=\"graph\" id=\"graph0\" transform=\"scale(1 1) rotate(0) translate(4 341.3492)\">\n",
       "<title>FG</title>\n",
       "<polygon fill=\"#ffffff\" points=\"-4,4 -4,-341.3492 239.1556,-341.3492 239.1556,4 -4,4\" stroke=\"transparent\"/>\n",
       "<!-- x1 -->\n",
       "<g class=\"node\" id=\"node1\">\n",
       "<title>x1</title>\n",
       "<ellipse cx=\"101.4621\" cy=\"-205.9787\" fill=\"#deb887\" rx=\"10.7143\" ry=\"10.7143\" stroke=\"#deb887\"/>\n",
       "<text fill=\"#000000\" font-family=\"Times,serif\" font-size=\"14.00\" text-anchor=\"middle\" x=\"101.4621\" y=\"-202.2787\">x1</text>\n",
       "</g>\n",
       "<!-- x2 -->\n",
       "<g class=\"node\" id=\"node2\">\n",
       "<title>x2</title>\n",
       "<ellipse cx=\"67.1306\" cy=\"-149.4217\" fill=\"#deb887\" rx=\"10.7143\" ry=\"10.7143\" stroke=\"#deb887\"/>\n",
       "<text fill=\"#000000\" font-family=\"Times,serif\" font-size=\"14.00\" text-anchor=\"middle\" x=\"67.1306\" y=\"-145.7217\">x2</text>\n",
       "</g>\n",
       "<!-- x3 -->\n",
       "<g class=\"node\" id=\"node3\">\n",
       "<title>x3</title>\n",
       "<ellipse cx=\"180.1241\" cy=\"-69.5235\" fill=\"#deb887\" rx=\"10.7143\" ry=\"10.7143\" stroke=\"#deb887\"/>\n",
       "<text fill=\"#000000\" font-family=\"Times,serif\" font-size=\"14.00\" text-anchor=\"middle\" x=\"180.1241\" y=\"-65.8235\">x3</text>\n",
       "</g>\n",
       "<!-- pc1 -->\n",
       "<g class=\"node\" id=\"node4\">\n",
       "<title>pc1</title>\n",
       "<ellipse cx=\"46.4969\" cy=\"-323.2071\" fill=\"#deb887\" rx=\"14.2857\" ry=\"14.2857\" stroke=\"#deb887\"/>\n",
       "<text fill=\"#000000\" font-family=\"Times,serif\" font-size=\"14.00\" text-anchor=\"middle\" x=\"46.4969\" y=\"-319.5071\">pc1</text>\n",
       "</g>\n",
       "<!-- pc2 -->\n",
       "<g class=\"node\" id=\"node5\">\n",
       "<title>pc2</title>\n",
       "<ellipse cx=\"221.0135\" cy=\"-179.4272\" fill=\"#deb887\" rx=\"14.2857\" ry=\"14.2857\" stroke=\"#deb887\"/>\n",
       "<text fill=\"#000000\" font-family=\"Times,serif\" font-size=\"14.00\" text-anchor=\"middle\" x=\"221.0135\" y=\"-175.7272\">pc2</text>\n",
       "</g>\n",
       "<!-- 0 -->\n",
       "<g class=\"node\" id=\"node6\">\n",
       "<title>0</title>\n",
       "<polygon fill=\"#ff7f50\" points=\"7,-207.306 0,-207.306 0,-192.306 7,-192.306 7,-207.306\" stroke=\"#ff7f50\"/>\n",
       "<text fill=\"#000000\" font-family=\"Times,serif\" font-size=\"14.00\" text-anchor=\"middle\" x=\"3.5\" y=\"-196.106\">0</text>\n",
       "</g>\n",
       "<!-- 0&#45;&#45;x1 -->\n",
       "<g class=\"edge\" id=\"edge1\">\n",
       "<title>0--x1</title>\n",
       "<path d=\"M7.2206,-200.0404C20.9207,-200.9037 68.8851,-203.926 90.6159,-205.2953\" fill=\"none\" stroke=\"#000000\"/>\n",
       "</g>\n",
       "<!-- 1 -->\n",
       "<g class=\"node\" id=\"node7\">\n",
       "<title>1</title>\n",
       "<polygon fill=\"#ff7f50\" points=\"11.0892,-98.9321 4.0892,-98.9321 4.0892,-83.9321 11.0892,-83.9321 11.0892,-98.9321\" stroke=\"#ff7f50\"/>\n",
       "<text fill=\"#000000\" font-family=\"Times,serif\" font-size=\"14.00\" text-anchor=\"middle\" x=\"7.5892\" y=\"-87.7321\">1</text>\n",
       "</g>\n",
       "<!-- 1&#45;&#45;x2 -->\n",
       "<g class=\"edge\" id=\"edge2\">\n",
       "<title>1--x2</title>\n",
       "<path d=\"M11.1355,-94.886C20.5488,-104.0539 46.3349,-129.1679 59.3695,-141.8629\" fill=\"none\" stroke=\"#000000\"/>\n",
       "</g>\n",
       "<!-- 2 -->\n",
       "<g class=\"node\" id=\"node8\">\n",
       "<title>2</title>\n",
       "<polygon fill=\"#ff7f50\" points=\"225.6665,-15 218.6665,-15 218.6665,0 225.6665,0 225.6665,-15\" stroke=\"#ff7f50\"/>\n",
       "<text fill=\"#000000\" font-family=\"Times,serif\" font-size=\"14.00\" text-anchor=\"middle\" x=\"222.1665\" y=\"-3.8\">2</text>\n",
       "</g>\n",
       "<!-- 2&#45;&#45;x3 -->\n",
       "<g class=\"edge\" id=\"edge3\">\n",
       "<title>2--x3</title>\n",
       "<path d=\"M218.582,-12.7881C211.3539,-23.4514 194.9654,-47.6287 186.0948,-60.7152\" fill=\"none\" stroke=\"#000000\"/>\n",
       "</g>\n",
       "<!-- 3 -->\n",
       "<g class=\"node\" id=\"node9\">\n",
       "<title>3</title>\n",
       "<polygon fill=\"#ff7f50\" points=\"60.8429,-253.4928 53.8429,-253.4928 53.8429,-238.4928 60.8429,-238.4928 60.8429,-253.4928\" stroke=\"#ff7f50\"/>\n",
       "<text fill=\"#000000\" font-family=\"Times,serif\" font-size=\"14.00\" text-anchor=\"middle\" x=\"57.3429\" y=\"-242.2928\">3</text>\n",
       "</g>\n",
       "<!-- 3&#45;&#45;x1 -->\n",
       "<g class=\"edge\" id=\"edge5\">\n",
       "<title>3--x1</title>\n",
       "<path d=\"M61.1045,-242.5812C68.2729,-236.0798 84.0268,-221.7917 93.5935,-213.1151\" fill=\"none\" stroke=\"#000000\"/>\n",
       "</g>\n",
       "<!-- 3&#45;&#45;x2 -->\n",
       "<g class=\"edge\" id=\"edge4\">\n",
       "<title>3--x2</title>\n",
       "<path d=\"M58.1109,-238.415C59.8415,-221.3407 64.0498,-179.8191 66.0458,-160.1255\" fill=\"none\" stroke=\"#000000\"/>\n",
       "</g>\n",
       "<!-- 3&#45;&#45;pc1 -->\n",
       "<g class=\"edge\" id=\"edge6\">\n",
       "<title>3--pc1</title>\n",
       "<path d=\"M56.2633,-253.6787C54.4522,-266.5718 50.7761,-292.7429 48.4866,-309.042\" fill=\"none\" stroke=\"#000000\"/>\n",
       "</g>\n",
       "<!-- 4 -->\n",
       "<g class=\"node\" id=\"node10\">\n",
       "<title>4</title>\n",
       "<polygon fill=\"#ff7f50\" points=\"150.6653,-149.7057 143.6653,-149.7057 143.6653,-134.7057 150.6653,-134.7057 150.6653,-149.7057\" stroke=\"#ff7f50\"/>\n",
       "<text fill=\"#000000\" font-family=\"Times,serif\" font-size=\"14.00\" text-anchor=\"middle\" x=\"147.1653\" y=\"-138.5057\">4</text>\n",
       "</g>\n",
       "<!-- 4&#45;&#45;x1 -->\n",
       "<g class=\"edge\" id=\"edge9\">\n",
       "<title>4--x1</title>\n",
       "<path d=\"M143.5791,-147.2099C135.8352,-158.0155 117.4654,-183.6481 107.745,-197.2117\" fill=\"none\" stroke=\"#000000\"/>\n",
       "</g>\n",
       "<!-- 4&#45;&#45;x2 -->\n",
       "<g class=\"edge\" id=\"edge8\">\n",
       "<title>4--x2</title>\n",
       "<path d=\"M143.3051,-142.5537C131.5645,-143.6123 95.9865,-146.82 77.9141,-148.4494\" fill=\"none\" stroke=\"#000000\"/>\n",
       "</g>\n",
       "<!-- 4&#45;&#45;x3 -->\n",
       "<g class=\"edge\" id=\"edge7\">\n",
       "<title>4--x3</title>\n",
       "<path d=\"M150.5684,-134.7012C156.5551,-121.4989 168.9679,-94.1257 175.6438,-79.4037\" fill=\"none\" stroke=\"#000000\"/>\n",
       "</g>\n",
       "<!-- 4&#45;&#45;pc2 -->\n",
       "<g class=\"edge\" id=\"edge10\">\n",
       "<title>4--pc2</title>\n",
       "<path d=\"M150.7272,-144.001C160.984,-149.1707 190.958,-164.2785 208.2713,-173.0048\" fill=\"none\" stroke=\"#000000\"/>\n",
       "</g>\n",
       "</g>\n",
       "</svg>"
      ],
      "text/plain": [
       "<IPython.core.display.SVG object>"
      ]
     },
     "execution_count": 38,
     "metadata": {},
     "output_type": "execute_result"
    }
   ],
   "source": [
    "fgb=FactorGraph()\n",
    "fgb.build(bnb)\n",
    "fgb.show()"
   ]
  },
  {
   "cell_type": "code",
   "execution_count": 39,
   "metadata": {},
   "outputs": [
    {
     "name": "stdout",
     "output_type": "stream",
     "text": [
      "cpt 0 : <x1:0> :: 0.5 /<x1:1> :: 0.5\n",
      "cpt 1 : <x2:0> :: 0.5 /<x2:1> :: 0.5\n",
      "cpt 2 : <x3:0> :: 0.5 /<x3:1> :: 0.5\n",
      "cpt 3 : <pc1:0|x1:0|x2:0> :: 1 /<pc1:1|x1:0|x2:0> :: 0 /<pc1:0|x1:1|x2:0> :: 0 /<pc1:1|x1:1|x2:0> :: 1 /<pc1:0|x1:0|x2:1> :: 0 /<pc1:1|x1:0|x2:1> :: 1 /<pc1:0|x1:1|x2:1> :: 1 /<pc1:1|x1:1|x2:1> :: 0\n",
      "cpt 4 : <pc2:0|x1:0|x2:0|x3:0> :: 1 /<pc2:1|x1:0|x2:0|x3:0> :: 0 /<pc2:0|x1:1|x2:0|x3:0> :: 0 /<pc2:1|x1:1|x2:0|x3:0> :: 1 /<pc2:0|x1:0|x2:1|x3:0> :: 0 /<pc2:1|x1:0|x2:1|x3:0> :: 1 /<pc2:0|x1:1|x2:1|x3:0> :: 1 /<pc2:1|x1:1|x2:1|x3:0> :: 0 /<pc2:0|x1:0|x2:0|x3:1> :: 0 /<pc2:1|x1:0|x2:0|x3:1> :: 1 /<pc2:0|x1:1|x2:0|x3:1> :: 1 /<pc2:1|x1:1|x2:0|x3:1> :: 0 /<pc2:0|x1:0|x2:1|x3:1> :: 1 /<pc2:1|x1:0|x2:1|x3:1> :: 0 /<pc2:0|x1:1|x2:1|x3:1> :: 0 /<pc2:1|x1:1|x2:1|x3:1> :: 1\n"
     ]
    }
   ],
   "source": [
    "for i in bnb.nodes():\n",
    "    bnb.cpt(i)\n",
    "    print(\"cpt {} : {}\".format(i,bnb.cpt(i)))"
   ]
  },
  {
   "cell_type": "markdown",
   "metadata": {},
   "source": [
    "### Ajout de l'évidence et calcul du MaxProduct dans le graphe"
   ]
  },
  {
   "cell_type": "code",
   "execution_count": 40,
   "metadata": {},
   "outputs": [],
   "source": [
    "message = {\"x1\":1,\"x3\":1,'pc2':0}"
   ]
  },
  {
   "cell_type": "code",
   "execution_count": 41,
   "metadata": {},
   "outputs": [
    {
     "data": {
      "text/plain": [
       "{'x1': 1, 'x2': 0, 'x3': 1, 'pc1': 1, 'pc2': 0}"
      ]
     },
     "execution_count": 41,
     "metadata": {},
     "output_type": "execute_result"
    }
   ],
   "source": [
    "mpib=TreeMaxProductInference(fgb)\n",
    "mpib.addEvidence(message)\n",
    "mpib.makeInference() \n",
    "mpib.fg.show()\n",
    "mpib.argmax()"
   ]
  },
  {
   "cell_type": "code",
   "execution_count": null,
   "metadata": {},
   "outputs": [],
   "source": []
  }
 ],
 "metadata": {
  "kernelspec": {
   "display_name": "Python 3",
   "language": "python",
   "name": "python3"
  },
  "language_info": {
   "codemirror_mode": {
    "name": "ipython",
    "version": 3
   },
   "file_extension": ".py",
   "mimetype": "text/x-python",
   "name": "python",
   "nbconvert_exporter": "python",
   "pygments_lexer": "ipython3",
   "version": "3.7.4"
  }
 },
 "nbformat": 4,
 "nbformat_minor": 4
}
