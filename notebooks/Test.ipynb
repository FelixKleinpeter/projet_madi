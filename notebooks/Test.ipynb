{
 "cells": [
  {
   "cell_type": "code",
   "execution_count": 8,
   "metadata": {},
   "outputs": [],
   "source": [
    "import pyAgrum as gum\n",
    "import pyAgrum.lib.notebook as gnb\n",
    "import math\n",
    "import pydotplus as dot\n",
    "from IPython.display import SVG\n",
    "import numpy as np"
   ]
  },
  {
   "cell_type": "code",
   "execution_count": 2,
   "metadata": {},
   "outputs": [],
   "source": [
    "%reload_ext autoreload\n",
    "%autoreload 2\n",
    "from projet_madi import *"
   ]
  },
  {
   "cell_type": "code",
   "execution_count": 3,
   "metadata": {},
   "outputs": [
    {
     "data": {
      "image/svg+xml": [
       "<svg height=\"188pt\" viewBox=\"0.00 0.00 134.00 188.00\" width=\"134pt\" xmlns=\"http://www.w3.org/2000/svg\" xmlns:xlink=\"http://www.w3.org/1999/xlink\">\n",
       "<g class=\"graph\" id=\"graph0\" transform=\"scale(1 1) rotate(0) translate(4 184)\">\n",
       "<title>G</title>\n",
       "<!-- A -->\n",
       "<g class=\"node\" id=\"node1\">\n",
       "<title>A</title>\n",
       "<g id=\"a_node1\"><a xlink:title=\"(0) A\">\n",
       "<ellipse cx=\"27\" cy=\"-162\" fill=\"#404040\" rx=\"27\" ry=\"18\" stroke=\"#000000\"/>\n",
       "<text fill=\"#ffffff\" font-family=\"Times,serif\" font-size=\"14.00\" text-anchor=\"middle\" x=\"27\" y=\"-158.3\">A</text>\n",
       "</a>\n",
       "</g>\n",
       "</g>\n",
       "<!-- B -->\n",
       "<g class=\"node\" id=\"node2\">\n",
       "<title>B</title>\n",
       "<g id=\"a_node2\"><a xlink:title=\"(1) B\">\n",
       "<ellipse cx=\"27\" cy=\"-90\" fill=\"#404040\" rx=\"27\" ry=\"18\" stroke=\"#000000\"/>\n",
       "<text fill=\"#ffffff\" font-family=\"Times,serif\" font-size=\"14.00\" text-anchor=\"middle\" x=\"27\" y=\"-86.3\">B</text>\n",
       "</a>\n",
       "</g>\n",
       "</g>\n",
       "<!-- A&#45;&gt;B -->\n",
       "<g class=\"edge\" id=\"edge1\">\n",
       "<title>A-&gt;B</title>\n",
       "<g id=\"a_edge1\"><a xlink:title=\"(0, 1) : \">\n",
       "<path d=\"M27,-143.8314C27,-136.131 27,-126.9743 27,-118.4166\" fill=\"none\" stroke=\"#4a4a4a\"/>\n",
       "<polygon fill=\"#4a4a4a\" points=\"30.5001,-118.4132 27,-108.4133 23.5001,-118.4133 30.5001,-118.4132\" stroke=\"#4a4a4a\"/>\n",
       "</a>\n",
       "</g>\n",
       "</g>\n",
       "<!-- E -->\n",
       "<g class=\"node\" id=\"node5\">\n",
       "<title>E</title>\n",
       "<g id=\"a_node5\"><a xlink:title=\"(4) E\">\n",
       "<ellipse cx=\"63\" cy=\"-18\" fill=\"#404040\" rx=\"27\" ry=\"18\" stroke=\"#000000\"/>\n",
       "<text fill=\"#ffffff\" font-family=\"Times,serif\" font-size=\"14.00\" text-anchor=\"middle\" x=\"63\" y=\"-14.3\">E</text>\n",
       "</a>\n",
       "</g>\n",
       "</g>\n",
       "<!-- B&#45;&gt;E -->\n",
       "<g class=\"edge\" id=\"edge2\">\n",
       "<title>B-&gt;E</title>\n",
       "<g id=\"a_edge2\"><a xlink:title=\"(1, 4) : \">\n",
       "<path d=\"M35.7146,-72.5708C39.9597,-64.0807 45.1536,-53.6929 49.8663,-44.2674\" fill=\"none\" stroke=\"#4a4a4a\"/>\n",
       "<polygon fill=\"#4a4a4a\" points=\"53.024,-45.7782 54.3657,-35.2687 46.763,-42.6477 53.024,-45.7782\" stroke=\"#4a4a4a\"/>\n",
       "</a>\n",
       "</g>\n",
       "</g>\n",
       "<!-- C -->\n",
       "<g class=\"node\" id=\"node3\">\n",
       "<title>C</title>\n",
       "<g id=\"a_node3\"><a xlink:title=\"(2) C\">\n",
       "<ellipse cx=\"99\" cy=\"-162\" fill=\"#404040\" rx=\"27\" ry=\"18\" stroke=\"#000000\"/>\n",
       "<text fill=\"#ffffff\" font-family=\"Times,serif\" font-size=\"14.00\" text-anchor=\"middle\" x=\"99\" y=\"-158.3\">C</text>\n",
       "</a>\n",
       "</g>\n",
       "</g>\n",
       "<!-- C&#45;&gt;B -->\n",
       "<g class=\"edge\" id=\"edge3\">\n",
       "<title>C-&gt;B</title>\n",
       "<g id=\"a_edge3\"><a xlink:title=\"(2, 1) : \">\n",
       "<path d=\"M83.7307,-146.7307C73.803,-136.803 60.6847,-123.6847 49.5637,-112.5637\" fill=\"none\" stroke=\"#4a4a4a\"/>\n",
       "<polygon fill=\"#4a4a4a\" points=\"51.7933,-109.8436 42.2473,-105.2473 46.8436,-114.7933 51.7933,-109.8436\" stroke=\"#4a4a4a\"/>\n",
       "</a>\n",
       "</g>\n",
       "</g>\n",
       "<!-- D -->\n",
       "<g class=\"node\" id=\"node4\">\n",
       "<title>D</title>\n",
       "<g id=\"a_node4\"><a xlink:title=\"(3) D\">\n",
       "<ellipse cx=\"99\" cy=\"-90\" fill=\"#404040\" rx=\"27\" ry=\"18\" stroke=\"#000000\"/>\n",
       "<text fill=\"#ffffff\" font-family=\"Times,serif\" font-size=\"14.00\" text-anchor=\"middle\" x=\"99\" y=\"-86.3\">D</text>\n",
       "</a>\n",
       "</g>\n",
       "</g>\n",
       "<!-- C&#45;&gt;D -->\n",
       "<g class=\"edge\" id=\"edge4\">\n",
       "<title>C-&gt;D</title>\n",
       "<g id=\"a_edge4\"><a xlink:title=\"(2, 3) : \">\n",
       "<path d=\"M99,-143.8314C99,-136.131 99,-126.9743 99,-118.4166\" fill=\"none\" stroke=\"#4a4a4a\"/>\n",
       "<polygon fill=\"#4a4a4a\" points=\"102.5001,-118.4132 99,-108.4133 95.5001,-118.4133 102.5001,-118.4132\" stroke=\"#4a4a4a\"/>\n",
       "</a>\n",
       "</g>\n",
       "</g>\n",
       "<!-- D&#45;&gt;E -->\n",
       "<g class=\"edge\" id=\"edge5\">\n",
       "<title>D-&gt;E</title>\n",
       "<g id=\"a_edge5\"><a xlink:title=\"(3, 4) : \">\n",
       "<path d=\"M90.2854,-72.5708C86.0403,-64.0807 80.8464,-53.6929 76.1337,-44.2674\" fill=\"none\" stroke=\"#4a4a4a\"/>\n",
       "<polygon fill=\"#4a4a4a\" points=\"79.237,-42.6477 71.6343,-35.2687 72.976,-45.7782 79.237,-42.6477\" stroke=\"#4a4a4a\"/>\n",
       "</a>\n",
       "</g>\n",
       "</g>\n",
       "</g>\n",
       "</svg>"
      ],
      "text/plain": [
       "<IPython.core.display.SVG object>"
      ]
     },
     "metadata": {},
     "output_type": "display_data"
    }
   ],
   "source": [
    "bn=gum.fastBN(\"A->B<-C->D->E<-B\")\n",
    "gnb.showBN(bn)"
   ]
  },
  {
   "cell_type": "code",
   "execution_count": 4,
   "metadata": {},
   "outputs": [
    {
     "data": {
      "image/svg+xml": [
       "<svg height=\"309pt\" viewBox=\"0.00 0.00 333.13 308.93\" width=\"333pt\" xmlns=\"http://www.w3.org/2000/svg\" xmlns:xlink=\"http://www.w3.org/1999/xlink\">\n",
       "<g class=\"graph\" id=\"graph0\" transform=\"scale(1 1) rotate(0) translate(4 304.9308)\">\n",
       "<title>FG</title>\n",
       "<polygon fill=\"#ffffff\" points=\"-4,4 -4,-304.9308 329.1291,-304.9308 329.1291,4 -4,4\" stroke=\"transparent\"/>\n",
       "<!-- A -->\n",
       "<g class=\"node\" id=\"node1\">\n",
       "<title>A</title>\n",
       "<polygon fill=\"#ff7f50\" points=\"77.0144,-171.8373 67.0144,-171.8373 67.0144,-156.8373 77.0144,-156.8373 77.0144,-171.8373\" stroke=\"#ff7f50\"/>\n",
       "<text fill=\"#000000\" font-family=\"Times,serif\" font-size=\"14.00\" text-anchor=\"middle\" x=\"72.0144\" y=\"-160.6373\">A</text>\n",
       "</g>\n",
       "<!-- B -->\n",
       "<g class=\"node\" id=\"node2\">\n",
       "<title>B</title>\n",
       "<polygon fill=\"#ff7f50\" points=\"204.6009,-225.2645 194.6009,-225.2645 194.6009,-210.2645 204.6009,-210.2645 204.6009,-225.2645\" stroke=\"#ff7f50\"/>\n",
       "<text fill=\"#000000\" font-family=\"Times,serif\" font-size=\"14.00\" text-anchor=\"middle\" x=\"199.6009\" y=\"-214.0645\">B</text>\n",
       "</g>\n",
       "<!-- C -->\n",
       "<g class=\"node\" id=\"node3\">\n",
       "<title>C</title>\n",
       "<polygon fill=\"#ff7f50\" points=\"196.656,-84.5989 186.656,-84.5989 186.656,-69.5989 196.656,-69.5989 196.656,-84.5989\" stroke=\"#ff7f50\"/>\n",
       "<text fill=\"#000000\" font-family=\"Times,serif\" font-size=\"14.00\" text-anchor=\"middle\" x=\"191.656\" y=\"-73.3989\">C</text>\n",
       "</g>\n",
       "<!-- D -->\n",
       "<g class=\"node\" id=\"node4\">\n",
       "<title>D</title>\n",
       "<polygon fill=\"#ff7f50\" points=\"324.7285,-161.0977 314.7285,-161.0977 314.7285,-146.0977 324.7285,-146.0977 324.7285,-161.0977\" stroke=\"#ff7f50\"/>\n",
       "<text fill=\"#000000\" font-family=\"Times,serif\" font-size=\"14.00\" text-anchor=\"middle\" x=\"319.7285\" y=\"-149.8977\">D</text>\n",
       "</g>\n",
       "<!-- E -->\n",
       "<g class=\"node\" id=\"node5\">\n",
       "<title>E</title>\n",
       "<polygon fill=\"#ff7f50\" points=\"325.1291,-300.9308 316.1291,-300.9308 316.1291,-285.9308 325.1291,-285.9308 325.1291,-300.9308\" stroke=\"#ff7f50\"/>\n",
       "<text fill=\"#000000\" font-family=\"Times,serif\" font-size=\"14.00\" text-anchor=\"middle\" x=\"320.6291\" y=\"-289.7308\">E</text>\n",
       "</g>\n",
       "<!-- pA -->\n",
       "<g class=\"node\" id=\"node6\">\n",
       "<title>pA</title>\n",
       "<ellipse cx=\"0\" cy=\"-184.1023\" fill=\"#ff7f50\" rx=\"0\" ry=\"0\" stroke=\"#ff7f50\"/>\n",
       "</g>\n",
       "<!-- pA&#45;&#45;A -->\n",
       "<g class=\"edge\" id=\"edge1\">\n",
       "<title>pA--A</title>\n",
       "<path d=\"M.0522,-184.088C1.8751,-183.5876 50.9369,-170.1222 66.9862,-165.7173\" fill=\"none\" stroke=\"#000000\"/>\n",
       "</g>\n",
       "<!-- pBgCA -->\n",
       "<g class=\"node\" id=\"node7\">\n",
       "<title>pBgCA</title>\n",
       "<ellipse cx=\"149.9889\" cy=\"-150.5234\" fill=\"#ff7f50\" rx=\"0\" ry=\"0\" stroke=\"#ff7f50\"/>\n",
       "</g>\n",
       "<!-- pBgCA&#45;&#45;A -->\n",
       "<g class=\"edge\" id=\"edge3\">\n",
       "<title>pBgCA--A</title>\n",
       "<path d=\"M149.9324,-150.5334C147.9586,-150.8831 94.8363,-160.2942 77.4586,-163.3728\" fill=\"none\" stroke=\"#000000\"/>\n",
       "</g>\n",
       "<!-- pBgCA&#45;&#45;B -->\n",
       "<g class=\"edge\" id=\"edge4\">\n",
       "<title>pBgCA--B</title>\n",
       "<path d=\"M150.0249,-150.5721C151.222,-152.1947 181.9925,-193.8991 194.4435,-210.7746\" fill=\"none\" stroke=\"#000000\"/>\n",
       "</g>\n",
       "<!-- pBgCA&#45;&#45;C -->\n",
       "<g class=\"edge\" id=\"edge2\">\n",
       "<title>pBgCA--C</title>\n",
       "<path d=\"M150.0191,-150.4702C151.0246,-148.6984 176.8674,-103.1589 187.3246,-84.7316\" fill=\"none\" stroke=\"#000000\"/>\n",
       "</g>\n",
       "<!-- pC -->\n",
       "<g class=\"node\" id=\"node8\">\n",
       "<title>pC</title>\n",
       "<ellipse cx=\"174.4933\" cy=\"0\" fill=\"#ff7f50\" rx=\"0\" ry=\"0\" stroke=\"#ff7f50\"/>\n",
       "</g>\n",
       "<!-- pC&#45;&#45;C -->\n",
       "<g class=\"edge\" id=\"edge5\">\n",
       "<title>pC--C</title>\n",
       "<path d=\"M174.5057,-.0559C174.9219,-1.9254 185.6692,-50.2047 189.9348,-69.3668\" fill=\"none\" stroke=\"#000000\"/>\n",
       "</g>\n",
       "<!-- pDgC -->\n",
       "<g class=\"node\" id=\"node9\">\n",
       "<title>pDgC</title>\n",
       "<ellipse cx=\"274.4374\" cy=\"-86.6345\" fill=\"#ff7f50\" rx=\"0\" ry=\"0\" stroke=\"#ff7f50\"/>\n",
       "</g>\n",
       "<!-- pDgC&#45;&#45;C -->\n",
       "<g class=\"edge\" id=\"edge6\">\n",
       "<title>pDgC--C</title>\n",
       "<path d=\"M274.3774,-86.6276C272.2624,-86.3839 214.826,-79.7679 196.9287,-77.7063\" fill=\"none\" stroke=\"#000000\"/>\n",
       "</g>\n",
       "<!-- pDgC&#45;&#45;D -->\n",
       "<g class=\"edge\" id=\"edge7\">\n",
       "<title>pDgC--D</title>\n",
       "<path d=\"M274.4703,-86.683C275.5524,-88.283 303.1055,-129.0204 314.6812,-146.1353\" fill=\"none\" stroke=\"#000000\"/>\n",
       "</g>\n",
       "<!-- pEgBD -->\n",
       "<g class=\"node\" id=\"node10\">\n",
       "<title>pEgBD</title>\n",
       "<ellipse cx=\"280.8497\" cy=\"-226.9116\" fill=\"#ff7f50\" rx=\"0\" ry=\"0\" stroke=\"#ff7f50\"/>\n",
       "</g>\n",
       "<!-- pEgBD&#45;&#45;B -->\n",
       "<g class=\"edge\" id=\"edge8\">\n",
       "<title>pEgBD--B</title>\n",
       "<path d=\"M280.7908,-226.905C278.7149,-226.6713 222.3418,-220.3247 204.7759,-218.3471\" fill=\"none\" stroke=\"#000000\"/>\n",
       "</g>\n",
       "<!-- pEgBD&#45;&#45;D -->\n",
       "<g class=\"edge\" id=\"edge9\">\n",
       "<title>pEgBD--D</title>\n",
       "<path d=\"M280.8779,-226.8585C281.816,-225.0894 305.9295,-179.6185 315.6869,-161.2189\" fill=\"none\" stroke=\"#000000\"/>\n",
       "</g>\n",
       "<!-- pEgBD&#45;&#45;E -->\n",
       "<g class=\"edge\" id=\"edge10\">\n",
       "<title>pEgBD--E</title>\n",
       "<path d=\"M280.8785,-226.9598C281.8196,-228.5335 305.5521,-268.219 315.89,-285.5061\" fill=\"none\" stroke=\"#000000\"/>\n",
       "</g>\n",
       "</g>\n",
       "</svg>"
      ],
      "text/plain": [
       "<IPython.core.display.SVG object>"
      ]
     },
     "execution_count": 4,
     "metadata": {},
     "output_type": "execute_result"
    }
   ],
   "source": [
    "fg=FactorGraph()\n",
    "fg.build(bn)\n",
    "fg.show()"
   ]
  },
  {
   "cell_type": "code",
   "execution_count": 69,
   "metadata": {},
   "outputs": [],
   "source": [
    "class Message:\n",
    "    def __init__(self, sender, receiver, content=[]):\n",
    "        self.sender = sender\n",
    "        self.receiver = receiver\n",
    "        self.content = content\n",
    "        \n",
    "    def send(self, letterboxes):\n",
    "        letterboxes[self.receiver].append(self)"
   ]
  },
  {
   "cell_type": "code",
   "execution_count": 828,
   "metadata": {},
   "outputs": [],
   "source": [
    "def inference(instance, function):\n",
    "    # Initialisation\n",
    "    letterboxes = instance.letterboxes.copy()\n",
    "    root = np.random.randint(len(instance.fg.factors))\n",
    "    leaves = instance.fg.leaves()\n",
    "    if root in leaves:\n",
    "        leaves.remove(root)\n",
    "    paths = [instance.fg.shortest_path(leaf,root) for leaf in leaves]\n",
    "    \n",
    "    print(root)\n",
    "    \n",
    "    # ETAPE I\n",
    "    var_step = False\n",
    "    while len(paths) > 0:\n",
    "        for path in paths:\n",
    "            node = path.pop(0)\n",
    "            if var_step and node != root:\n",
    "                p = gum.Potential()\n",
    "                for m in letterboxes[node]:\n",
    "                    if m.sender != node:\n",
    "                        p = p * m.content\n",
    "                message = Message(node,path[0],p)\n",
    "                message.send(letterboxes)\n",
    "            elif not var_step and node != root:\n",
    "                message = sumProduct(letterboxes,node,path[0],instance.fg.factors[node])\n",
    "                message.send(letterboxes)\n",
    "\n",
    "            if len(path) == 0:\n",
    "                paths.remove(path)\n",
    "        var_step = not var_step\n",
    "\n",
    "    # ETAPE II\n",
    "    to_visit = [root]\n",
    "    visited = []\n",
    "\n",
    "    var_step = False\n",
    "    while len(to_visit) > 0:\n",
    "        next_gen = []\n",
    "        for node in to_visit:\n",
    "            for neigh in [n for n in instance.fg.neighbours(node) if not n in visited]:\n",
    "                visited.append(neigh)\n",
    "                next_gen.append(neigh)\n",
    "                if var_step:\n",
    "                    p = gum.Potential()\n",
    "                    for m in letterboxes[node]:\n",
    "                        if m.sender != neigh:\n",
    "                            p = p * m.content\n",
    "                    message = Message(node,neigh,p)\n",
    "                    message.send(letterboxes)\n",
    "                else:\n",
    "                    message = sumProduct(letterboxes,node,neigh,instance.fg.factors[node])\n",
    "                    message.send(letterboxes)\n",
    "        var_step = not var_step\n",
    "        to_visit = next_gen\n",
    "\n",
    "    return letterboxes\n",
    "\n",
    "def sumProduct(letterboxes, sender, receiver, potential):\n",
    "    p = gum.Potential(potential)\n",
    "    for m in letterboxes[sender]:\n",
    "        if m.sender != receiver:\n",
    "            p = p * m.content\n",
    "    content = p.margSumIn(receiver)\n",
    "\n",
    "    return Message(sender, receiver, content=content)\n",
    "\n",
    "class TreeSumProductInference:\n",
    "    def __init__(self,f):\n",
    "        self.fg = f\n",
    "        self.letterboxes = {}\n",
    "        for v in f.variables:\n",
    "            self.letterboxes[v] = []\n",
    "        for i in range(len(f.factors)):\n",
    "            self.letterboxes[i] = []\n",
    "    \n",
    "\n",
    "    def makeInference(self):\n",
    "        \"\"\" effectue les calculs de tous les messages \"\"\"\n",
    "        self.letterboxes = inference(self, sumProduct)\n",
    "\n",
    "    def posterior(self, variable):\n",
    "        \"\"\" retourne la distribution de la variable sous la forme d'un `gum.Potential` \"\"\"\n",
    "        try:\n",
    "            messages_received = self.letterboxes[variable]\n",
    "            for m in messages_received:\n",
    "                if m.content[0] < 0.999 and m.content[0] > 0.001:\n",
    "                    return m.content\n",
    "        except KeyError:\n",
    "            print(\"{} not found in variables, try to makeInference on the object.\".format(variable))"
   ]
  },
  {
   "cell_type": "code",
   "execution_count": 839,
   "metadata": {},
   "outputs": [
    {
     "name": "stdout",
     "output_type": "stream",
     "text": [
      "0\n"
     ]
    }
   ],
   "source": [
    "spi=TreeSumProductInference(fg) # Crée une instance d'inférence\n",
    "spi.makeInference() # effectue les calculs de tous les messages\n",
    "spi.posterior(\"E\")"
   ]
  },
  {
   "cell_type": "code",
   "execution_count": 630,
   "metadata": {},
   "outputs": [
    {
     "data": {
      "text/html": [
       "<table style=\"border:1px solid black;\">\n",
       "<tr style='border:1px solid black;color:black;background-color:#808080'><th colspan='2'><center>D</center></th></tr>\n",
       "<tr><th style='border:1px solid black;border-bottom-style: double;color:black;background-color:#BBBBBB'><center>0</center></th><th style='border:1px solid black;border-bottom-style: double;color:black;background-color:#BBBBBB'><center>1</center></th></tr>\n",
       "<tr><td style='color:black;background-color:#c9b464;text-align:right;'>0.4212</td><td style='color:black;background-color:#b4c964;text-align:right;'>0.5788</td></tr>\n",
       "</table>"
      ],
      "text/plain": [
       "(gum::Potential<double>@0x55faf1f4c110) <D:0> :: 0.421151 /<D:1> :: 0.578849"
      ]
     },
     "execution_count": 630,
     "metadata": {},
     "output_type": "execute_result"
    }
   ],
   "source": [
    "ie = gum.LazyPropagation(bn)\n",
    "ie.makeInference()\n",
    "ie.posterior(\"D\")"
   ]
  },
  {
   "cell_type": "code",
   "execution_count": 156,
   "metadata": {},
   "outputs": [
    {
     "data": {
      "text/plain": [
       "'\\n\\nETAPE 1 :\\nChoix d\\'un noeud racine\\nOn trouve les feuilles (différents de la racine)\\nOn trouve les chemins de chaque feuilles vers le noeud\\n\\n\\nDisons que l\\'on a n feuilles, donc n chemins. On parcours en parallèle ces n chemins en faisant itérativement\\nau moins n étapes \"facteur\" puis n étapes \"variable\".\\n\\nInitialisation des boîtes au lettres :\\n- gum.Potential pour les b-o-l des variables\\n- [] pour les b-o-l des facteurs\\n\\netape_variable = 1\\nwhile (chemins non vides):\\n    pour tous les chemins :\\n        tete = chemin.pop()\\n        si etape_variable == 1:\\n            calcul du message : produit des messages en b-o-l\\n            envoi d\\'un message de type variable à son successeur dans le chemin\\n        sinon :\\n            calcul du message :  produit du facteur avec les messages de la bol puis \\n                marginalisation sur la variable du voisin vers lequel on envoie\\n            envoi d\\'un message de type facteur à son successeur dans le chemin\\n\\n    etape_variable = 1 - etape_variable\\n    \\n    \\n    \\nETAPE 2:\\nto_visit = racine\\nvisited = []\\n\\netape_variable = 1\\nwhile(to_visit no vide):\\n    pour tout noeud dans to_visit:\\n        pour tout voisin non visité :\\n            ajouter le voisin à la prochaine génération\\n            si etape_variable == 1:\\n                calcul message: produit des messages en b-o-l dont sender != voisin\\n                envoi du message au voisin\\n            sinon:\\n                calcul message: \\n                envoi du message au voisin\\n    etape_variable = 1 - etape_variable\\n                    \\n\\n\\n    \\nBesoin d\\'une fonction qui retourne les voisins d\\'un noeud\\nBesoin d\\'une fonction qui retourne les chemins étant donné un noeud racine.\\n\\n'"
      ]
     },
     "execution_count": 156,
     "metadata": {},
     "output_type": "execute_result"
    }
   ],
   "source": [
    "\"\"\"\n",
    "\n",
    "ETAPE 1 :\n",
    "Choix d'un noeud racine\n",
    "On trouve les feuilles (différents de la racine)\n",
    "On trouve les chemins de chaque feuilles vers le noeud\n",
    "\n",
    "\n",
    "Disons que l'on a n feuilles, donc n chemins. On parcours en parallèle ces n chemins en faisant itérativement\n",
    "au moins n étapes \"facteur\" puis n étapes \"variable\".\n",
    "\n",
    "Initialisation des boîtes au lettres :\n",
    "- gum.Potential pour les b-o-l des variables\n",
    "- [] pour les b-o-l des facteurs\n",
    "\n",
    "etape_variable = 1\n",
    "while (chemins non vides):\n",
    "    pour tous les chemins :\n",
    "        tete = chemin.pop()\n",
    "        si etape_variable == 1:\n",
    "            calcul du message : produit des messages en b-o-l\n",
    "            envoi d'un message de type variable à son successeur dans le chemin\n",
    "        sinon :\n",
    "            calcul du message :  produit du facteur avec les messages de la bol puis \n",
    "                marginalisation sur la variable du voisin vers lequel on envoie\n",
    "            envoi d'un message de type facteur à son successeur dans le chemin\n",
    "\n",
    "    etape_variable = 1 - etape_variable\n",
    "    \n",
    "    \n",
    "    \n",
    "ETAPE 2:\n",
    "to_visit = racine\n",
    "visited = []\n",
    "\n",
    "etape_variable = 1\n",
    "while(to_visit no vide):\n",
    "    pour tout noeud dans to_visit:\n",
    "        pour tout voisin non visité :\n",
    "            ajouter le voisin à la prochaine génération\n",
    "            si etape_variable == 1:\n",
    "                calcul message: produit des messages en b-o-l dont sender != voisin\n",
    "                envoi du message au voisin\n",
    "            sinon:\n",
    "                calcul message: \n",
    "                envoi du message au voisin\n",
    "    etape_variable = 1 - etape_variable\n",
    "                    \n",
    "\n",
    "\n",
    "    \n",
    "Besoin d'une fonction qui retourne les voisins d'un noeud\n",
    "Besoin d'une fonction qui retourne les chemins étant donné un noeud racine.\n",
    "\n",
    "\"\"\""
   ]
  },
  {
   "cell_type": "code",
   "execution_count": null,
   "metadata": {},
   "outputs": [],
   "source": [
    "\"\"\"\n",
    "def sumProduct(letterbox, sender, receiver, potential):\n",
    "    p = Potential(potential)\n",
    "    for m in letterbox:\n",
    "        if m.sender != receiver:\n",
    "            p = p * m.content\n",
    "    content = p.margSumIn(receiver)\n",
    "                    \n",
    "    return Message(sender, receiver, content=content)\n",
    "\n",
    "def maxProduct(letterbox, sender, receiver, potential):\n",
    "    p = Potential(potential)\n",
    "    for m in letterbox:\n",
    "        p = p * m.content\n",
    "    p = p.margMaxIn(receiver)\n",
    "    best_index = p.argmax()[0][receiver]\n",
    "    p[best_index] = 1\n",
    "    p[1-best_index] = 0\n",
    "    \n",
    "    return Message(sender, receiver, content=content)\n",
    "    \n",
    "def maxSum(letterbox, sender, receiver, potential):\n",
    "\"\"\""
   ]
  },
  {
   "cell_type": "code",
   "execution_count": 290,
   "metadata": {},
   "outputs": [
    {
     "data": {
      "text/html": [
       "<table style=\"border:1px solid black;\">\n",
       "<tr style='border:1px solid black;color:black;background-color:#808080'><th colspan='2'><center>D</center></th></tr>\n",
       "<tr><th style='border:1px solid black;border-bottom-style: double;color:black;background-color:#BBBBBB'><center>0</center></th><th style='border:1px solid black;border-bottom-style: double;color:black;background-color:#BBBBBB'><center>1</center></th></tr>\n",
       "<tr><td style='color:black;background-color:#b9c464;text-align:right;'>0.5457</td><td style='color:black;background-color:#c4b964;text-align:right;'>0.4543</td></tr>\n",
       "</table>"
      ],
      "text/plain": [
       "(gum::Potential<double>@0x563e55c2e920) <D:0> :: 0.545678 /<D:1> :: 0.454322"
      ]
     },
     "execution_count": 290,
     "metadata": {},
     "output_type": "execute_result"
    }
   ],
   "source": [
    "spi=TreeSumProductInference(fg) # Crée une instance d'inférence\n",
    "spi.makeInference() # effectue les calculs de tous les messages\n",
    "spi.posterior(\"D\")"
   ]
  },
  {
   "cell_type": "code",
   "execution_count": 251,
   "metadata": {},
   "outputs": [
    {
     "data": {
      "text/plain": [
       "{'A': 0, 'E': 0, 'D': 1, 'C': 1, 'B': 0}"
      ]
     },
     "execution_count": 251,
     "metadata": {},
     "output_type": "execute_result"
    }
   ],
   "source": [
    "mpi=TreeMaxProductInference(fg) #ou TreeMaxSumInference\n",
    "mpi.makeInference()         # effectue les calculs de tous les messages\n",
    "mpi.argmax()                # retourne un dictionnaire des valeurs des variables pour le MAP"
   ]
  },
  {
   "cell_type": "code",
   "execution_count": 296,
   "metadata": {},
   "outputs": [
    {
     "data": {
      "text/html": [
       "<table style=\"border:1px solid black;\">\n",
       "<tr><th colspan='2'></th><th colspan='2' style='border:1px solid black;color:black;background-color:#808080;'><center>B</center></th></tr>\n",
       "<tr><th style='border:1px solid black;color:black;background-color:#808080'><center>C</center></th><th style='border:1px solid black;color:black;background-color:#808080'><center>A</center></th><th style='border:1px solid black;border-bottom-style: double;color:black;background-color:#BBBBBB'><center>0</center></th><th style='border:1px solid black;border-bottom-style: double;color:black;background-color:#BBBBBB'><center>1</center></th></tr>\n",
       "<tr><th style='border:1px solid black;color:black;background-color:#BBBBBB;' rowspan = '2'><center>0</center></th><th style='border:1px solid black;color:black;background-color:#BBBBBB'><center>0</center></th><td style='color:black;background-color:#e19c64;text-align:right;'>0.2322</td><td style='color:black;background-color:#9ce164;text-align:right;'>0.7678</td></tr>\n",
       "<tr><th style='border:1px solid black;color:black;background-color:#BBBBBB'><center>1</center></th><td style='color:black;background-color:#a9d464;text-align:right;'>0.6647</td><td style='color:black;background-color:#d4a964;text-align:right;'>0.3353</td></tr>\n",
       "<tr><th style='border:1px solid black;color:black;background-color:#BBBBBB;' rowspan = '2'><center>1</center></th><th style='border:1px solid black;color:black;background-color:#BBBBBB'><center>0</center></th><td style='color:black;background-color:#d2ab64;text-align:right;'>0.3482</td><td style='color:black;background-color:#abd264;text-align:right;'>0.6518</td></tr>\n",
       "<tr><th style='border:1px solid black;color:black;background-color:#BBBBBB'><center>1</center></th><td style='color:black;background-color:#a8d564;text-align:right;'>0.6743</td><td style='color:black;background-color:#d5a864;text-align:right;'>0.3257</td></tr>\n",
       "</table>"
      ],
      "text/plain": [
       "(gum::Potential<double>@0x563e55b3bf20) <B:0|A:0|C:0> :: 0.23221 /<B:1|A:0|C:0> :: 0.76779 /<B:0|A:1|C:0> :: 0.664676 /<B:1|A:1|C:0> :: 0.335324 /<B:0|A:0|C:1> :: 0.348192 /<B:1|A:0|C:1> :: 0.651808 /<B:0|A:1|C:1> :: 0.67429 /<B:1|A:1|C:1> :: 0.32571"
      ]
     },
     "execution_count": 296,
     "metadata": {},
     "output_type": "execute_result"
    }
   ],
   "source": [
    "ppp = bn.cpt(1) * pot\n",
    "ppp"
   ]
  },
  {
   "cell_type": "code",
   "execution_count": 297,
   "metadata": {},
   "outputs": [
    {
     "data": {
      "text/html": [
       "<table style=\"border:1px solid black;\">\n",
       "<tr><th colspan='2'></th><th colspan='2' style='border:1px solid black;color:black;background-color:#808080;'><center>B</center></th></tr>\n",
       "<tr><th style='border:1px solid black;color:black;background-color:#808080'><center>C</center></th><th style='border:1px solid black;color:black;background-color:#808080'><center>A</center></th><th style='border:1px solid black;border-bottom-style: double;color:black;background-color:#BBBBBB'><center>0</center></th><th style='border:1px solid black;border-bottom-style: double;color:black;background-color:#BBBBBB'><center>1</center></th></tr>\n",
       "<tr><th style='border:1px solid black;color:black;background-color:#BBBBBB;' rowspan = '2'><center>0</center></th><th style='border:1px solid black;color:black;background-color:#BBBBBB'><center>0</center></th><td style='color:black;background-color:#e19c64;text-align:right;'>0.2322</td><td style='color:black;background-color:#9ce164;text-align:right;'>0.7678</td></tr>\n",
       "<tr><th style='border:1px solid black;color:black;background-color:#BBBBBB'><center>1</center></th><td style='color:black;background-color:#a9d464;text-align:right;'>0.6647</td><td style='color:black;background-color:#d4a964;text-align:right;'>0.3353</td></tr>\n",
       "<tr><th style='border:1px solid black;color:black;background-color:#BBBBBB;' rowspan = '2'><center>1</center></th><th style='border:1px solid black;color:black;background-color:#BBBBBB'><center>0</center></th><td style='color:black;background-color:#d2ab64;text-align:right;'>0.3482</td><td style='color:black;background-color:#abd264;text-align:right;'>0.6518</td></tr>\n",
       "<tr><th style='border:1px solid black;color:black;background-color:#BBBBBB'><center>1</center></th><td style='color:black;background-color:#a8d564;text-align:right;'>0.6743</td><td style='color:black;background-color:#d5a864;text-align:right;'>0.3257</td></tr>\n",
       "</table>"
      ],
      "text/plain": [
       "(gum::Potential<double>@0x563e5564e020) <B:0|A:0|C:0> :: 0.23221 /<B:1|A:0|C:0> :: 0.76779 /<B:0|A:1|C:0> :: 0.664676 /<B:1|A:1|C:0> :: 0.335324 /<B:0|A:0|C:1> :: 0.348192 /<B:1|A:0|C:1> :: 0.651808 /<B:0|A:1|C:1> :: 0.67429 /<B:1|A:1|C:1> :: 0.32571"
      ]
     },
     "execution_count": 297,
     "metadata": {},
     "output_type": "execute_result"
    }
   ],
   "source": [
    "bn.cpt(1)"
   ]
  },
  {
   "cell_type": "code",
   "execution_count": null,
   "metadata": {},
   "outputs": [],
   "source": []
  },
  {
   "attachments": {
    "image.png": {
     "image/png": "[encoded data removed]"
    }
   },
   "cell_type": "markdown",
   "metadata": {},
   "source": [
    "Proposer un code buildLDPC(bits,parity) qui, à partir d'une liste de bits (bits=['x1','x2','x3']) et d'un dictionnaire indiquant les contraintes de parité (parity={'pc1':['x1','x2'],'pc2':['x1','x2','x3']}), construit le réseau bayésien correspondant.\n",
    "![image.png](attachment:image.png)"
   ]
  },
  {
   "cell_type": "code",
   "execution_count": 268,
   "metadata": {},
   "outputs": [],
   "source": [
    "def buildLDPC(bits,parity):\n",
    "    bn=gum.BayesNet('LDPC')\n",
    "    for bit in bits:\n",
    "        bn.add(gum.LabelizedVariable(bit,bit+'name',2))\n",
    "    for pc, bits_ in parity.items():\n",
    "        bn.add(gum.LabelizedVariable(pc,pc+'name',2))\n",
    "        for bit in bits_:\n",
    "            bn.addArc(bit,pc)\n",
    "    return bn"
   ]
  },
  {
   "cell_type": "code",
   "execution_count": 272,
   "metadata": {},
   "outputs": [
    {
     "data": {
      "image/svg+xml": [
       "<svg height=\"116pt\" viewBox=\"0.00 0.00 206.00 116.00\" width=\"206pt\" xmlns=\"http://www.w3.org/2000/svg\" xmlns:xlink=\"http://www.w3.org/1999/xlink\">\n",
       "<g class=\"graph\" id=\"graph0\" transform=\"scale(1 1) rotate(0) translate(4 112)\">\n",
       "<title>G</title>\n",
       "<!-- x1 -->\n",
       "<g class=\"node\" id=\"node1\">\n",
       "<title>x1</title>\n",
       "<g id=\"a_node1\"><a xlink:title=\"(0) x1\">\n",
       "<ellipse cx=\"99\" cy=\"-90\" fill=\"#404040\" rx=\"27\" ry=\"18\" stroke=\"#000000\"/>\n",
       "<text fill=\"#ffffff\" font-family=\"Times,serif\" font-size=\"14.00\" text-anchor=\"middle\" x=\"99\" y=\"-86.3\">x1</text>\n",
       "</a>\n",
       "</g>\n",
       "</g>\n",
       "<!-- pc1 -->\n",
       "<g class=\"node\" id=\"node4\">\n",
       "<title>pc1</title>\n",
       "<g id=\"a_node4\"><a xlink:title=\"(3) pc1\">\n",
       "<ellipse cx=\"27\" cy=\"-18\" fill=\"#404040\" rx=\"27\" ry=\"18\" stroke=\"#000000\"/>\n",
       "<text fill=\"#ffffff\" font-family=\"Times,serif\" font-size=\"14.00\" text-anchor=\"middle\" x=\"27\" y=\"-14.3\">pc1</text>\n",
       "</a>\n",
       "</g>\n",
       "</g>\n",
       "<!-- x1&#45;&gt;pc1 -->\n",
       "<g class=\"edge\" id=\"edge4\">\n",
       "<title>x1-&gt;pc1</title>\n",
       "<g id=\"a_edge4\"><a xlink:title=\"(0, 3) : \">\n",
       "<path d=\"M83.7307,-74.7307C73.803,-64.803 60.6847,-51.6847 49.5637,-40.5637\" fill=\"none\" stroke=\"#4a4a4a\"/>\n",
       "<polygon fill=\"#4a4a4a\" points=\"51.7933,-37.8436 42.2473,-33.2473 46.8436,-42.7933 51.7933,-37.8436\" stroke=\"#4a4a4a\"/>\n",
       "</a>\n",
       "</g>\n",
       "</g>\n",
       "<!-- pc2 -->\n",
       "<g class=\"node\" id=\"node5\">\n",
       "<title>pc2</title>\n",
       "<g id=\"a_node5\"><a xlink:title=\"(4) pc2\">\n",
       "<ellipse cx=\"99\" cy=\"-18\" fill=\"#404040\" rx=\"27\" ry=\"18\" stroke=\"#000000\"/>\n",
       "<text fill=\"#ffffff\" font-family=\"Times,serif\" font-size=\"14.00\" text-anchor=\"middle\" x=\"99\" y=\"-14.3\">pc2</text>\n",
       "</a>\n",
       "</g>\n",
       "</g>\n",
       "<!-- x1&#45;&gt;pc2 -->\n",
       "<g class=\"edge\" id=\"edge3\">\n",
       "<title>x1-&gt;pc2</title>\n",
       "<g id=\"a_edge3\"><a xlink:title=\"(0, 4) : \">\n",
       "<path d=\"M99,-71.8314C99,-64.131 99,-54.9743 99,-46.4166\" fill=\"none\" stroke=\"#4a4a4a\"/>\n",
       "<polygon fill=\"#4a4a4a\" points=\"102.5001,-46.4132 99,-36.4133 95.5001,-46.4133 102.5001,-46.4132\" stroke=\"#4a4a4a\"/>\n",
       "</a>\n",
       "</g>\n",
       "</g>\n",
       "<!-- x2 -->\n",
       "<g class=\"node\" id=\"node2\">\n",
       "<title>x2</title>\n",
       "<g id=\"a_node2\"><a xlink:title=\"(1) x2\">\n",
       "<ellipse cx=\"27\" cy=\"-90\" fill=\"#404040\" rx=\"27\" ry=\"18\" stroke=\"#000000\"/>\n",
       "<text fill=\"#ffffff\" font-family=\"Times,serif\" font-size=\"14.00\" text-anchor=\"middle\" x=\"27\" y=\"-86.3\">x2</text>\n",
       "</a>\n",
       "</g>\n",
       "</g>\n",
       "<!-- x2&#45;&gt;pc1 -->\n",
       "<g class=\"edge\" id=\"edge1\">\n",
       "<title>x2-&gt;pc1</title>\n",
       "<g id=\"a_edge1\"><a xlink:title=\"(1, 3) : \">\n",
       "<path d=\"M27,-71.8314C27,-64.131 27,-54.9743 27,-46.4166\" fill=\"none\" stroke=\"#4a4a4a\"/>\n",
       "<polygon fill=\"#4a4a4a\" points=\"30.5001,-46.4132 27,-36.4133 23.5001,-46.4133 30.5001,-46.4132\" stroke=\"#4a4a4a\"/>\n",
       "</a>\n",
       "</g>\n",
       "</g>\n",
       "<!-- x2&#45;&gt;pc2 -->\n",
       "<g class=\"edge\" id=\"edge2\">\n",
       "<title>x2-&gt;pc2</title>\n",
       "<g id=\"a_edge2\"><a xlink:title=\"(1, 4) : \">\n",
       "<path d=\"M42.2693,-74.7307C52.197,-64.803 65.3153,-51.6847 76.4363,-40.5637\" fill=\"none\" stroke=\"#4a4a4a\"/>\n",
       "<polygon fill=\"#4a4a4a\" points=\"79.1564,-42.7933 83.7527,-33.2473 74.2067,-37.8436 79.1564,-42.7933\" stroke=\"#4a4a4a\"/>\n",
       "</a>\n",
       "</g>\n",
       "</g>\n",
       "<!-- x3 -->\n",
       "<g class=\"node\" id=\"node3\">\n",
       "<title>x3</title>\n",
       "<g id=\"a_node3\"><a xlink:title=\"(2) x3\">\n",
       "<ellipse cx=\"171\" cy=\"-90\" fill=\"#404040\" rx=\"27\" ry=\"18\" stroke=\"#000000\"/>\n",
       "<text fill=\"#ffffff\" font-family=\"Times,serif\" font-size=\"14.00\" text-anchor=\"middle\" x=\"171\" y=\"-86.3\">x3</text>\n",
       "</a>\n",
       "</g>\n",
       "</g>\n",
       "<!-- x3&#45;&gt;pc2 -->\n",
       "<g class=\"edge\" id=\"edge5\">\n",
       "<title>x3-&gt;pc2</title>\n",
       "<g id=\"a_edge5\"><a xlink:title=\"(2, 4) : \">\n",
       "<path d=\"M155.7307,-74.7307C145.803,-64.803 132.6847,-51.6847 121.5637,-40.5637\" fill=\"none\" stroke=\"#4a4a4a\"/>\n",
       "<polygon fill=\"#4a4a4a\" points=\"123.7933,-37.8436 114.2473,-33.2473 118.8436,-42.7933 123.7933,-37.8436\" stroke=\"#4a4a4a\"/>\n",
       "</a>\n",
       "</g>\n",
       "</g>\n",
       "</g>\n",
       "</svg>"
      ],
      "text/plain": [
       "<IPython.core.display.SVG object>"
      ]
     },
     "metadata": {},
     "output_type": "display_data"
    }
   ],
   "source": [
    "bn = buildLDPC(['x1','x2','x3'],{'pc1':['x1','x2'],'pc2':['x1','x2','x3']})\n",
    "gnb.showBN(bn)"
   ]
  },
  {
   "cell_type": "code",
   "execution_count": 282,
   "metadata": {},
   "outputs": [
    {
     "name": "stdout",
     "output_type": "stream",
     "text": [
      "cpt 0 : <x1:0> :: 0 /<x1:1> :: 0\n",
      "cpt 1 : <x2:0> :: 0 /<x2:1> :: 0\n",
      "cpt 2 : <x3:0> :: 0 /<x3:1> :: 0\n",
      "cpt 3 : <pc1:0|x1:0|x2:0> :: 0 /<pc1:1|x1:0|x2:0> :: 0 /<pc1:0|x1:1|x2:0> :: 0 /<pc1:1|x1:1|x2:0> :: 0 /<pc1:0|x1:0|x2:1> :: 0 /<pc1:1|x1:0|x2:1> :: 0 /<pc1:0|x1:1|x2:1> :: 0 /<pc1:1|x1:1|x2:1> :: 0\n",
      "cpt 4 : <pc2:0|x1:0|x2:0|x3:0> :: 0 /<pc2:1|x1:0|x2:0|x3:0> :: 0 /<pc2:0|x1:1|x2:0|x3:0> :: 0 /<pc2:1|x1:1|x2:0|x3:0> :: 0 /<pc2:0|x1:0|x2:1|x3:0> :: 0 /<pc2:1|x1:0|x2:1|x3:0> :: 0 /<pc2:0|x1:1|x2:1|x3:0> :: 0 /<pc2:1|x1:1|x2:1|x3:0> :: 0 /<pc2:0|x1:0|x2:0|x3:1> :: 0 /<pc2:1|x1:0|x2:0|x3:1> :: 0 /<pc2:0|x1:1|x2:0|x3:1> :: 0 /<pc2:1|x1:1|x2:0|x3:1> :: 0 /<pc2:0|x1:0|x2:1|x3:1> :: 0 /<pc2:1|x1:0|x2:1|x3:1> :: 0 /<pc2:0|x1:1|x2:1|x3:1> :: 0 /<pc2:1|x1:1|x2:1|x3:1> :: 0\n"
     ]
    }
   ],
   "source": [
    "for i in bn.nodes():\n",
    "    bn.cpt(i)\n",
    "    print(\"cpt {} : {}\".format(i,bn.cpt(i)))"
   ]
  },
  {
   "cell_type": "code",
   "execution_count": 275,
   "metadata": {},
   "outputs": [],
   "source": [
    "message = {\"x1\":1,\"x3\":1,'pc2':0}"
   ]
  },
  {
   "cell_type": "code",
   "execution_count": null,
   "metadata": {},
   "outputs": [],
   "source": []
  }
 ],
 "metadata": {
  "kernelspec": {
   "display_name": "Python 3",
   "language": "python",
   "name": "python3"
  },
  "language_info": {
   "codemirror_mode": {
    "name": "ipython",
    "version": 3
   },
   "file_extension": ".py",
   "mimetype": "text/x-python",
   "name": "python",
   "nbconvert_exporter": "python",
   "pygments_lexer": "ipython3",
   "version": "3.7.4"
  }
 },
 "nbformat": 4,
 "nbformat_minor": 4
}
