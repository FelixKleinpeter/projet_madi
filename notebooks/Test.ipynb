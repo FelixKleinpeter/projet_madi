{
 "cells": [
  {
   "cell_type": "code",
   "execution_count": 1,
   "metadata": {},
   "outputs": [],
   "source": [
    "import pyAgrum as gum\n",
    "import pyAgrum.lib.notebook as gnb\n",
    "import math\n",
    "import pydotplus as dot\n",
    "from IPython.display import SVG\n",
    "import numpy as np"
   ]
  },
  {
   "cell_type": "code",
   "execution_count": 2,
   "metadata": {},
   "outputs": [],
   "source": [
    "%reload_ext autoreload\n",
    "%autoreload 2\n",
    "from projet_madi import *"
   ]
  },
  {
   "cell_type": "code",
   "execution_count": 3,
   "metadata": {},
   "outputs": [
    {
     "data": {
      "image/svg+xml": [
       "<svg height=\"116pt\" viewBox=\"0.00 0.00 206.00 116.00\" width=\"206pt\" xmlns=\"http://www.w3.org/2000/svg\" xmlns:xlink=\"http://www.w3.org/1999/xlink\">\n",
       "<g class=\"graph\" id=\"graph0\" transform=\"scale(1 1) rotate(0) translate(4 112)\">\n",
       "<title>G</title>\n",
       "<!-- A -->\n",
       "<g class=\"node\" id=\"node1\">\n",
       "<title>A</title>\n",
       "<g id=\"a_node1\"><a xlink:title=\"(0) A\">\n",
       "<ellipse cx=\"27\" cy=\"-90\" fill=\"#404040\" rx=\"27\" ry=\"18\" stroke=\"#000000\"/>\n",
       "<text fill=\"#ffffff\" font-family=\"Times,serif\" font-size=\"14.00\" text-anchor=\"middle\" x=\"27\" y=\"-86.3\">A</text>\n",
       "</a>\n",
       "</g>\n",
       "</g>\n",
       "<!-- B -->\n",
       "<g class=\"node\" id=\"node2\">\n",
       "<title>B</title>\n",
       "<g id=\"a_node2\"><a xlink:title=\"(1) B\">\n",
       "<ellipse cx=\"45\" cy=\"-18\" fill=\"#404040\" rx=\"27\" ry=\"18\" stroke=\"#000000\"/>\n",
       "<text fill=\"#ffffff\" font-family=\"Times,serif\" font-size=\"14.00\" text-anchor=\"middle\" x=\"45\" y=\"-14.3\">B</text>\n",
       "</a>\n",
       "</g>\n",
       "</g>\n",
       "<!-- A&#45;&gt;B -->\n",
       "<g class=\"edge\" id=\"edge1\">\n",
       "<title>A-&gt;B</title>\n",
       "<g id=\"a_edge1\"><a xlink:title=\"(0, 1) : \">\n",
       "<path d=\"M31.4494,-72.2022C33.4398,-64.2406 35.8332,-54.6671 38.0511,-45.7957\" fill=\"none\" stroke=\"#4a4a4a\"/>\n",
       "<polygon fill=\"#4a4a4a\" points=\"41.5094,-46.3929 40.5394,-35.8425 34.7184,-44.6951 41.5094,-46.3929\" stroke=\"#4a4a4a\"/>\n",
       "</a>\n",
       "</g>\n",
       "</g>\n",
       "<!-- C -->\n",
       "<g class=\"node\" id=\"node3\">\n",
       "<title>C</title>\n",
       "<g id=\"a_node3\"><a xlink:title=\"(2) C\">\n",
       "<ellipse cx=\"99\" cy=\"-90\" fill=\"#404040\" rx=\"27\" ry=\"18\" stroke=\"#000000\"/>\n",
       "<text fill=\"#ffffff\" font-family=\"Times,serif\" font-size=\"14.00\" text-anchor=\"middle\" x=\"99\" y=\"-86.3\">C</text>\n",
       "</a>\n",
       "</g>\n",
       "</g>\n",
       "<!-- C&#45;&gt;B -->\n",
       "<g class=\"edge\" id=\"edge4\">\n",
       "<title>C-&gt;B</title>\n",
       "<g id=\"a_edge4\"><a xlink:title=\"(2, 1) : \">\n",
       "<path d=\"M86.7466,-73.6621C79.8423,-64.4564 71.0823,-52.7764 63.3715,-42.4953\" fill=\"none\" stroke=\"#4a4a4a\"/>\n",
       "<polygon fill=\"#4a4a4a\" points=\"66.005,-40.1733 57.2049,-34.2733 60.405,-44.3733 66.005,-40.1733\" stroke=\"#4a4a4a\"/>\n",
       "</a>\n",
       "</g>\n",
       "</g>\n",
       "<!-- E -->\n",
       "<g class=\"node\" id=\"node4\">\n",
       "<title>E</title>\n",
       "<g id=\"a_node4\"><a xlink:title=\"(3) E\">\n",
       "<ellipse cx=\"153\" cy=\"-18\" fill=\"#404040\" rx=\"27\" ry=\"18\" stroke=\"#000000\"/>\n",
       "<text fill=\"#ffffff\" font-family=\"Times,serif\" font-size=\"14.00\" text-anchor=\"middle\" x=\"153\" y=\"-14.3\">E</text>\n",
       "</a>\n",
       "</g>\n",
       "</g>\n",
       "<!-- C&#45;&gt;E -->\n",
       "<g class=\"edge\" id=\"edge3\">\n",
       "<title>C-&gt;E</title>\n",
       "<g id=\"a_edge3\"><a xlink:title=\"(2, 3) : \">\n",
       "<path d=\"M111.2534,-73.6621C118.1577,-64.4564 126.9177,-52.7764 134.6285,-42.4953\" fill=\"none\" stroke=\"#4a4a4a\"/>\n",
       "<polygon fill=\"#4a4a4a\" points=\"137.595,-44.3733 140.7951,-34.2733 131.995,-40.1733 137.595,-44.3733\" stroke=\"#4a4a4a\"/>\n",
       "</a>\n",
       "</g>\n",
       "</g>\n",
       "<!-- D -->\n",
       "<g class=\"node\" id=\"node5\">\n",
       "<title>D</title>\n",
       "<g id=\"a_node5\"><a xlink:title=\"(4) D\">\n",
       "<ellipse cx=\"171\" cy=\"-90\" fill=\"#404040\" rx=\"27\" ry=\"18\" stroke=\"#000000\"/>\n",
       "<text fill=\"#ffffff\" font-family=\"Times,serif\" font-size=\"14.00\" text-anchor=\"middle\" x=\"171\" y=\"-86.3\">D</text>\n",
       "</a>\n",
       "</g>\n",
       "</g>\n",
       "<!-- D&#45;&gt;E -->\n",
       "<g class=\"edge\" id=\"edge2\">\n",
       "<title>D-&gt;E</title>\n",
       "<g id=\"a_edge2\"><a xlink:title=\"(4, 3) : \">\n",
       "<path d=\"M166.5506,-72.2022C164.5602,-64.2406 162.1668,-54.6671 159.9489,-45.7957\" fill=\"none\" stroke=\"#4a4a4a\"/>\n",
       "<polygon fill=\"#4a4a4a\" points=\"163.2816,-44.6951 157.4606,-35.8425 156.4906,-46.3929 163.2816,-44.6951\" stroke=\"#4a4a4a\"/>\n",
       "</a>\n",
       "</g>\n",
       "</g>\n",
       "</g>\n",
       "</svg>"
      ],
      "text/plain": [
       "<IPython.core.display.SVG object>"
      ]
     },
     "metadata": {},
     "output_type": "display_data"
    }
   ],
   "source": [
    "bn=gum.fastBN(\"A->B<-C->E<-D\")\n",
    "gnb.showBN(bn)"
   ]
  },
  {
   "cell_type": "code",
   "execution_count": 4,
   "metadata": {},
   "outputs": [
    {
     "data": {
      "image/svg+xml": [
       "<svg height=\"215pt\" viewBox=\"0.00 0.00 445.11 214.56\" width=\"445pt\" xmlns=\"http://www.w3.org/2000/svg\" xmlns:xlink=\"http://www.w3.org/1999/xlink\">\n",
       "<g class=\"graph\" id=\"graph0\" transform=\"scale(1 1) rotate(0) translate(4 210.5612)\">\n",
       "<title>FG</title>\n",
       "<polygon fill=\"#ffffff\" points=\"-4,4 -4,-210.5612 441.1087,-210.5612 441.1087,4 -4,4\" stroke=\"transparent\"/>\n",
       "<!-- A -->\n",
       "<g class=\"node\" id=\"node1\">\n",
       "<title>A</title>\n",
       "<polygon fill=\"#ff7f50\" points=\"74.2771,-69.3806 64.2771,-69.3806 64.2771,-54.3806 74.2771,-54.3806 74.2771,-69.3806\" stroke=\"#ff7f50\"/>\n",
       "<text fill=\"#000000\" font-family=\"Times,serif\" font-size=\"14.00\" text-anchor=\"middle\" x=\"69.2771\" y=\"-58.1806\">A</text>\n",
       "</g>\n",
       "<!-- B -->\n",
       "<g class=\"node\" id=\"node2\">\n",
       "<title>B</title>\n",
       "<polygon fill=\"#ff7f50\" points=\"108.8784,-186.8403 98.8784,-186.8403 98.8784,-171.8403 108.8784,-171.8403 108.8784,-186.8403\" stroke=\"#ff7f50\"/>\n",
       "<text fill=\"#000000\" font-family=\"Times,serif\" font-size=\"14.00\" text-anchor=\"middle\" x=\"103.8784\" y=\"-175.6403\">B</text>\n",
       "</g>\n",
       "<!-- C -->\n",
       "<g class=\"node\" id=\"node3\">\n",
       "<title>C</title>\n",
       "<polygon fill=\"#ff7f50\" points=\"221.1975,-89.0093 211.1975,-89.0093 211.1975,-74.0093 221.1975,-74.0093 221.1975,-89.0093\" stroke=\"#ff7f50\"/>\n",
       "<text fill=\"#000000\" font-family=\"Times,serif\" font-size=\"14.00\" text-anchor=\"middle\" x=\"216.1975\" y=\"-77.8093\">C</text>\n",
       "</g>\n",
       "<!-- E -->\n",
       "<g class=\"node\" id=\"node4\">\n",
       "<title>E</title>\n",
       "<polygon fill=\"#ff7f50\" points=\"312.3127,-206.5612 303.3127,-206.5612 303.3127,-191.5612 312.3127,-191.5612 312.3127,-206.5612\" stroke=\"#ff7f50\"/>\n",
       "<text fill=\"#000000\" font-family=\"Times,serif\" font-size=\"14.00\" text-anchor=\"middle\" x=\"307.8127\" y=\"-195.3612\">E</text>\n",
       "</g>\n",
       "<!-- D -->\n",
       "<g class=\"node\" id=\"node5\">\n",
       "<title>D</title>\n",
       "<polygon fill=\"#ff7f50\" points=\"369.2044,-98.1656 359.2044,-98.1656 359.2044,-83.1656 369.2044,-83.1656 369.2044,-98.1656\" stroke=\"#ff7f50\"/>\n",
       "<text fill=\"#000000\" font-family=\"Times,serif\" font-size=\"14.00\" text-anchor=\"middle\" x=\"364.2044\" y=\"-86.9656\">D</text>\n",
       "</g>\n",
       "<!-- pA -->\n",
       "<g class=\"node\" id=\"node6\">\n",
       "<title>pA</title>\n",
       "<ellipse cx=\"0\" cy=\"-33.7959\" fill=\"#ff7f50\" rx=\"0\" ry=\"0\" stroke=\"#ff7f50\"/>\n",
       "</g>\n",
       "<!-- pA&#45;&#45;A -->\n",
       "<g class=\"edge\" id=\"edge1\">\n",
       "<title>pA--A</title>\n",
       "<path d=\"M.0502,-33.8163C1.7874,-34.5205 48.1226,-53.3046 63.999,-59.7409\" fill=\"none\" stroke=\"#000000\"/>\n",
       "</g>\n",
       "<!-- pBgCA -->\n",
       "<g class=\"node\" id=\"node7\">\n",
       "<title>pBgCA</title>\n",
       "<ellipse cx=\"136.418\" cy=\"-105.1342\" fill=\"#ff7f50\" rx=\"0\" ry=\"0\" stroke=\"#ff7f50\"/>\n",
       "</g>\n",
       "<!-- pBgCA&#45;&#45;A -->\n",
       "<g class=\"edge\" id=\"edge3\">\n",
       "<title>pBgCA--A</title>\n",
       "<path d=\"M136.3694,-105.1028C134.6857,-104.0182 89.7794,-75.0886 74.3925,-65.176\" fill=\"none\" stroke=\"#000000\"/>\n",
       "</g>\n",
       "<!-- pBgCA&#45;&#45;B -->\n",
       "<g class=\"edge\" id=\"edge4\">\n",
       "<title>pBgCA--B</title>\n",
       "<path d=\"M136.3944,-105.1879C135.6093,-106.9786 115.4275,-153.0028 107.261,-171.6263\" fill=\"none\" stroke=\"#000000\"/>\n",
       "</g>\n",
       "<!-- pBgCA&#45;&#45;C -->\n",
       "<g class=\"edge\" id=\"edge2\">\n",
       "<title>pBgCA--C</title>\n",
       "<path d=\"M136.4758,-105.117C138.5142,-104.5134 193.8678,-88.1217 211.1161,-83.0141\" fill=\"none\" stroke=\"#000000\"/>\n",
       "</g>\n",
       "<!-- pC -->\n",
       "<g class=\"node\" id=\"node8\">\n",
       "<title>pC</title>\n",
       "<ellipse cx=\"224.0533\" cy=\"0\" fill=\"#ff7f50\" rx=\"0\" ry=\"0\" stroke=\"#ff7f50\"/>\n",
       "</g>\n",
       "<!-- pC&#45;&#45;C -->\n",
       "<g class=\"edge\" id=\"edge5\">\n",
       "<title>pC--C</title>\n",
       "<path d=\"M224.0476,-.0591C223.8552,-2.0548 218.8414,-54.0772 216.9291,-73.9189\" fill=\"none\" stroke=\"#000000\"/>\n",
       "</g>\n",
       "<!-- pEgDC -->\n",
       "<g class=\"node\" id=\"node9\">\n",
       "<title>pEgDC</title>\n",
       "<ellipse cx=\"289.9822\" cy=\"-120.0003\" fill=\"#ff7f50\" rx=\"0\" ry=\"0\" stroke=\"#ff7f50\"/>\n",
       "</g>\n",
       "<!-- pEgDC&#45;&#45;C -->\n",
       "<g class=\"edge\" id=\"edge7\">\n",
       "<title>pEgDC--C</title>\n",
       "<path d=\"M289.9287,-119.9724C288.061,-118.9981 237.7931,-92.775 221.3493,-84.1968\" fill=\"none\" stroke=\"#000000\"/>\n",
       "</g>\n",
       "<!-- pEgDC&#45;&#45;E -->\n",
       "<g class=\"edge\" id=\"edge8\">\n",
       "<title>pEgDC--E</title>\n",
       "<path d=\"M289.9951,-120.0576C290.4296,-121.9841 301.7021,-171.9667 306.0888,-191.4176\" fill=\"none\" stroke=\"#000000\"/>\n",
       "</g>\n",
       "<!-- pEgDC&#45;&#45;D -->\n",
       "<g class=\"edge\" id=\"edge6\">\n",
       "<title>pEgDC--D</title>\n",
       "<path d=\"M290.036,-119.9791C291.9148,-119.2365 342.4807,-99.2514 359.0221,-92.7138\" fill=\"none\" stroke=\"#000000\"/>\n",
       "</g>\n",
       "<!-- pD -->\n",
       "<g class=\"node\" id=\"node10\">\n",
       "<title>pD</title>\n",
       "<ellipse cx=\"437.1087\" cy=\"-74.1831\" fill=\"#ff7f50\" rx=\"0\" ry=\"0\" stroke=\"#ff7f50\"/>\n",
       "</g>\n",
       "<!-- pD&#45;&#45;D -->\n",
       "<g class=\"edge\" id=\"edge9\">\n",
       "<title>pD--D</title>\n",
       "<path d=\"M437.0559,-74.195C435.2104,-74.6122 385.5423,-85.8414 369.2947,-89.5147\" fill=\"none\" stroke=\"#000000\"/>\n",
       "</g>\n",
       "</g>\n",
       "</svg>"
      ],
      "text/plain": [
       "<IPython.core.display.SVG object>"
      ]
     },
     "execution_count": 4,
     "metadata": {},
     "output_type": "execute_result"
    }
   ],
   "source": [
    "fg=FactorGraph()\n",
    "fg.build(bn)\n",
    "fg.show()"
   ]
  },
  {
   "cell_type": "code",
   "execution_count": 21,
   "metadata": {},
   "outputs": [
    {
     "data": {
      "text/html": [
       "<table style=\"border:1px solid black;\">\n",
       "<tr style='border:1px solid black;color:black;background-color:#808080'><th colspan='2'><center>A</center></th></tr>\n",
       "<tr><th style='border:1px solid black;border-bottom-style: double;color:black;background-color:#BBBBBB'><center>0</center></th><th style='border:1px solid black;border-bottom-style: double;color:black;background-color:#BBBBBB'><center>1</center></th></tr>\n",
       "<tr><td style='color:black;background-color:#f08d64;text-align:right;'>0.1105</td><td style='color:black;background-color:#8df064;text-align:right;'>0.8895</td></tr>\n",
       "</table>"
      ],
      "text/plain": [
       "(gum::Potential<double>@0x55bce5f0df10) <A:0> :: 0.11049 /<A:1> :: 0.88951"
      ]
     },
     "execution_count": 21,
     "metadata": {},
     "output_type": "execute_result"
    }
   ],
   "source": [
    "spi=TreeSumProductInference(fg) # Crée une instance d'inférence\n",
    "spi.makeInference() # effectue les calculs de tous les messages\n",
    "spi.posterior('A')"
   ]
  },
  {
   "cell_type": "code",
   "execution_count": 23,
   "metadata": {},
   "outputs": [
    {
     "data": {
      "text/html": [
       "<table style=\"border:1px solid black;\">\n",
       "<tr style='border:1px solid black;color:black;background-color:#808080'><th colspan='2'><center>A</center></th></tr>\n",
       "<tr><th style='border:1px solid black;border-bottom-style: double;color:black;background-color:#BBBBBB'><center>0</center></th><th style='border:1px solid black;border-bottom-style: double;color:black;background-color:#BBBBBB'><center>1</center></th></tr>\n",
       "<tr><td style='color:black;background-color:#f08d64;text-align:right;'>0.1105</td><td style='color:black;background-color:#8df064;text-align:right;'>0.8895</td></tr>\n",
       "</table>"
      ],
      "text/plain": [
       "(gum::Potential<double>@0x55bce543fbe0) <A:0> :: 0.11049 /<A:1> :: 0.88951"
      ]
     },
     "execution_count": 23,
     "metadata": {},
     "output_type": "execute_result"
    }
   ],
   "source": [
    "ie = gum.LazyPropagation(bn)\n",
    "ie.makeInference()\n",
    "ie.posterior(\"A\")"
   ]
  },
  {
   "cell_type": "code",
   "execution_count": 22,
   "metadata": {},
   "outputs": [
    {
     "data": {
      "text/plain": [
       "{'A': 1, 'B': 1, 'C': 1, 'E': 1, 'D': 1}"
      ]
     },
     "execution_count": 22,
     "metadata": {},
     "output_type": "execute_result"
    }
   ],
   "source": [
    "mpi=TreeMaxProductInference(fg) # Crée une instance d'inférence\n",
    "mpi.makeInference() # effectue les calculs de tous les messages\n",
    "mpi.argmax()"
   ]
  },
  {
   "cell_type": "code",
   "execution_count": 55,
   "metadata": {},
   "outputs": [
    {
     "name": "stderr",
     "output_type": "stream",
     "text": [
      "/home/felix/cours/m2/madi/notebooks/projet_madi.py:239: RuntimeWarning: divide by zero encountered in log\n",
      "  p[i] = f(e)\n"
     ]
    },
    {
     "data": {
      "text/plain": [
       "{'A': 0, 'B': 0, 'C': 0, 'E': 0, 'D': 1}"
      ]
     },
     "execution_count": 55,
     "metadata": {},
     "output_type": "execute_result"
    }
   ],
   "source": [
    "msi=TreeMaxSumInference(fg) # Crée une instance d'inférence\n",
    "msi.makeInference() # effectue les calculs de tous les messages\n",
    "msi.argmax()"
   ]
  },
  {
   "cell_type": "code",
   "execution_count": 53,
   "metadata": {},
   "outputs": [
    {
     "data": {
      "text/plain": [
       "'\\n\\n\\n\\n\\n\\n\\n\\n\\n\\n\\n\\n'"
      ]
     },
     "execution_count": 53,
     "metadata": {},
     "output_type": "execute_result"
    }
   ],
   "source": [
    "\"\"\"\n",
    "\n",
    "\n",
    "\n",
    "\n",
    "\n",
    "\n",
    "\n",
    "\n",
    "\n",
    "\n",
    "\n",
    "\"\"\""
   ]
  },
  {
   "attachments": {
    "image.png": {
     "image/png": "[encoded data removed]"
    }
   },
   "cell_type": "markdown",
   "metadata": {},
   "source": [
    "Proposer un code buildLDPC(bits,parity) qui, à partir d'une liste de bits (bits=['x1','x2','x3']) et d'un dictionnaire indiquant les contraintes de parité (parity={'pc1':['x1','x2'],'pc2':['x1','x2','x3']}), construit le réseau bayésien correspondant.\n",
    "![image.png](attachment:image.png)"
   ]
  },
  {
   "cell_type": "code",
   "execution_count": null,
   "metadata": {},
   "outputs": [],
   "source": [
    "def buildLDPC(bits,parity):\n",
    "    bn=gum.BayesNet('LDPC')\n",
    "    for bit in bits:\n",
    "        bn.add(gum.LabelizedVariable(bit,bit+'name',2))\n",
    "    for pc, bits_ in parity.items():\n",
    "        bn.add(gum.LabelizedVariable(pc,pc+'name',2))\n",
    "        for bit in bits_:\n",
    "            bn.addArc(bit,pc)\n",
    "    return bn"
   ]
  },
  {
   "cell_type": "code",
   "execution_count": null,
   "metadata": {},
   "outputs": [],
   "source": [
    "bn = buildLDPC(['x1','x2','x3'],{'pc1':['x1','x2'],'pc2':['x1','x2','x3']})\n",
    "gnb.showBN(bn)"
   ]
  },
  {
   "cell_type": "code",
   "execution_count": null,
   "metadata": {},
   "outputs": [],
   "source": [
    "for i in bn.nodes():\n",
    "    bn.cpt(i)\n",
    "    print(\"cpt {} : {}\".format(i,bn.cpt(i)))"
   ]
  },
  {
   "cell_type": "code",
   "execution_count": null,
   "metadata": {},
   "outputs": [],
   "source": [
    "message = {\"x1\":1,\"x3\":1,'pc2':0}"
   ]
  },
  {
   "cell_type": "code",
   "execution_count": null,
   "metadata": {},
   "outputs": [],
   "source": []
  }
 ],
 "metadata": {
  "kernelspec": {
   "display_name": "Python 3",
   "language": "python",
   "name": "python3"
  },
  "language_info": {
   "codemirror_mode": {
    "name": "ipython",
    "version": 3
   },
   "file_extension": ".py",
   "mimetype": "text/x-python",
   "name": "python",
   "nbconvert_exporter": "python",
   "pygments_lexer": "ipython3",
   "version": "3.7.4"
  }
 },
 "nbformat": 4,
 "nbformat_minor": 4
}
